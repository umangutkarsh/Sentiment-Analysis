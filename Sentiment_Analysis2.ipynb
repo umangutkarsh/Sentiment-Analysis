{
 "cells": [
  {
   "cell_type": "markdown",
   "id": "7db3ff02",
   "metadata": {},
   "source": [
    "### Importing the libraries for Data analysis and Data visualization"
   ]
  },
  {
   "cell_type": "code",
   "execution_count": 1,
   "id": "6da9072a",
   "metadata": {},
   "outputs": [],
   "source": [
    "import numpy as np\n",
    "import matplotlib.pyplot as plt\n",
    "import pandas as pd\n",
    "import seaborn as sns\n",
    "\n",
    "%matplotlib inline"
   ]
  },
  {
   "cell_type": "markdown",
   "id": "25e2d6c3",
   "metadata": {},
   "source": [
    "### Importing the Classes for implementing the classification models"
   ]
  },
  {
   "cell_type": "code",
   "execution_count": 2,
   "id": "27c0334d",
   "metadata": {},
   "outputs": [],
   "source": [
    "from sklearn.linear_model import LogisticRegression\n",
    "from sklearn.tree import DecisionTreeClassifier\n",
    "from sklearn.ensemble import RandomForestClassifier\n",
    "from sklearn.neighbors import KNeighborsClassifier\n",
    "from sklearn.svm import SVC\n",
    "from sklearn.naive_bayes import MultinomialNB\n",
    "from xgboost import XGBClassifier"
   ]
  },
  {
   "cell_type": "markdown",
   "id": "b1f0981a",
   "metadata": {},
   "source": [
    "### Uploading the Dataset which was taken from Kaggle.com"
   ]
  },
  {
   "cell_type": "code",
   "execution_count": 3,
   "id": "3ffa5f00",
   "metadata": {
    "scrolled": true
   },
   "outputs": [
    {
     "data": {
      "text/html": [
       "<div>\n",
       "<style scoped>\n",
       "    .dataframe tbody tr th:only-of-type {\n",
       "        vertical-align: middle;\n",
       "    }\n",
       "\n",
       "    .dataframe tbody tr th {\n",
       "        vertical-align: top;\n",
       "    }\n",
       "\n",
       "    .dataframe thead th {\n",
       "        text-align: right;\n",
       "    }\n",
       "</style>\n",
       "<table border=\"1\" class=\"dataframe\">\n",
       "  <thead>\n",
       "    <tr style=\"text-align: right;\">\n",
       "      <th></th>\n",
       "      <th>reviewerID</th>\n",
       "      <th>asin</th>\n",
       "      <th>reviewerName</th>\n",
       "      <th>helpful</th>\n",
       "      <th>reviewText</th>\n",
       "      <th>overall</th>\n",
       "      <th>summary</th>\n",
       "      <th>unixReviewTime</th>\n",
       "      <th>reviewTime</th>\n",
       "    </tr>\n",
       "  </thead>\n",
       "  <tbody>\n",
       "    <tr>\n",
       "      <th>0</th>\n",
       "      <td>A2IBPI20UZIR0U</td>\n",
       "      <td>1384719342</td>\n",
       "      <td>cassandra tu \"Yeah, well, that's just like, u...</td>\n",
       "      <td>[0, 0]</td>\n",
       "      <td>Not much to write about here, but it does exac...</td>\n",
       "      <td>5.0</td>\n",
       "      <td>good</td>\n",
       "      <td>1393545600</td>\n",
       "      <td>02 28, 2014</td>\n",
       "    </tr>\n",
       "    <tr>\n",
       "      <th>1</th>\n",
       "      <td>A14VAT5EAX3D9S</td>\n",
       "      <td>1384719342</td>\n",
       "      <td>Jake</td>\n",
       "      <td>[13, 14]</td>\n",
       "      <td>The product does exactly as it should and is q...</td>\n",
       "      <td>5.0</td>\n",
       "      <td>Jake</td>\n",
       "      <td>1363392000</td>\n",
       "      <td>03 16, 2013</td>\n",
       "    </tr>\n",
       "    <tr>\n",
       "      <th>2</th>\n",
       "      <td>A195EZSQDW3E21</td>\n",
       "      <td>1384719342</td>\n",
       "      <td>Rick Bennette \"Rick Bennette\"</td>\n",
       "      <td>[1, 1]</td>\n",
       "      <td>The primary job of this device is to block the...</td>\n",
       "      <td>5.0</td>\n",
       "      <td>It Does The Job Well</td>\n",
       "      <td>1377648000</td>\n",
       "      <td>08 28, 2013</td>\n",
       "    </tr>\n",
       "    <tr>\n",
       "      <th>3</th>\n",
       "      <td>A2C00NNG1ZQQG2</td>\n",
       "      <td>1384719342</td>\n",
       "      <td>RustyBill \"Sunday Rocker\"</td>\n",
       "      <td>[0, 0]</td>\n",
       "      <td>Nice windscreen protects my MXL mic and preven...</td>\n",
       "      <td>5.0</td>\n",
       "      <td>GOOD WINDSCREEN FOR THE MONEY</td>\n",
       "      <td>1392336000</td>\n",
       "      <td>02 14, 2014</td>\n",
       "    </tr>\n",
       "    <tr>\n",
       "      <th>4</th>\n",
       "      <td>A94QU4C90B1AX</td>\n",
       "      <td>1384719342</td>\n",
       "      <td>SEAN MASLANKA</td>\n",
       "      <td>[0, 0]</td>\n",
       "      <td>This pop filter is great. It looks and perform...</td>\n",
       "      <td>5.0</td>\n",
       "      <td>No more pops when I record my vocals.</td>\n",
       "      <td>1392940800</td>\n",
       "      <td>02 21, 2014</td>\n",
       "    </tr>\n",
       "  </tbody>\n",
       "</table>\n",
       "</div>"
      ],
      "text/plain": [
       "       reviewerID        asin  \\\n",
       "0  A2IBPI20UZIR0U  1384719342   \n",
       "1  A14VAT5EAX3D9S  1384719342   \n",
       "2  A195EZSQDW3E21  1384719342   \n",
       "3  A2C00NNG1ZQQG2  1384719342   \n",
       "4   A94QU4C90B1AX  1384719342   \n",
       "\n",
       "                                       reviewerName   helpful  \\\n",
       "0  cassandra tu \"Yeah, well, that's just like, u...    [0, 0]   \n",
       "1                                              Jake  [13, 14]   \n",
       "2                     Rick Bennette \"Rick Bennette\"    [1, 1]   \n",
       "3                         RustyBill \"Sunday Rocker\"    [0, 0]   \n",
       "4                                     SEAN MASLANKA    [0, 0]   \n",
       "\n",
       "                                          reviewText  overall  \\\n",
       "0  Not much to write about here, but it does exac...      5.0   \n",
       "1  The product does exactly as it should and is q...      5.0   \n",
       "2  The primary job of this device is to block the...      5.0   \n",
       "3  Nice windscreen protects my MXL mic and preven...      5.0   \n",
       "4  This pop filter is great. It looks and perform...      5.0   \n",
       "\n",
       "                                 summary  unixReviewTime   reviewTime  \n",
       "0                                   good      1393545600  02 28, 2014  \n",
       "1                                   Jake      1363392000  03 16, 2013  \n",
       "2                   It Does The Job Well      1377648000  08 28, 2013  \n",
       "3          GOOD WINDSCREEN FOR THE MONEY      1392336000  02 14, 2014  \n",
       "4  No more pops when I record my vocals.      1392940800  02 21, 2014  "
      ]
     },
     "execution_count": 3,
     "metadata": {},
     "output_type": "execute_result"
    }
   ],
   "source": [
    "dataset = pd.read_csv('Musical_instruments_reviews.csv')\n",
    "dataset.head()"
   ]
  },
  {
   "cell_type": "code",
   "execution_count": 4,
   "id": "15881b5a",
   "metadata": {},
   "outputs": [
    {
     "name": "stdout",
     "output_type": "stream",
     "text": [
      "<class 'pandas.core.frame.DataFrame'>\n",
      "RangeIndex: 10261 entries, 0 to 10260\n",
      "Data columns (total 9 columns):\n",
      " #   Column          Non-Null Count  Dtype  \n",
      "---  ------          --------------  -----  \n",
      " 0   reviewerID      10261 non-null  object \n",
      " 1   asin            10261 non-null  object \n",
      " 2   reviewerName    10234 non-null  object \n",
      " 3   helpful         10261 non-null  object \n",
      " 4   reviewText      10254 non-null  object \n",
      " 5   overall         10261 non-null  float64\n",
      " 6   summary         10261 non-null  object \n",
      " 7   unixReviewTime  10261 non-null  int64  \n",
      " 8   reviewTime      10261 non-null  object \n",
      "dtypes: float64(1), int64(1), object(7)\n",
      "memory usage: 721.6+ KB\n"
     ]
    }
   ],
   "source": [
    "dataset.info()"
   ]
  },
  {
   "cell_type": "code",
   "execution_count": 5,
   "id": "74d00fb9",
   "metadata": {},
   "outputs": [
    {
     "data": {
      "text/html": [
       "<div>\n",
       "<style scoped>\n",
       "    .dataframe tbody tr th:only-of-type {\n",
       "        vertical-align: middle;\n",
       "    }\n",
       "\n",
       "    .dataframe tbody tr th {\n",
       "        vertical-align: top;\n",
       "    }\n",
       "\n",
       "    .dataframe thead th {\n",
       "        text-align: right;\n",
       "    }\n",
       "</style>\n",
       "<table border=\"1\" class=\"dataframe\">\n",
       "  <thead>\n",
       "    <tr style=\"text-align: right;\">\n",
       "      <th></th>\n",
       "      <th>overall</th>\n",
       "      <th>unixReviewTime</th>\n",
       "    </tr>\n",
       "  </thead>\n",
       "  <tbody>\n",
       "    <tr>\n",
       "      <th>count</th>\n",
       "      <td>10261.000000</td>\n",
       "      <td>1.026100e+04</td>\n",
       "    </tr>\n",
       "    <tr>\n",
       "      <th>mean</th>\n",
       "      <td>4.488744</td>\n",
       "      <td>1.360606e+09</td>\n",
       "    </tr>\n",
       "    <tr>\n",
       "      <th>std</th>\n",
       "      <td>0.894642</td>\n",
       "      <td>3.779735e+07</td>\n",
       "    </tr>\n",
       "    <tr>\n",
       "      <th>min</th>\n",
       "      <td>1.000000</td>\n",
       "      <td>1.095466e+09</td>\n",
       "    </tr>\n",
       "    <tr>\n",
       "      <th>25%</th>\n",
       "      <td>4.000000</td>\n",
       "      <td>1.343434e+09</td>\n",
       "    </tr>\n",
       "    <tr>\n",
       "      <th>50%</th>\n",
       "      <td>5.000000</td>\n",
       "      <td>1.368490e+09</td>\n",
       "    </tr>\n",
       "    <tr>\n",
       "      <th>75%</th>\n",
       "      <td>5.000000</td>\n",
       "      <td>1.388966e+09</td>\n",
       "    </tr>\n",
       "    <tr>\n",
       "      <th>max</th>\n",
       "      <td>5.000000</td>\n",
       "      <td>1.405987e+09</td>\n",
       "    </tr>\n",
       "  </tbody>\n",
       "</table>\n",
       "</div>"
      ],
      "text/plain": [
       "            overall  unixReviewTime\n",
       "count  10261.000000    1.026100e+04\n",
       "mean       4.488744    1.360606e+09\n",
       "std        0.894642    3.779735e+07\n",
       "min        1.000000    1.095466e+09\n",
       "25%        4.000000    1.343434e+09\n",
       "50%        5.000000    1.368490e+09\n",
       "75%        5.000000    1.388966e+09\n",
       "max        5.000000    1.405987e+09"
      ]
     },
     "execution_count": 5,
     "metadata": {},
     "output_type": "execute_result"
    }
   ],
   "source": [
    "dataset.describe()"
   ]
  },
  {
   "cell_type": "markdown",
   "id": "9bd76bd4",
   "metadata": {},
   "source": [
    "### Plotting the Distribution of the overall-ratings column"
   ]
  },
  {
   "cell_type": "code",
   "execution_count": 6,
   "id": "35127196",
   "metadata": {},
   "outputs": [
    {
     "data": {
      "text/plain": [
       "<AxesSubplot:>"
      ]
     },
     "execution_count": 6,
     "metadata": {},
     "output_type": "execute_result"
    },
    {
     "data": {
      "image/png": "[encoded data removed]",
      "text/plain": [
       "<Figure size 432x288 with 1 Axes>"
      ]
     },
     "metadata": {
      "needs_background": "light"
     },
     "output_type": "display_data"
    }
   ],
   "source": [
    "colors = ['#06b216', '#af0000', '#0b51b7', '#7a00ba', '#ff7f0e']\n",
    "\n",
    "dataset['overall'].value_counts().plot.bar(color=colors)"
   ]
  },
  {
   "cell_type": "markdown",
   "id": "005be035",
   "metadata": {},
   "source": [
    "### Checking for any null values"
   ]
  },
  {
   "cell_type": "code",
   "execution_count": 7,
   "id": "95cd0c7c",
   "metadata": {},
   "outputs": [
    {
     "data": {
      "text/plain": [
       "reviewerID         0\n",
       "asin               0\n",
       "reviewerName      27\n",
       "helpful            0\n",
       "reviewText         7\n",
       "overall            0\n",
       "summary            0\n",
       "unixReviewTime     0\n",
       "reviewTime         0\n",
       "dtype: int64"
      ]
     },
     "execution_count": 7,
     "metadata": {},
     "output_type": "execute_result"
    }
   ],
   "source": [
    "dataset.isnull().sum()"
   ]
  },
  {
   "cell_type": "markdown",
   "id": "e3e892b5",
   "metadata": {},
   "source": [
    "The ReviewName doesn't have much importance in classifying the texts, so dropping that column, and since the 'reviewText column' has some missing values, so just filling it with 'empty'"
   ]
  },
  {
   "cell_type": "code",
   "execution_count": 8,
   "id": "8f4b033a",
   "metadata": {},
   "outputs": [],
   "source": [
    "dataset['reviewText'] = dataset['reviewText'].fillna('Empty')\n",
    "\n",
    "dataset.drop('reviewerName',axis=1,inplace=True)"
   ]
  },
  {
   "cell_type": "code",
   "execution_count": 9,
   "id": "40dd2f95",
   "metadata": {},
   "outputs": [],
   "source": [
    "dataset['Reviews'] = dataset['reviewText'] + dataset['summary']\n",
    "\n",
    "dataset.drop(['reviewText', 'summary'], axis=1, inplace=True)"
   ]
  },
  {
   "cell_type": "markdown",
   "id": "b708d418",
   "metadata": {},
   "source": [
    "#### Checking if the new column has correctly concatenated"
   ]
  },
  {
   "cell_type": "code",
   "execution_count": 10,
   "id": "ec633333",
   "metadata": {
    "scrolled": true
   },
   "outputs": [
    {
     "data": {
      "text/plain": [
       "\"Not much to write about here, but it does exactly what it's supposed to. filters out the pop sounds. now my recordings are much more crisp. it is one of the lowest prices pop filters on amazon so might as well buy it, they honestly work the same despite their pricing,good\""
      ]
     },
     "execution_count": 10,
     "metadata": {},
     "output_type": "execute_result"
    }
   ],
   "source": [
    "dataset['Reviews'].iloc[0]"
   ]
  },
  {
   "cell_type": "markdown",
   "id": "c1e755a7",
   "metadata": {},
   "source": [
    "#### Making a function to categorize the overall-ratings into 'Negative, Neutral, and Positive'"
   ]
  },
  {
   "cell_type": "code",
   "execution_count": 11,
   "id": "7fb10f16",
   "metadata": {},
   "outputs": [],
   "source": [
    "def categorize(dataset):\n",
    "    \n",
    "    if dataset['overall'] == 3:\n",
    "        result = 'Neutral'\n",
    "        \n",
    "    elif dataset['overall'] > 3:\n",
    "        result = 'Positive'\n",
    "        \n",
    "    elif dataset['overall'] < 3:\n",
    "        result = 'Negative'\n",
    "        \n",
    "    return result"
   ]
  },
  {
   "cell_type": "code",
   "execution_count": 12,
   "id": "61d00134",
   "metadata": {},
   "outputs": [
    {
     "data": {
      "text/html": [
       "<div>\n",
       "<style scoped>\n",
       "    .dataframe tbody tr th:only-of-type {\n",
       "        vertical-align: middle;\n",
       "    }\n",
       "\n",
       "    .dataframe tbody tr th {\n",
       "        vertical-align: top;\n",
       "    }\n",
       "\n",
       "    .dataframe thead th {\n",
       "        text-align: right;\n",
       "    }\n",
       "</style>\n",
       "<table border=\"1\" class=\"dataframe\">\n",
       "  <thead>\n",
       "    <tr style=\"text-align: right;\">\n",
       "      <th></th>\n",
       "      <th>reviewerID</th>\n",
       "      <th>asin</th>\n",
       "      <th>helpful</th>\n",
       "      <th>overall</th>\n",
       "      <th>unixReviewTime</th>\n",
       "      <th>reviewTime</th>\n",
       "      <th>Reviews</th>\n",
       "      <th>Sentiment</th>\n",
       "    </tr>\n",
       "  </thead>\n",
       "  <tbody>\n",
       "    <tr>\n",
       "      <th>0</th>\n",
       "      <td>A2IBPI20UZIR0U</td>\n",
       "      <td>1384719342</td>\n",
       "      <td>[0, 0]</td>\n",
       "      <td>5.0</td>\n",
       "      <td>1393545600</td>\n",
       "      <td>02 28, 2014</td>\n",
       "      <td>Not much to write about here, but it does exac...</td>\n",
       "      <td>Positive</td>\n",
       "    </tr>\n",
       "    <tr>\n",
       "      <th>1</th>\n",
       "      <td>A14VAT5EAX3D9S</td>\n",
       "      <td>1384719342</td>\n",
       "      <td>[13, 14]</td>\n",
       "      <td>5.0</td>\n",
       "      <td>1363392000</td>\n",
       "      <td>03 16, 2013</td>\n",
       "      <td>The product does exactly as it should and is q...</td>\n",
       "      <td>Positive</td>\n",
       "    </tr>\n",
       "    <tr>\n",
       "      <th>2</th>\n",
       "      <td>A195EZSQDW3E21</td>\n",
       "      <td>1384719342</td>\n",
       "      <td>[1, 1]</td>\n",
       "      <td>5.0</td>\n",
       "      <td>1377648000</td>\n",
       "      <td>08 28, 2013</td>\n",
       "      <td>The primary job of this device is to block the...</td>\n",
       "      <td>Positive</td>\n",
       "    </tr>\n",
       "    <tr>\n",
       "      <th>3</th>\n",
       "      <td>A2C00NNG1ZQQG2</td>\n",
       "      <td>1384719342</td>\n",
       "      <td>[0, 0]</td>\n",
       "      <td>5.0</td>\n",
       "      <td>1392336000</td>\n",
       "      <td>02 14, 2014</td>\n",
       "      <td>Nice windscreen protects my MXL mic and preven...</td>\n",
       "      <td>Positive</td>\n",
       "    </tr>\n",
       "    <tr>\n",
       "      <th>4</th>\n",
       "      <td>A94QU4C90B1AX</td>\n",
       "      <td>1384719342</td>\n",
       "      <td>[0, 0]</td>\n",
       "      <td>5.0</td>\n",
       "      <td>1392940800</td>\n",
       "      <td>02 21, 2014</td>\n",
       "      <td>This pop filter is great. It looks and perform...</td>\n",
       "      <td>Positive</td>\n",
       "    </tr>\n",
       "  </tbody>\n",
       "</table>\n",
       "</div>"
      ],
      "text/plain": [
       "       reviewerID        asin   helpful  overall  unixReviewTime   reviewTime  \\\n",
       "0  A2IBPI20UZIR0U  1384719342    [0, 0]      5.0      1393545600  02 28, 2014   \n",
       "1  A14VAT5EAX3D9S  1384719342  [13, 14]      5.0      1363392000  03 16, 2013   \n",
       "2  A195EZSQDW3E21  1384719342    [1, 1]      5.0      1377648000  08 28, 2013   \n",
       "3  A2C00NNG1ZQQG2  1384719342    [0, 0]      5.0      1392336000  02 14, 2014   \n",
       "4   A94QU4C90B1AX  1384719342    [0, 0]      5.0      1392940800  02 21, 2014   \n",
       "\n",
       "                                             Reviews Sentiment  \n",
       "0  Not much to write about here, but it does exac...  Positive  \n",
       "1  The product does exactly as it should and is q...  Positive  \n",
       "2  The primary job of this device is to block the...  Positive  \n",
       "3  Nice windscreen protects my MXL mic and preven...  Positive  \n",
       "4  This pop filter is great. It looks and perform...  Positive  "
      ]
     },
     "execution_count": 12,
     "metadata": {},
     "output_type": "execute_result"
    }
   ],
   "source": [
    "dataset['Sentiment'] = dataset.apply(categorize, axis=1)\n",
    "\n",
    "dataset.head()"
   ]
  },
  {
   "cell_type": "markdown",
   "id": "413b868d",
   "metadata": {},
   "source": [
    "### Importing the LabelEncoder class to encode the 'Sentiment' column into numerical values"
   ]
  },
  {
   "cell_type": "code",
   "execution_count": 13,
   "id": "5d9b6ef5",
   "metadata": {},
   "outputs": [],
   "source": [
    "from sklearn.preprocessing import LabelEncoder\n",
    "\n",
    "encoder = LabelEncoder()\n",
    "\n",
    "dataset['Sentiment'] = encoder.fit_transform(dataset['Sentiment'])"
   ]
  },
  {
   "cell_type": "markdown",
   "id": "439b70fe",
   "metadata": {},
   "source": [
    "### Only the Reviews and Sentiment columns are essential for sentiment analysis, so dropping the other columns"
   ]
  },
  {
   "cell_type": "code",
   "execution_count": 14,
   "id": "df0cee4e",
   "metadata": {},
   "outputs": [
    {
     "data": {
      "text/html": [
       "<div>\n",
       "<style scoped>\n",
       "    .dataframe tbody tr th:only-of-type {\n",
       "        vertical-align: middle;\n",
       "    }\n",
       "\n",
       "    .dataframe tbody tr th {\n",
       "        vertical-align: top;\n",
       "    }\n",
       "\n",
       "    .dataframe thead th {\n",
       "        text-align: right;\n",
       "    }\n",
       "</style>\n",
       "<table border=\"1\" class=\"dataframe\">\n",
       "  <thead>\n",
       "    <tr style=\"text-align: right;\">\n",
       "      <th></th>\n",
       "      <th>Reviews</th>\n",
       "      <th>Sentiment</th>\n",
       "    </tr>\n",
       "  </thead>\n",
       "  <tbody>\n",
       "    <tr>\n",
       "      <th>0</th>\n",
       "      <td>Not much to write about here, but it does exac...</td>\n",
       "      <td>2</td>\n",
       "    </tr>\n",
       "    <tr>\n",
       "      <th>1</th>\n",
       "      <td>The product does exactly as it should and is q...</td>\n",
       "      <td>2</td>\n",
       "    </tr>\n",
       "    <tr>\n",
       "      <th>2</th>\n",
       "      <td>The primary job of this device is to block the...</td>\n",
       "      <td>2</td>\n",
       "    </tr>\n",
       "    <tr>\n",
       "      <th>3</th>\n",
       "      <td>Nice windscreen protects my MXL mic and preven...</td>\n",
       "      <td>2</td>\n",
       "    </tr>\n",
       "    <tr>\n",
       "      <th>4</th>\n",
       "      <td>This pop filter is great. It looks and perform...</td>\n",
       "      <td>2</td>\n",
       "    </tr>\n",
       "    <tr>\n",
       "      <th>...</th>\n",
       "      <td>...</td>\n",
       "      <td>...</td>\n",
       "    </tr>\n",
       "    <tr>\n",
       "      <th>10256</th>\n",
       "      <td>Great, just as expected.  Thank to all.Five Stars</td>\n",
       "      <td>2</td>\n",
       "    </tr>\n",
       "    <tr>\n",
       "      <th>10257</th>\n",
       "      <td>I've been thinking about trying the Nanoweb st...</td>\n",
       "      <td>2</td>\n",
       "    </tr>\n",
       "    <tr>\n",
       "      <th>10258</th>\n",
       "      <td>I have tried coated strings in the past ( incl...</td>\n",
       "      <td>2</td>\n",
       "    </tr>\n",
       "    <tr>\n",
       "      <th>10259</th>\n",
       "      <td>Well, MADE by Elixir and DEVELOPED with Taylor...</td>\n",
       "      <td>2</td>\n",
       "    </tr>\n",
       "    <tr>\n",
       "      <th>10260</th>\n",
       "      <td>These strings are really quite good, but I wou...</td>\n",
       "      <td>2</td>\n",
       "    </tr>\n",
       "  </tbody>\n",
       "</table>\n",
       "<p>10261 rows × 2 columns</p>\n",
       "</div>"
      ],
      "text/plain": [
       "                                                 Reviews  Sentiment\n",
       "0      Not much to write about here, but it does exac...          2\n",
       "1      The product does exactly as it should and is q...          2\n",
       "2      The primary job of this device is to block the...          2\n",
       "3      Nice windscreen protects my MXL mic and preven...          2\n",
       "4      This pop filter is great. It looks and perform...          2\n",
       "...                                                  ...        ...\n",
       "10256  Great, just as expected.  Thank to all.Five Stars          2\n",
       "10257  I've been thinking about trying the Nanoweb st...          2\n",
       "10258  I have tried coated strings in the past ( incl...          2\n",
       "10259  Well, MADE by Elixir and DEVELOPED with Taylor...          2\n",
       "10260  These strings are really quite good, but I wou...          2\n",
       "\n",
       "[10261 rows x 2 columns]"
      ]
     },
     "execution_count": 14,
     "metadata": {},
     "output_type": "execute_result"
    }
   ],
   "source": [
    "dataset = dataset.drop(['reviewerID', 'asin', 'helpful', 'overall', 'unixReviewTime', 'reviewTime'], axis=1)\n",
    "\n",
    "dataset"
   ]
  },
  {
   "cell_type": "markdown",
   "id": "5edb1fb1",
   "metadata": {},
   "source": [
    "### Importing the libraries essential for NLP, and the libraries for stemming and cleaning the text data"
   ]
  },
  {
   "cell_type": "code",
   "execution_count": 15,
   "id": "3a6cd46f",
   "metadata": {},
   "outputs": [],
   "source": [
    "import re\n",
    "import nltk\n",
    "from nltk.stem.porter import PorterStemmer\n",
    "from nltk.corpus import stopwords"
   ]
  },
  {
   "cell_type": "code",
   "execution_count": 16,
   "id": "28d73795",
   "metadata": {},
   "outputs": [
    {
     "name": "stderr",
     "output_type": "stream",
     "text": [
      "[nltk_data] Downloading package stopwords to\n",
      "[nltk_data]     C:\\Users\\UMANG\\AppData\\Roaming\\nltk_data...\n",
      "[nltk_data]   Package stopwords is already up-to-date!\n"
     ]
    },
    {
     "data": {
      "text/plain": [
       "True"
      ]
     },
     "execution_count": 16,
     "metadata": {},
     "output_type": "execute_result"
    }
   ],
   "source": [
    "nltk.download('stopwords')"
   ]
  },
  {
   "cell_type": "markdown",
   "id": "f51c1bcc",
   "metadata": {},
   "source": [
    "### Creating a list to store all the cleaned text data after stemming and removing all the stopwords"
   ]
  },
  {
   "cell_type": "code",
   "execution_count": 17,
   "id": "38945860",
   "metadata": {},
   "outputs": [],
   "source": [
    "corpus = []\n",
    "\n",
    "for i in range(0, 10261):\n",
    "    \n",
    "    review = re.sub('[^a-zA-Z]', ' ', dataset['Reviews'][i])\n",
    "    review = review.lower()\n",
    "    review = review.split()\n",
    "    \n",
    "    ps = PorterStemmer()\n",
    "    all_stopwords = stopwords.words('english')\n",
    "    all_stopwords.remove('not')\n",
    "    all_stopwords.remove(\"isn't\")\n",
    "    \n",
    "    review = [ps.stem(word) for word in review if not word in set(all_stopwords)]\n",
    "    review = ' '.join(review)\n",
    "    corpus.append(review)"
   ]
  },
  {
   "cell_type": "code",
   "execution_count": 18,
   "id": "c971228b",
   "metadata": {
    "scrolled": true
   },
   "outputs": [
    {
     "data": {
      "text/plain": [
       "['not much write exactli suppos filter pop sound record much crisp one lowest price pop filter amazon might well buy honestli work despit price good',\n",
       " 'product exactli quit afford not realiz doubl screen arriv even better expect ad bonu one screen carri small hint smell old grape candi use buy reminisc sake cannot stop put pop filter next nose smell record dif need pop filter work well expens one may even come pleas aroma like mine buy product jake',\n",
       " 'primari job devic block breath would otherwis produc pop sound allow voic pass notic reduct volum high frequenc doubl cloth filter block pop let voic color metal clamp mount attach mike stand secur enough keep attach goos neck need littl coax stay put job well',\n",
       " 'nice windscreen protect mxl mic prevent pop thing gooseneck margin abl hold screen posit requir care posit clamp avoid sag good windscreen money',\n",
       " 'pop filter great look perform like studio filter record vocal elimin pop get record sing pop record vocal',\n",
       " 'good bought anoth one love heavi cord gold connector bass sound great learn last night coil guess read instruct care harm done still work great best cabl',\n",
       " 'use monster cabl year good reason lifetim warranti worth price alon simpl fact cabl break get replac cost monster standard instrument cabl',\n",
       " 'use cabl run output pedal chain input fender amp bought monster cabl hook pedal board thought would tri anoth one updat guitar use high end planet wave cabl bought found input jack new monster cabl fit fender strat jack littl disappoint return state use output pedal board save money went back planet wave cabl pay back eighti planet wave come around get get pay thought wave lot money back day bought guitar cabl sinc one plu year still work planet wave win fit fender strat',\n",
       " 'perfect epiphon sheraton ii monster cabl well construct sever never problem year got one want degre plug great cabl',\n",
       " 'monster make best cabl lifetim warranti doesnt hurt either isnt top line seri work great bass guitar rig time cant go wrong monster cabl best instrument cabl market',\n",
       " 'monster make wide array cabl includ high end initi purchas pair ofmonst rock instrument cabl feet angl straight inch plugto use keyboard came time purchas cabl bass guitar thought pinch penni glad compar cabl model expens model previous purchas asid look could not detect differ sound swap back forth guitar keyboard ensur model use instrument still differ expens model go look not sure higher price model even sturdi mold stress relief end model seem make reliabl pricier sibl bottom line care compar cabl use instrument amp possibl make purchas decis may find higher price not necessarili equal higher valu even manufactur one best instrument cabl within brand',\n",
       " 'got need found realli need often rare use realli good see need keyboard not organ work great hardli use',\n",
       " 'not use use larg sustain pedal play piano may appear littl awkward get use size',\n",
       " 'love use yamaha ypt work great would recommend anyoneawesom',\n",
       " 'bought use home studio control midi keyboard want work',\n",
       " 'bought use keyboard realli awar option keyboard pedal work smoothli pedal acoust piano alway use feel either nowher close opinion sustain pedal like audio sp sustain pedal piano style action similar pedal much better choic price differ dollar feel action much better thing found yamaha fc sustain pedal good take space drawer keep electr guitar pedal definit not season piano player',\n",
       " 'fender cabl perfect length sometim find bit long mind build qualiti great know last gripe cabl metal sleev get unscrew way easili requir tighten often sound qualiti not affect color cool definit tri cabl durabl instrument cabl',\n",
       " 'want look alon nice look cord know perform sam ash cord pack mailer insid anoth box roc n soc ship team great work never complaint love sam ash thank amazonfend ft cali clear',\n",
       " 'use cabl month hold pretti well year use seemingli indestruct guitar cabl made electrician friend final gave got habit use name cabl alway display near regist guitar center realli impuls buy someth put thought third fourth guitar center cabl fail light use decid tri cabl not cheaper seem hold better not terribl hard gear cabl tend get twist move around cheaper one eventu fail mid cabl mind spend extra dollar cabl littl durabl cabl actual cheaper ship hold pretti well actual reason price cabl kind limit life warante product need five star nice made foot guitar cabl cost ship incident cabl shield meant connect instrument amp input not use connect amplifi speaker cab want use unshield cabl purpos edit month pass cabl function without issu price thing gone significantli although cabl highli recommend probabl better valu hosa monster planet wave far good revisit month mark',\n",
       " 'fender cord look great work well ad word california descript sure sound like beach boy add california name jump',\n",
       " 'cool look cheap cabl work well bent one connector pretti badli fault one thing consid cabl tighten connector awhil abl hear rattl seem retro look screw connector black rubber cabl look cool work well also shorter red cabl goe one guitar perfectli bought these use practic other use black cabl easier plug differ amp without cut someon accid green cabl good cheap cool look good length',\n",
       " 'fender feet california clear instrument cabl lake placid blue good extra cord good price fender feet california clear instrument cabl lake placid blue',\n",
       " 'good cabl well made look great candi appl red tele reason gave star tend not lay flat floor guitar cabl',\n",
       " 'got cabl run rockband keyboard control audio profir control midi pro tool work great firm fit solidli mold end reput brand cabl bit thin side seen issu due anyth go wrong time purchas prime elig qualiti cabl',\n",
       " 'search midi cabl art x foot control came across hosa one dollar realiz would still happi price well high qualiti plastic metal connector work flawlessli must realiz feet overestim wish longer connect rack sound modul perfect got great price still realli good product',\n",
       " 'cant go wrong great qualiti budget price hosa go need hook thing upit hosa',\n",
       " 'end midi cabl look feel like qualiti connect secur worri uneven connect also detach without hitch highli recommend qualiti secur',\n",
       " 'tri find midi midi task make sure pin config correct one good product work finemidi midi',\n",
       " 'hosa xlr cabl afford heavili made larg mixer rack cabl everywher decid purchas shorter cabl hosa cabl ft measur work perfectli realli not disappoint heavi cabl afford price',\n",
       " 'bought go board amp use mobil church take beat still go strong still go',\n",
       " 'sturdi cord plug inexpens good valu requir profession level equip cord serv purpos well satisfi purchas suppos',\n",
       " 'use everi week gig solid problem solder joint good qualiti cabl good price good cabl',\n",
       " 'hosa product good bang buck look specif guess wire awg sinc long good enough good enough',\n",
       " 'exactli voic touch need small cord connect mic voic touch perfect use foot cord go inch highli recommend keep mic stand voic touch stand connect devic vocal great littl cord',\n",
       " 'bought realli long mike cord solo live show realli nice cord home portastudio record studio like need spaghetti trip place bought two use digitech live harmoni processor two xlr mike cord requir make oper good price hard find mike cord usual longer one obtain job need',\n",
       " 'cabl seem like last use connect di box not get abus much vocal mic alway decent mic cabl',\n",
       " 'not greatest cheap get fast need one fail bought mani use broadcast studio amazon first place go need cabl audio video comput concert light good music decent inexpens cabl',\n",
       " 'fine cabl decent price point noth except mind get job done well enough fine cabl',\n",
       " 'use lot cabl alway come back hosa inde best audio cabl price rang market hosa best',\n",
       " 'bought cord return cheap one known better buy son experi musician recommend hosa brand seek proper replac bought small home record setup includ behring c condens microphon behring xenyx mixer end make reliabl connect board mic sound qualiti excel excel valu money excel qualiti exactli need',\n",
       " 'nice solid cabl excel support end last lifetim usag problem need connect tube preamp great valu',\n",
       " 'good qualiti cabl sound goodfiv star',\n",
       " 'zero issu cabl far feel fairli cheap light weight surviv month plug unplug pack practic space updat review break pretti cheap cabl last far',\n",
       " 'realtiv inexpens patch cabl electr guitar month far held pretti wellveri nice cabl',\n",
       " 'bought want cheap replac cabl one short pleasantli surpris cabl decent sound decent build qualiti good price nice guitar cabl even better price',\n",
       " 'nice cabl price alreadi bent one end though fortun still work fine insid phono connector wire cover white shrink plastic notic hum crackl sure good buy want',\n",
       " 'cheap good textur rubber not get stiff time tell well solder sound fine flexibl soft rubber great',\n",
       " 'seem sturdi enough nois issu pretti much satifi leav hous not ask handl lot reason care last work wonder nois',\n",
       " 'not profession play mani mani year best cord ever though sure eric clapton someth better excel',\n",
       " 'hosa cabl well made good qualiti connector nice long length son expand collect amp effect pedal need addit cabl get everyth connect cabl give flexibl move around sturdi enough take step pull around cabl work well good valu decent qualiti cabl highli recommend cfhgreat guitar cabl good valu highli recommend',\n",
       " 'expect cabl thin easili thick guitar cabl use not sure long term durabl signal loss interfer foresight spend coupl extra buck thicker cabl still work inexpens edit month later dead alreadi wire fray right angl jack get pay cannot recommend',\n",
       " 'bought daughter along new guitar seem work well issu first coupl week cabl work describ',\n",
       " 'hum crackl think problem equip soon use cord problem gone hosa make product good valu base experi recommend one bought mani cabl one one give problem',\n",
       " 'not hard cabl typic plug guitar dont move around much play hour two day one seem perform fine buzz nois note sever perform well get job done',\n",
       " 'found hosa cabl excel valu expens cabl may rug price happi hosa purchas nice cabl price',\n",
       " 'good cabl excel plug lug solder joint cover heat shrink materi hold everyth place year grade cabl afford price definit go back ft cabl coupl dollar ft well made audio cabl',\n",
       " 'pretti crappi cabl work get job done purchas product use shell extra buck better qualiti eh',\n",
       " 'use cord church run pedalboard amp soundproof box cord reliabl clean sound like use hosa product past confid excel cord hope review useful great afford cord',\n",
       " 'second hosa guitar cabl one shorter like first hosa cabl high qualiti item definit buy cabl brand nice cabl',\n",
       " 'work practic guitar instrument cabl say mayb not best serv purpos mayb not best serv purpos',\n",
       " 'cabl taken beat last month serv well problem real metal end not mold high qualiti silicon jacket strain relief connector high qualiti low cost',\n",
       " 'opinion not hurt extra guitar cabl around experi tend die without notic feel one last long time built sturdi sound realli good recommend product work advertis',\n",
       " 'hosa guitar cabl work great never problem sever differ length sound perfect good cabl',\n",
       " 'product exactli suppos decent price absolut complaint first experi brand not disappoint complaint',\n",
       " 'good qualiti guitar cord low nois repair effect strain releaf thick rubber cover great buy buck qualiti cord cours got might not durabl look durabl chang mind anyth updat review would say buy one joegood qualiti',\n",
       " 'good solid cabl problem stage like longer cabl practic need extra length tangl everyth perfect practic',\n",
       " 'guitar cabl nice look high qualiti white end fantast deal cabl nice high qualiti guitar cabl',\n",
       " 'good product good price use multipl time work well guitar speaker great friend come jam work well',\n",
       " 'item well built like termin end spring built go durabl road cabl home light road use work well well built cabl',\n",
       " 'amp plug great price ft long perfect size jammin home qualiti look aesthet total worth pricepperfect amp chord home use',\n",
       " 'hosa cabl gtr guitar instrument cabl ft high qualiti instrument cabl low cost break bank satisfi purchas hosa cabl gtr guitar instrument cabl ft',\n",
       " 'unbalanc guitar cabl notori noisi especi around floresc light differ would prefer use cabl better shield cannot justifi expens consid rare thing get use standard guitar cabl',\n",
       " 'basic black electr guitar cabl work great far connect end solid sound amp great nice rubberi feet long enough problem aris later cabl updat review problem whatsoev cabl hosa electr guitar cabl gtr',\n",
       " 'hosa cabl qualiti place product good sound good reliabl long last product not good affect sound neg break prematur short use life span guitar cord actual quit nice feel good gooey soft rubber jacket like mogami sound good far work reliabl rubber jacket diamet eye short heat shrink overwrap add strength wire enter plug bought need cabl fast internet concert lot pedal signal split connect cabl arriv good work condit use continu sinc dozen tube amp particular sound degrad far cabl not disappoint anyon would buy need far good',\n",
       " 'cabl frill tangl pretti easi due design might rattl littl move around work like shouldaverag cabl',\n",
       " 'never realli consid cheaper cabl alway taught get best could afford show cabl search amazon jump figur noth lose surpris excel cabl good build qualiti strong thick jacket inspir confid sound ident monster cabl cost one quarter price hmmmm guess tri figur instead listen snob mani year never worth money twice tri kiss overpr cabl goodby good qualiti low price',\n",
       " 'one end loos tighten keep come loos put dab crazi glue thread hope ever open end repair good price',\n",
       " 'price fantast feel light trust build qualiti key stress point cabl meet connector not go push set guitar accid plug know seven buck get job done recommend beginn thing test water otherwis spend buck someth higher chanc last feel littl flimsi see easili break work',\n",
       " 'hosa make good stuff except trust year think singl hosa cabl own fail excel',\n",
       " 'complaint size fault buy least foot plan use stage complaint size fault',\n",
       " 'hard day much work great issu speak job perfectli wellworth',\n",
       " 'price work realli well see fault unscrew pretti easili hardli problem right work',\n",
       " 'cabl disprov notion get pay qualiti outweigh price let face cabl cabl cabl qualiti cabl vari greatli replac lighter cabl one surpris differ qualiti sound amp ibanez art seri guitar ibanez watt amp set home noth chang cabl signific differ qualiti volum much check guitar teacher said not surpris qualiti appear good end heavi duti littl bit hum due proxim everyth attenu point inconsequenti seen expens cabl one far great hosa gtr guitar cabl ftgood qualiti great price',\n",
       " 'look long cabl perform live band glad hosa qualiti feel reliabl without ad nois good qualiti excel price',\n",
       " 'good cabl good price not sure would hold heavi use practic home realli great good cabl good price',\n",
       " 'sturdi high qualiti littl feedback use perform friend love itwork well great qualiti',\n",
       " 'unless go go top line expens profession chord medium size venu great valu',\n",
       " 'mani length hosa cabl neverhad problem not activ musician not put throughth rigger happen stage cannot comment thistyp usag year stage come realiz thatyou alway extra cabl like string aseven expens cabl sometim let good cabl',\n",
       " 'use week strong flexibl seem develop kink bend habit roll proper way seen use better cabl not price point certainli seen quit wors pretti good sweet spot opinion solid cabl',\n",
       " 'pro cheapo hate thing noisi cabl feel realli cheap gummi like drop buck get someth els crap',\n",
       " 'work great watt amp almost compar monster cabl length plenti room guitar amp good product work good complaint',\n",
       " 'good cabl good expens brand thick bit stiff seem shield complaint good guitar cabl',\n",
       " 'lot hosa cabl cheap qualiti reciev one bad cabl around use lot guy work get havn fail yet hosa rock',\n",
       " 'decent cabl job leav much desir far structur integr concern mate part connector jiggl back forth switch also loos connector move around mm microphon without switch press would not recommend use cabl critic applic would suit home hobbi use job',\n",
       " 'cabl great connect directli comput microphon record live without consol mixer great recomendedgood direct connect comput',\n",
       " 'bought hook beta panason g dslr kodak zi interview work way suppos degre tr nice touch good price intend',\n",
       " 'receiv cord seem work expect say adapt cord well made good construct sound dslr mic superb work expect',\n",
       " 'like probabl bought hook xlr microphon digit record pc work fine handi type record forget hook directli pc way much nois good use',\n",
       " 'bought canon vixia hf g video camera shotgun mic recent purchas need wire perfect fit mic mount mini advanc shoe microphon plug video camera wire thing not foot long actual wire long would return thing cheap enough worth hassl rate star tri nikon shoe mount shotgun mike work ok still tight fit though sinc wire recommend anyon look short cabl go adapt worst case scenario zip tie loop instead get angri fit also not sure wire affect star hear hiss record unsur way wire stretch max dslr not shotgun mic measur damn wire send',\n",
       " 'well made xlr pin adaptor mini need get real xlr mic comput job recommend',\n",
       " 'list item confus not sure stereo xlr stereo xlr meant similar stereo headphon left right separ unbalanc wire cabl configur stereo unbalanc xlr stereo unbalanc tr cabl item not mono balanc xlr stereo unbalanc mic cabl littl bit solder fix connector move red wire ping pin white wire pin tie pin ground wire product shipd expect list item confus',\n",
       " 'first reason award five star construct uniformli excel end strain relief connect perfectli mate plug insert xlr end qualiti compon purchas specif transform third channel mypowerwerk watt person p systeminto someth useabl greatli expand function versatil portabl pa allow plug anoth mic sinc three unit daisychain abl significantli enhanc entir system simpl adapt anoth reason love nois free environ play sourc electromagnet interfer cheap cabl pick transmit not problem one anoth plu overal pleas adapt actual purchas spare case damag lose primari one bit pricier other consid feel qualiti peac mind worth premium solv big issu',\n",
       " 'use cabl run extra line microphon podium zoom h adapt never fail instrument captur qualiti audio live event sever love highli recommend adapt visual audio profession also check hosa sinlg xlr doubl xlr splitter good adapt cabl',\n",
       " 'adapt cabl stereo mic work small dv camera function caveat first construct pretti light weight mean gentl use someth none us broadcast product field want worri sinc gear get pretti beat second adapt one foot length cabl pretti short may not reach wherev mic input jack camera mean would need anoth short xlr mic cabl extend mic adapt awar may work fine not work other went sam ash music found similar adapt cabl heavi duti longer cabl price pay shop around light weight cabl stereo mic limit',\n",
       " 'well made work howev seem get littl bit nois shotgun mic straight usual expect see mic cabl adapt test go straight zoom h record seem littl nois go adapt cabl straight xlr input big surpris minor clean post good construct',\n",
       " 'use yet like cabl compani work fine nice cabl',\n",
       " 'great stereo sound keyboard key singl stereo cabl need get convert true channel stereo could eq properli work like charm highli recommend cabl perfect',\n",
       " 'anoth qualiti product hosa need insert patch mixer eq alway like slightli longer length alway zip tie back hard stretch nois cabl good insert cabl',\n",
       " 'order expect whole lot sinc price two dollar nearli foot cabl turn qualiti quit excel cabl not flimsi plug mixer wait hear static interfer buzz explain low price got nice clean signal highli recommend anyon mixer need insert cabl excel insert cabl',\n",
       " 'solid cabl tight fit receptacl introduct nois discern loss signal especi consid price brilliant like review wonder econom cabl could good trust judgment gave tri count among sure becom convinc hosa know make great cabl without need charg monster price work great',\n",
       " 'mixer send return plug use wire tr send tip return ring common ground effect box like separ tr in out perfect cabl hookup thing like behring sharkbehring shark fbq automat feedback destroyerto vlz send returnsmacki vlz ch compact record sr mixeri probabl order second cabl seen well first one work send return need return',\n",
       " 'still oper analog environ quit often end use lot insert channel compress limit gate expand plu variou eq effect processor need rout appli specif channel insert snake use well individu insert cabl differ length carri lifesav make effici soundman setup flexibl soundman show soundman must insert cabl',\n",
       " 'use home studio insert work great complaint side note alway clean cabl caig deoxit gold g spray contact condition oz hightli recommend musician hear differnc also spray q tip clean jack guitar instrument good price vs valu work great home studio',\n",
       " 'need audio insert cabl need audio insert cabl custom manufactur insert cabl custom sound reinforc fix instal mobil rig mixer case process gear simpli not cost effect hosa go brand reliabl durabl brand reput stake hosa allow us maintain good reput lower labor cost thank depend product hosa thank great price amazon right product right price',\n",
       " 'play pod small guitar amp great way wake kid work perfectli purpos keep mind small end pod stereo larg end goe amp mono need stereo jack end get someth els use plug pod guitar amp',\n",
       " 'plug work connect mono line stereo input lepai amp not much els tell youplug work',\n",
       " 'bought hook ipod iphon live stage sound system not stereo anyway use stereo mono adapt separ channel not need perfect solut seem durabl sound engin solut',\n",
       " 'carri bass gig bag plug phone mono aux input back genz benz bass head handi rehears band need listen track work arrang bass cab full rang fear pick use coupl cabl adapt go stereo mono often seem never quit need hand exact cabl need applic',\n",
       " 'super cheap mono cabl suffici mani need cheap enough thin wire gaug forgiven awar cheap unshield etc price intent almost gave star not star cabl fair qualiti ultra cheap cabl star seem right ye almost exactli wrote hosa cabl review almost star price',\n",
       " 'hard not love cord carri electron way end not sure complet failur would take star away work',\n",
       " 'cabl cabl usual work amazon alway find best deal qualiti work good good price',\n",
       " 'pick cabl test new pedalboard happier suck tone cabl sturdi sound great replac normal straight inch cabl save much space board inexpens not cheap',\n",
       " 'l jack good enough make connect guitar pedal work fine flexibl enough like fact made plastic look cheap price paid realli care good',\n",
       " 'littl patch cabl work nice chang tone sound connect one pedal anoth fine go make one small complaint explain got star instead product descript say inch right jump http www amazon com gp product b pgxkc ref oh detail ie utf psc planet wave patch cabl list feet inch right hosa cabl seem like mayb inch wherea planet wave cabl gave plenti room one pedal anoth use hosa cabl emerg back conclud would recommend ye one two pedal need afford small effect patch cabl go first recommend alway planet wave cabl anyth els job',\n",
       " 'need cabl connect pedal look farther cabl perfect deliv good sound small cheap could ask great pedal cabl connector',\n",
       " 'bought hosa pedal cabl son interconnect guitar pedal work well seem durabl given problem far appear chang sound qualiti tone great product great durabl pedal cabl',\n",
       " 'good littl connector cabl well construct durabl built last would recommend cabl connect stomp box worth work great',\n",
       " 'great cabl con could give go bad open end fix experi durabl peopl use pedal board not lot movement wear good cabl',\n",
       " 'work fine great littl space one pedal anoth distanc better use anoth type bue gener work fine good qualiti product clean signal problemswork fine',\n",
       " 'exactli need connect distort paddl amp favor alway order threw amazon dealer place order threw onlinecarstereo com report scam oper credit card co custom review terribl yet made mistak place n order right eye chang bad review add good one good product still use hassl free order',\n",
       " 'great patch cabl especi price suck tone reliabl mine year realli great player budget good budget cabl',\n",
       " 'cabl came super fast mail deliv level perform would expect form low cost cabl workjust pay',\n",
       " 'good cabl forse problem right hook pedal togeth eithout mesw long cabl need get price right ship right time right',\n",
       " 'not fanciest cabl buy fit low budget work perfectli feel like go break anytim soon pedal perfectli connect decent connector decent price',\n",
       " 'typic use planet wave cabl tri great never issu loss tone never break fail qualiti product good price reliabl great',\n",
       " 'realli inexpens yet durabl cabl link stompbox togeth yet havent one go crackli consid get frequent use pretti good often cheap cord die within year everi electr guitarist keep stock thing one particular cheap access probabl around twelv enjoy frill cordag',\n",
       " 'hosa patch cabl best buck great sound flexibl firm hosa cabl fan love littl guy great',\n",
       " 'lower profil fit bend place one thick metal end possibl better metal end one',\n",
       " 'bought xlr adapt hope connect microphon old funki mixer own input end work discov need convert microphon level line level howev convert xlr balanc quit well not need particular situat nice tool although not transform balanc devic',\n",
       " 'use adapt interfac mix board end channel xlr cabl snake chang channel monitor return plug xlr femal stereo adapt end creat headphon jack musician end setup record channel monitor channel xlr snake go ask channel xlr snake instead buy anoth snake not adapt snake henc word adapt p love great tool add versatil setup matter defin recommend product anyon would happen need chang xlr balanc stereo high qualiti solid defin expect last long time versatil',\n",
       " 'purchas work ion system shure mic arriv expect solid great fit work problem',\n",
       " 'come handi mani time studio z net love around good qualiti afford price qualiti adapt',\n",
       " 'titl say work reason took star sometim get littl stuck use forc get xlr issu besid work',\n",
       " 'convert xlr signal shure sm mic male run guitar pedalboard amp issu perform convert littl bulki especi clip mic onto could tight fit certain place pedalboard work great overal get job done',\n",
       " 'got plug xlr cabl jack board got board channel xlr input none work perhap got wrong thing not thought',\n",
       " 'afford work nice littl adapt low imped cabl high imped input afford work',\n",
       " 'price beat work well one would bought local guitar store beat',\n",
       " 'basic femal xlr inch male adapt use plug regular mic cabl keyboard practic one pa work intend',\n",
       " 'bought xlr splitter split lead vocal foh monitor rack use way work great never problem signal loss power issu began use transform isol xlr splitter start play bigger venu longer use splitter issu hosa splitter cabl length femal connector male connector short short would caus microphon cabl stick mic stand plug lead singer microphon would great guitar mic someth close ground horizont place look littl funni come vertic microphon stand nice util wish littl length split cabl',\n",
       " 'expect hosa anoth great product solid construct great sound reproduc would recom product everyon great cabl',\n",
       " 'use run singl mono xlr shotgun mic line two audio channel tascam dr save step post product qualiti fine suppos good price good product need',\n",
       " 'think purchas item amazon plu import work purchas coordin year know save money purchas great believ not find even cabl find radioshack best buy els done lot purchas not busi ladi gentlemen know know take care busi right way would like appli posit regard ffsalsagreat cabl',\n",
       " 'solid product end not need return howev work fine get job done nice',\n",
       " 'dual splitter work perfect live event video compani shoot lot wed import part video audio make anyth look good long get good clean audio signal alway say half video audio year use run line directli dj mixer get audio issu way introdust get music dj play word speak often though signal hot music crap dj say someth stupid dj voic edit way want compress time product improv product beyond price sold use run separ clean audio line dj wireless system audio record work perfectli fail great product run clean separ line audio',\n",
       " 'recommend top engin genz benz bass amplif compani andi said product far superior right fix scratchi potentiomet shuttl amp also fix effect loop jack becom oxid caus amp intermitt lose power gig not good sever gig worth test problem resolv andi said product actual work better time appli sinc lubric clean coat effect compon wow andi not stock affili repres way manufactur de oxit product work great worth extra money',\n",
       " 'thing like magic spray hah serious use noisi hing car door etc realli bought clean pot volum control knob guitar pedal equip realli work get rid static nois get turn volum control radio guitar exampl magic spray',\n",
       " 'bought product use amp pot restor sound power cleariti amp evapor right away coupl minut good go work well',\n",
       " 'back bought deoxit not right name rememb work much better cost much less made militari spray level low still way high work stuff use much better see much els may stick wast cost good luck wd flammabl would call averag use better stuff',\n",
       " 'pay tech fix knob switch guitar stomp box amp tri time take care problem amp cut also tri spray effect loop push jack socket dozen time first bought probabl paid hundr time good stuff five ounc magic',\n",
       " 'deal quit bit electron music instrument gear guitar bass amp fx midi gear etc time start suffer scratchi noisi pot knob input output jack crackli etc past tri locktit electron cleaner provid similar would rare work contrast clean everi piec gear use save physic replac pot jack realli like magic magic',\n",
       " 'get error printer cartridg recogn spray contact wipe excess paper towel work use printer cartridg',\n",
       " 'stuff work great well worth price use clean pot sever guitar bass amp along variou effect pedal scratchi jar volum spike knob glide better day new alway keep around noth say great stuff need',\n",
       " 'fantast stuff spray bass guitar pot like new wish found stuff sooner scratchi bass guitar pot scratchi',\n",
       " 'brillcream dab ya someth like need contact clean worth coin stuff great',\n",
       " 'got old mesa boogi develop scratchi control year stuff clean pretti well midrang pot start crackl hate tear chassi gotta happenkinda work kinda',\n",
       " 'use guitar tone volum pot clear crackl feel littl oili get job done replaceth potentiomet work potentiomet',\n",
       " 'use alot kind electron get crackl knob go use year recommendgood stuff',\n",
       " 'pot bass becom scratchi spray bit turn pot back forth time nois great need clean pot bass fine',\n",
       " 'money karaok mic decent job vocal use good keep spare gig box good usabl mic',\n",
       " 'truli surpris saw nice weight good sound look nice made good deal money go wrong not cheep made microphon much better thought would nice good microphon',\n",
       " 'reason give star order chord one miss chord order time good hot mic satisfi',\n",
       " 'bought mic spare son guitar amp set mixer seem work fine come mic cord decid go model switch base review yet disappoint excel purpos mic',\n",
       " 'freelanc occasion work band play midwest perform near weekli basi season veteran interest gear per se even less interest brand cachet money believ first saw group use nadi mic even lower price sever year ago insist good shure sm still believ qualiti workmanship compar casual empir test build qualiti prove much nadi handl announc vocal need softer sound instrument flute harmonica none broken quit watch keyboardist mic power fidel affect trifl mortifi musician audienc catch cheap come import gear compon time embarrass confess not unmix bit demon glee play get paid good enough profession use',\n",
       " 'bought mic see grandson handl mic came karaok machin think mic would not last long hope nadi sp c impress mic price use roland cm cube plan use roland micro cube also would given star cord connect mic not littl loos nice surpris',\n",
       " 'bought cabl band live show setup bought almost year ago still current use applic not best qualiti cabl length price make good valu money especi buy sever time use cabl studio live fine recommend cabl budget look buy sever time go buy one look canar mogami littl bit expens easi get worth price good valu not best qualiti',\n",
       " 'use live perform not last long good price need resold end concert though cabl good studio use',\n",
       " 'noth complic purchas cabl work cost lot great deal get use everi week still sound perfect never mistreat equip great deal money paid',\n",
       " 'bought cabl order abl run longer cabl run stage work narrow gaug wire cabl make littl cagi durabl tend use cabl run expect lot movement e g run cabl mic stand save better cabl belt pack mic jacket cabl pronounc butyl rubber smell realli activ allergi first store mic cabl open cardboard box month use seem help lot rubber smell not everyon allergi might not issu folk use cabl anyth near face first month cheap work fine notic sound issu cheap work strong butyl rubber smell thin cabl',\n",
       " 'cabl awhil not impress qualiti plug jack look cheap cabl thin use home practic mic much workout think would hold long stage venu fair qualiti',\n",
       " 'cabl littl thin compar hosa gl pick littl interfer equip well guess lack shield thin cabl',\n",
       " 'gain mic greatest speech soft record guy handl well microphon great beginn',\n",
       " 'shure sm cost like open sound pg vocal seem break higher volum sm like mic ok sm worth extra money think especi expect push capabl good price',\n",
       " 'test record digit get better idea learn process side give clean crisp reproduct everi flaw good qualiti would expect shure',\n",
       " 'use video exchang guitar instruct websit perfect vocal podcast video record forth shure make excel stuff also great save money xlr cabl includ happi purchas great mic great deal',\n",
       " 'star instead thing tune guitar carri amp use solo duo bass player trio drum bass regular gig medium size club basic one larg room use pyle pro self contain pa also plug martin grp elec acoust sound qualiti excel volum seem limit bni pyle pro put would hesit use bigger room full band pa heard hint feedback switch plu price might seem good true think thing pay less use bought toshiba flat screen around buck think would cost even five year ago less true lot audio gear lot compani bring high qualiti elctron music market great compani like shure make someth good afford alway made high qualiti product one almost anyon afford cannot recommend strongli enough buy',\n",
       " 'far happi microphon tone qualiti fine everyth need backup vocal band although longer cabl would nice great cabl includ packag good mic price',\n",
       " 'hard get honest review mike shure sm consid gold standard other measur cours least part reput deserv perhap durabl sm sound coupl sm coupl pg consid sm pg slightli better spec almost ident price first thing notic box pg slightli bigger slightli heavier also differ switch sm metal screen protect interchang plug one microphon cabl set would ident tri mike one first speak sing play guitar chang set specif effect eq pa repeat experi speak sing chang mike notic sm slightli flatter mid rang pg slightli brighter touch presenc equal volum slight differ tone easili manipul eq ordinari tone control neither suscept much feedback vocal pop tri side side comparison live situat even practic time consum interfer play difficulti judg situat least awkward use combin two practic one seem abl tell differ except one person actual express prefer pg could set look spec two mike side side sm littl flatter respons especi high end k hz pick db pg somewher hz howev sinc human vocal rang gener around hz neither seem like much effect although sm might tad respons bass singer also tri two differ behring mike radio shack mike behring total outclass shure sound tinni thin littl presenc volum tri behring xm impress similar mike sound almost ident b shure sm behring xm seem discontinu though replac xm inferior mike offer bundl three plug radio shack mike spare backup not even taken practic model number probabl also discontinu excel sound mike good volum presenc tone mike test side side experi reach conclus quit bit snobberi choos microphon shure sm held unreach standard sturdi good mike price not unreason around howev microphon sound nearli ident also sturdi reliabl lower price includ shure pg like sm though test wish peopl would give unbias review base actual perform instead condescens toward either budget look altern standard bearer give star enough time give evalu hold comparison sm unbias review',\n",
       " 'microphon great sing pa electr guitar sing worship prais song southern gospel smooth mid rang get close enhanc bass nice think sm exactli need built last shure good lead vocal microphon',\n",
       " 'got use record rehears work well far revis review somehow chang next year right though say great product great far',\n",
       " 'bought one replac shure big step one pleas old one lot handl nois one littl good money paid next one sm awhil happi pg updat decemb handl nois definit someth consid would keep buy anoth one mic problem degre good mic',\n",
       " 'start shure pg recent acquir shure sm probabl readi agre argu neumann telefunken mic cost g simpli much better nadi mic cost buck respect shure less sure sm worth pg perhap suffici high power clean amplifi tweak eq set favor frequenc human voic two mic could mistaken one anoth attempt occasion use instrument amplifi emerg p led realiz pg sound somewhat mute dull compar sm switch common admittedli expens mic gave extra gain need along ad crisp clariti voic least announc p notic head pg larger sm sinc rise digit audio workstat comput free includ garag band larg even gold plate expens look cheap mic display place despit appear come mic size matter except appear director high school show band dispens headset wrap half way around face know girl front line think cool look like madonna janet headgear best mic tini open size pin hole shure qualiti construct not quit equal sm',\n",
       " 'good mic simpl live stuff expens get good clear sound switch help kind thingsgood mic',\n",
       " 'proven classic use mic mesa boogi mark v x cabinet sound fantast solidli built classic deliv',\n",
       " 'mic get record live instrument voic alway come great sound seem almost indestruct look forward work futur project believ took long get one thosethi best f mic ever',\n",
       " 'although mic consid primarili instrument mic not alway case actual prefer basic design live vocal use sinc bought first one known shure model unidyn iii mic got stolen year ago remark still work time got boost still use need one switch function own use countless modern day sm sm along dozen mic year manufactur fairli deep bariton bass type voic need get closer inch sm sm sound similar shure sm studio vocal mic put windscreen get inch away use sm studio environ though slightli fragil four time expens design sm requir get much closer mic get full rang sound sm prefer sm sm vocal use sound crisper high sound fuller low end sm sound natur vocal never sound muddi muffl sm one pronounc proxim effect mic ever use tend shove mic throat may benefit less dramat proxim effect sm ever go use sm vocal recommend buy shure ws windscreen genuin shure windscreen fit precis lock secur onto sm sm pop like mad without one possibl drawback sm vocal mic model avail switch day find modern sm switch anywher howev ever tri use mic forgot switch posit probabl becam liabil money sm best around microphon past two gener stage use record purpos studio vocal use sm realli sound much differ sm built variabl eq sm set way like sm predecessor best around microphon sinc certainli endur durabl not go wrong unless get close windscreen best around year',\n",
       " 'good around mike look solid mike start studio recommend one best use guitar mid rang instrument record not bad vocal best mike price purpos best price rang',\n",
       " 'serious shure sm set standard instrument microphon judg kid work great guitar real acoust guitar sound drum conga tabla name instrument sm deliv hear good vocal well presid give speech sm experi vocalist better averag pipe use sm sm better suit lack vocal project wannab instrument sound reinforc bar none best industri standard',\n",
       " 'good enough track tom petti vox heartbreak album good enough rest us sound great amp perc drop one stori build year back park lot barley dent hous still work drummer still use kit never told haha hope read review shame new mic come wireless stuff make ie presentor pg sei digit seri etc flimsi piec garbag last cool shure classic last shure good mic',\n",
       " 'reason everi mic cabinet least one great purpos dynam mic use instrument vocal even field record sometim sm frequenc respons suppos tailor toward vocal mean handl voic pretti much mic far concern averag amateur record engin home studio practition think find thing oper level refus use interchang probabl alreadi know look get add person cabinet soon like want spend nice condens fill dynam mic go wrong sm say',\n",
       " 'use mic snare drum sometim guitar cabinet work well mic durabl use studio noth els avail work fine long run sound live keep mic old stand',\n",
       " 'consid sm introduc world year shure sm lc shure sm vocal microphon guess get batman statu releg robin not realli fair assess consid develop time except acoust foam line cage pop screen two mic ident electr sm studio microphon design begin life record studio dynam microphon use mic ever increas volum rock roll amplifi drum kit etc capac use pop screen cousin sm still one sold vocal mic world day sm slim even though still fine vocal mic see use mostli mic ing instrument excel one long time import role offici podium mic white hous pair sm alway seen variou white hous podium press confer even vip bundl kitshur sm vip dual microphon kityou buy exact type use sm extrem rug mic built tough standard take lot road abus one thing make popular tour band sound compani top great sound mic price perform seriesshur beta microphonethat look similar sm beta differ mic capsul transform sound differ make sure tri buy bottom line shure sm one tough road mic sound awesom not overli price best valu sound compani home studio recordist tour musician one half shure long last dynam duo',\n",
       " 'use record guitar well live vocal knock microphon around decent amount plenti rug happier standard',\n",
       " 'mic well made heavi mic end howev yet tri multi track studio good mic',\n",
       " 'bought teen son christma love play bass sing along differ shure mic total flat compar particular model nice clean sound plu seem pretti sturdi get mic stand fit perfectli stay put shure knock one park shure great mic',\n",
       " 'prefer mic practic gig around tough mic great need highli recommend shure',\n",
       " 'industri standard live perform sm withstood test time good reason microphon perform switch make easier power gear done practic turn mic industri standard live perform microphon',\n",
       " 'not bad mic price want real good one studio qualiti mic would cost buck comparison studio mic sinc work record studio need decid want get studio mic alon not give result look like hd tv bd player play ordinari cd would compliment mic mani product like studio qualiti mixer speaker home hobbi user go mic mic quit good price would probabl say exce expect arriv promis frustrat free pack also make sure buy foam mic hood mic save unwant dirt spit reason not give star mine littl dent bodi may due transport noth function look good product price',\n",
       " 'review sm use life continu durabl got replac year old rust dent grill also use akg price line wirelesss alway reliabl first choic backup standard',\n",
       " 'first rule microphon one microphon perfect everi purpos rule two experi differ mic differ applic find signatur sound use shure sm along ancestor rel back primarili use broadcast record spoken word content use still use sing back vocal sm one thing well vocal perform use close mouth public address use peopl includ actual sound better comfort live perform set use anoth mic shure sm sm good vocal mic peopl probabl best choic exampl anyon not resist put mic right lip sing probabl want sm peopl softer weaker voic want sm sm highli direct notic yet manag proxim effect mean bass increas closer get mic not pick well much inch away reason mani singer think suppos shove microphon practic insid mouth ball type shure vocal mic requir get close sound right hand sm sound best sever inch away user mouth work fine inch away sm certainli number one profession pa vocal mic preciou use color sound promin frequenc respons boost upper midrang plu sound sourc close pick clearli work ok conga drum like sm last thing want use mic sax guitar person mic not best mic techniqu basic natur voic peopl sound great live vocal mic work best shure sm windscreen howev peopl sm work better depend voic want mic deep voic sm might second best choic sm better low frequenc respons one certain advantag sm excel gain feedback capabl mic turn louder almost mic without annoy pa squeal anoth advantag sm still avail slight extra cost built switch sm ball shape grill sturdi even dent one get replac screw right ten dollar seen sm dent rusti dusti smoke spit piec miss slam hardwood stage full weight boom stand ad mass fall yet never seen one stop work malfunct due switch got dirt pro line shure mic top qualiti pro line shure also hold valu well buy one decid like get paid ebay would compar mani mic possibl buy one senneheis evolut mic sound realli good worth look sm number one stage vocal mic forese futur peopl follow crowd instead actual tri differ mic pick one work best particular voic thing durabl even stop make today still around anoth year least good vocal',\n",
       " 'legendari perform inde work perfectli extrem easi set good sound good price bout need know satisfi',\n",
       " 'great around mic use vocal frill tough nail great sound live music buy first mic switch cheapi intend use sing vocal mic musician would probabl recommend without hesit never use anoth one sinc first time switch cheaper mic came bundl year ago depend smooth vocal carri song mic reproduc warm sound like perfectli stand feet away realli wail get close bass respons anyth sm cn come mic ft cabl cabl tie carri pouch mic clip standard sm not switch one less thing break miss sm dollar extra great around vocal mic',\n",
       " 'got shure sm microphon expect real workhors microphon sound clear crispi robust high qualiti product also bought amazon sold j r music comput world excel supplier ship less time expect realli happi custom great product great supplier',\n",
       " 'complaint qualiti great sound excel voic sound wonder crisp use time jazzgryl',\n",
       " 'nice addit record home studio recommend one record ballad light classic music qualiti good price',\n",
       " 'mic work better peopl other said first mic put lead singer hand upon meet sound good tri someth els complaint go mic good around vocal mic',\n",
       " 'bought two microphon akg sm like akg littl better vocal sound lot clearer crisp akg sm sound mute compar without sound modif box output also littl less sensit howev like look sm seem extrem durabl good',\n",
       " 'immort word john cameron swayz use hawk timex watch earli day live televis shure sm vocal mic fit perfectli categori found career film televis sound recordist mixer play rock band live sound mix one first mic truli fell love sm introduc shure brother compani sm quickli rose becom industri standard rug road mic actual sound good ear nearli indestruct mic capsul cardiord heart shape design help reject sound either side k bump frequenc help vocal cut stage nois construct rug frequenc respons hz capsul sit intern foam shock mount help isol handl nois use joke sm need hammer find one grab one tough seen road believ still work sound great cage style pop screen give sm not distinct look one influenc mani mic brand day introduc part function intern line layer acoust foam cage help keep vocal pop get dynam mic element frame refer theshur sm lc shure sm cardioid dynam microphonei exact mic capsul without pop screen shure also sell perform seri mic theshur beta supercardioid dynam microphonethat look almost ident sm use total differ mic capsul transform differ sound tri buy shure sm still consid industri standard live perform mic today price realli good deal take lick keep tick',\n",
       " 'made mistak think could save forti buck get shure pg vocalist occasion need announc accommod guest vocalist instrument amp rather p whatev reason pg simpli suffici gain oomph much use roland cube peavey amp tri employ use adapt xlr connector come mic borrow shure sm mic someon differ instant dramat far effici e louder mic produc full clear sound without addit pre amplif demonstr popular microphon world five buck extra fathom reason avoid sm version switch small price pay quick solut feedback unwant pick privat comment indiscreet band member even instrumentalist may wiser select sm sm former mic littl ostentati also slightli adapt screen filter certain amount wind nois unwant non music sound sm proven sherman tank microphon simpli unparallel rugged durabl see review caution consum wari seller perhap good point unless refer amazon prime shure sm commerc competit price postag easi return anyon return sm probabl busi buy first place popul drone industri invari purchas profession know first hand get reliabl virtual indestruct fact popular sm led slightli less expens imit consum requir choic shure sm need none shure bet',\n",
       " 'plenti flashier prettier modern er look nostalg look microphon much market garbag mic best mic buck anyon claim abl tell differ far expens one blow smoke industri standard',\n",
       " 'mic well made heavi mic end yet tri pop filter multi track studio good mic',\n",
       " 'well made low nois low cost cabl unless make lot money record fine good valu home record',\n",
       " 'know expect prove worth gambl cabl appear well construct work fine amateur use infrequ setup teardown decent feet long lock button femal end quit happi good cabl next noth',\n",
       " 'use cabl small home record project not take cabl around gig show pretti sure last longer month heavi use sound qualiti fine metal connect feel littl bit flimsi look someth cheap job product work person budget',\n",
       " 'receiv time standard blister packag cabl stop work day sinc day return time sent email manufactur respons till today die day use',\n",
       " 'thing terribl one fit soundboard anoth lock mic plain simpl look crap work buy crap',\n",
       " 'pay coupl buck get one brand like audio technica know go withstand test time mine work fairli well attach loosen know next job better qualiti one',\n",
       " 'everyon develop person prefer time one reason anoth person prefer xlr end realli fine thread plastic cap outsid first slide cabl leg gripper underneath slide next cabl pinch tighten plastic outer cap metal hous solder contact caus gripper strain relief cabl diamet unfortun design use chose award star rate valu get good qualiti shield cabl xlr end f well ft pinout straightforward pin tie metal grip shield connect end pin run isol end end design chosen use singl set screw connector tini one get lost easi need take apart rubber bumper design back best luck make quick chang field howev interconnect equip temporari basi cabl import start point audio engin kit use not need aris anoth favorit mine pack foot male femal cabl use favorit xlr end mention amazon rush gl audio ft patch cabl cord xlr male xlr femal black cabl balanc snake cord pack easi open end chang phase lift ground input someon oddbal sourc signal hand mean quibbl cabl cost show start channel final mix back pyle product basic took away star not use easi open wire xlr gave star valu product sinc feet long reach mixer anyth els insid booth buck foot also great someon yell short need cabl stretcher podium quickli add feet nois free movement stage snake either plan got move quit work price save mani instal torn rewir mean surpris open next show final equip cabl kit usual xlr rca tr hi z transform mention pack foot cabl quickli gain access xlr termin need plu foot cabl mainli solv distanc problem roll gaffer tape good measur prevent trip hazard use ea foot xlr cabl sooner box open one becam perman addit stage snake one left kit build emerg xlr mm ts metal shield connector mike input short notic solder kit misc plug got ad cabl bin even though save day made show go bit think judici purchas make look like miracl mixer black paint room justifi exist owner daugher toy musicbox becom channel hous mix thank quick cabl magic last cabl advic never deconstruct someth custom made doubt need sinc made know use thu save time not recreat past fix rather pull magic box trick solv problem peopl think hook anyth other tri fail further staff posit except goe cabl violat everi standard serv fix problem like phase revers ground lift xlr pin stereo splitter dual tr femal cabl made harmonica duet perform nose ring lip bar pierc kept get static mic held harmonica jewelri chalk part intend music signal wonder much hurt play pierc scrape along harmonica setup monitor speaker listen stereo channel rehers consol get star valu use favorit xlr end',\n",
       " 'great chord anyon need not spend money high qualiti chord peavey work good satisfi',\n",
       " 'product feel littl cheap side definit job way care cheap came fast recommend feel cheap job',\n",
       " 'bought pair cabl work fine seem nois seem built last suppos work',\n",
       " 'one two purchas also bought length use assign recent fit rode mic nice tight cord bought sound qualiti excel amazon allow link would give link video finish independ sea go websit look ipa impress dot comgreat product fast servic crazi low price',\n",
       " 'not much say good cabl good solid connect play consist use go strong good cabl',\n",
       " 'complaint quiet enough price right monster cabl cost much either use lead vocal track studio condensor mic profession album session fine decent xlr cabl',\n",
       " 'well made perfect length need shield great well end connector well made strong qualiti made',\n",
       " 'purchas connect sennheis e mike guitar amp requir cours addit inch adapt plug cabl work perfectli prove durabl suitabl length least jam friend play small venu recommend updat mark product one star connector fell apart regard rel light duti set screw fell could not found similar problem pyle product buy recommend tat get micro screwdriv set well tighten te connector screw similar xperienc work well guitar amp ou tighten set screw',\n",
       " 'like product market depend item use experi may vari cabl go use semi stationari mic stand project studio thu far done noth except job test cabl differ mic scenario signal strong pricey cabl would purchas absolut low price great mic cabl',\n",
       " 'extra length give flexibl maneuver cord work well problem date plug directli system mini amp work well xlr male xlr femal microphon cabl feet',\n",
       " 'tell guy xlr cabl receiv recent far best qualiti cabl ever encount entir music profession life would suggest cabl one colleagu cabl super',\n",
       " 'got packet tri found better gator screw came case equip secur highli recommend good rack screw good price',\n",
       " 'screw screw hold thing say less would gotten star like job',\n",
       " 'good qualiti rack screw come rubber washer protect face equip arriv ahead estim arriv time alway nice good product',\n",
       " 'excel rack screw washer fit good rack hole good present well pack buy fit good rack hole',\n",
       " 'far one use thread nice u rack exactli describ job guy say littl box screw mayb post pic littl bugger action yep rack screw',\n",
       " 'pro look nice caus much less wear nd hand rack screw washer con expens wait day longer took rack equip ship purchas need rack fill better nd hand rack screw',\n",
       " 'replac stock mount screw came sound rack cabinet nearli invis black rail mount plate plastic washer also seem protect finish better metal washer equip mount inexpens worth nice stylish look screw rack cabinet',\n",
       " 'donr fool imit slogan real junki one great love washer life saver thank best rack screw money',\n",
       " 'great rack mount screw rubber washer perfect let give item tight fit without worri screw work time soon use portabl desktop rack mobil dj equip held strong great',\n",
       " 'need rack screw real mccoy wide enough pan grab ear narrow enough clear next piec gear thank raxxess screw not even number would nice',\n",
       " 'rack screw raxxess make best qualiti screw soft washer avail good get',\n",
       " 'well review surviv censor know great screw run origin screw suppli new rack work get screw',\n",
       " 'mic like pant find right fit one like vocal live sing fairli low airi work great also use mic reson guitar tube mic preamp live sweet sound prefer seem bit bright natur might purchas anoth one eventu like',\n",
       " 'drive pinto drive cadillac industri best mic far concern shure sm like everyon els own comparison mic sm sm garbag compar beta spring extra buck happi alway say best around mic live applic',\n",
       " 'one well sever microphon sm good around mic reason industri standard go beta better opinion vocal specif mic basic give opinion higher qualiti sound sm comparison sound muffl muddi beta clearer stronger articul use sm beta sound thin harsh adjust board end result tighter sound mic clariti pattern wise better reject unwant sound play drum use mic reason pick less drum sm sm built like hammer better hammer actual',\n",
       " 'ye cost consider sm not sure could pass comparison test two love mic sound slightli brighter clearer use past musician strap cash tri make end meet get extra dough want confid boost go beta would buy favorit mic',\n",
       " 'amateur sound tech use sm church year singer song leader like much mic singer grow need addtion mic thought beta good review receiv cannot wait test whoaaah sound better sm songlead test guess dont want use sm anymor better sm',\n",
       " 'shure sm lc shure sm vocal microphon seem run stapl live perform vocal rightli due compar valu amaz qualiti sound craftsmanship beta need given due beta amaz dynam microphon might allevi stress associ cost effici cousin beta confin live scenario util demonstr much broader sweet spot complet elimin sever feedback issu vocalist like pull back mic touch realli belt sustain high realli note beta dream effect help one experienc sibil pop complic need sing past microphon oppos directli wish better understand sound engin standpoint technic specif could expound upon confid say beta best vocal microphon ever util asid higher end condens mic isol environ quit honestli would not surpris beta compar well even confin record situat bottom line beta might expens popular cousin sm worth everi penni anyon opportun give chanc demonstr superior six five star beyond fantast',\n",
       " 'beta along origin sm industri standard well known gener purpos workhors live vocal far popular tool qualiti venu throughout countri commonli stock go hous mic fact notic beta place small theater high end system play recent use old year move beta certainli notic differ two beta definitetli hotter sensit respons vocal cut mix strongli clariti might use mid high pick perfectli sing inch away subtl low frequenc roll avoid boomi muddl sound typic get hit low quiet note close definit need stay within close rang though pickup pattern tight good thing extran nois feedback effect reject built like tank probabl bit overus describ product shure vocal mic truli earn titl take enorm amount abus never falter toss around drop buri stuff etc problem maintain bunch music gear nice tool never worri reason highli recommend get use one find deal chanc work order matter rock solid',\n",
       " 'actual replac boss tr pedal everyth suppos without perceiv say volum loss typic mani tremolo pedal perceiv explain good sound sinc pedal rehous metal enclosur better switch scare break plastic hous switch best tremolo pedal money',\n",
       " 'let start say huge fan dano stomp box probabl close dozen variou line make pedal decent job cover tremolo need imho tremolo dano cool cat line much durabl pedal time review switch knob pedal weak link think true bypass either cool cat metal enclosur true bypass sturdier input knob much better switch featur sound spend extra much bullet proof pedal cool cat trem not bad cool cat line better build',\n",
       " 'hey get job done ask tri sever cheapo pedal one favorit better case metal instead plastic end day look good sound not pretti pedal board pedal seem solid enough take much space sound great versatil rang sound far tremolo pedal come like typic musician look someth not go break bank get job done',\n",
       " 'first start set littl studio want someth break budget tri coupl differ combo pedal board digitech boss quickli realiz get sound money quickli dri not much left tri tuna melt exampl danelectro would think thing stun abil manufactur vintag tremolo sound line pedal type never dissapoint save hard chain without lot nois got guitar build got put away late tri make time improv play skill joy joy rediscov pedal absolut love forget fab seri not hot buy old style tuna melt big metal one like dan echo not sorri old time food pedal best',\n",
       " 'hello musicfriend built cheap sound great good control studio songwrit perfect would not exactli go tour someth knob still love even digit unit tremolo hidden may age thing built cheap sound great',\n",
       " 'sound great nice warm lush one better trem pleasur use howev hate plastic hous input output jack locat heavi feet probabl last good long board realli want put much weight sound great',\n",
       " 'exactli need capo cover six string move one string get drop tune turn capo upsid get partial capo though bit adjust may need get string held great capo well made last forev kyser awesom small christian compani realli like product support purchas great',\n",
       " 'love capo nice get colour prevent get confus one els alway great kyser',\n",
       " 'son need capo expens music shop take lesson amazon found want reason price great price',\n",
       " 'titl say got free ship amazon prime cheaper local music store keep head guitar easi add move remov trigger type releas make one easiest quick chang capo use feel sturdi enough lightweight aluminum best work cheap easi sturdi work',\n",
       " 'like work well takamin acoust jasmin guitar look good overal recommend pretti work nice',\n",
       " 'quick clip realli anyth els say els want sucker wonder reliabl one year thing went wrong remov rubber bottom capo becam damag neglect howev keyser sent bag go wrong great product way cap',\n",
       " 'coupl buck dunlop not tri coupl wish cheeper would one case work fine well made arriv time enjoythi recommend teacher',\n",
       " 'like camo capo simplic uniqu color friend got new one see use bit shorter mine mine work uke acoust guitar problem use singl hand manufactor suggest durat clip guitar not use easi use beauti',\n",
       " 'capo look great job take bit pressur open camp better wind version look great',\n",
       " 'purchas string kyser capo meant get string version slightli longer stronger spring find string capo not work great string acoust also work string acoust littl adjust qualiti seem top notch design simpl effect great string capo work string well',\n",
       " 'own one year still go strong mani gig spring tension right solid construct work well',\n",
       " 'basic easiest squeez opinion big hand may part favorit',\n",
       " 'high qualiti hassl free design quick easi instal remov hurri dosn mar finish use excess forc strong enough move capo way close next fret closer headstock allow maximum room finger without buzz happi purchas awesom product look great american flag theme guitar',\n",
       " 'one two year complaint need anoth travel guitar lever arm coat soft plastic sleev protect neck spring firm year not given tension final string compress side materi firm yet suppl take particular caution make sure leav anyth would indent materi perman work well',\n",
       " 'seen use mani differ type capo year rang cumbersom difficult use easili breakabl never use one conveni well construct kyser one far best ever seen use year still work fine make move capo quickli cinch gold corrod tarnish make look like new even year highli recommend best capo ever use',\n",
       " 'well made easi use hold string fine well protect not scratch nick guitar gold capo match gold key guitar',\n",
       " 'durabl afford easi grasp use easi grasp use',\n",
       " 'capo good ever use pink perfectli match shell pink strat great deal capo good ever use pink',\n",
       " 'currenti use two type capo kyser one shubb capo popular capo around differ strength weak benefit kyser quickest chang capo come across requir tension adjust clip end headstock not use primari benefit shubb adjust tension second smaller main drawback kyser lack adjust tension design work across fretboard appli forc necessari clamp lower fret caus fret wear faster time prefer use kyser less expens guitar shubb guitar babi quickest chang capo',\n",
       " 'easi usegreat qualiti look forward purchas brand thank muchgreat',\n",
       " 'got need basic capo good price tension littl tighter like work cover string depress fulli use often speak longev good basic capo',\n",
       " 'play guitar year seen mani differ capo none quit satisfi kyser realli go wrong capo mobil easili adjust sturdi durabl good capo use regular string capo still turn around use asa cut capo transpar rubber piec job come differ color also black silver gold camo kyser capo also cut capo style recommend capo kyser still great condit use time church homebest capo',\n",
       " 'start use kyser capo coupl year ago never look back sinc sever not problem work great acoust electr guitar surviv mani children teach lesson even though get treat rather rough time great capo disappoint perfect capo',\n",
       " 'handl spring strength make uncomfort place guitar feel rush clamp capo unpleas use hurt finger cheap easi use job like ok wish bought someth els',\n",
       " 'say not high end capo price lose like capo own not high qualiti capo take adjust get seat properli reason decent capo afford leav somewher',\n",
       " 'origin bought guitar work well tri string uke work great much better elast capo doubl duti go strong work great ukulel',\n",
       " 'style capo throw guitar tune put right use correctli though job fine capo',\n",
       " 'repeat everyon els alreadi said kyser capo design built well easi put adjust easi take probabl capo bit flashier still pretti stylish price make real bargain togeth',\n",
       " 'believ thing perfect capo one quit good reason strong hand pretti easi use good job compress string fret definit well built capo import take not use rubber not get groov good common sens last coupl year definit purchas anoth good effect capo',\n",
       " 'bought string one blk love simplic need keep search got gold remind six string nd one',\n",
       " 'use differ capo far away favorit easi take hold string tight ask set inexpens great capo',\n",
       " 'say kyser quick chang capo capo great chang key middl song anytim hurri highli recommend great capo quick chang',\n",
       " 'capo nice fit yet sometim wonder fit tightli use cours string tighter sometim feel play particular capo make string tight yet capo structur well nice',\n",
       " 'pleas purchas string play clearli zero buzz posit fret dramat hear feel differ use cheap capo well worth pay excel',\n",
       " 'husband uses capo almost everytin play guitar old one last year worth cost good qualiti',\n",
       " 'long time shubb user decid tri someth differ think found lazi end use kyser often shubb fact put kyser peghead reach hand alway avail posit guitar e peghead kyser turn much conveni reach someth not guitar could chang accord situat e g mayb side sofa live room mayb tabl floor place shubb conveni',\n",
       " 'capo wonder perfect way around long last back compani three kyser make best',\n",
       " 'good strong spring good strong materi improv would make clear protector hold behind neck protector need longer protector age slip end surfac extend end base pivot would help kyser capo',\n",
       " 'bought capo mywashburn work orlando classic guitar well want capo simpl oper expens kyser quick chang guitar capo fit bill nice updat orlando guitar stolen boo hoo easi easi offth spring mechan make easi put capo take rubber clampsrubber clamp help prevent kyser scratch mar neck fret ergonomicth arch arm weird look loopi look thingi straight arm help firmli grab without slip easili quickli remov reposit kyser capo durableth kyser made durabl aluminum updat capo almost year still work like champ accord amazon instant order updat moi got capo novemb capo colbi caillat use bubblycheck music video capo colbi caillat use inbubbl kyser quick chang guitar capo excel think go wrong one work',\n",
       " 'own sever year silver color one present price right work fine real issu sometim bunch bend string set whatev fret go bar thu produc sound look higher end capo counter screw rather spring howev like say work fine littl care attent placement fretboard tell popular model market work pretti well',\n",
       " 'easi use capo good strength hold string well not sure good g th capo still find best hold string evenli stay tune kyser much cheaper good job kyser capo',\n",
       " 'probabl best kapo market high qualiti sleek look easi use could want industri standard',\n",
       " 'use capo guitar sound awesom like put capo first fret play song made sound realli realli good capo easi use well great product love capo made',\n",
       " 'descript say color gold not greenish yellow intend think would stick black color though ok capo',\n",
       " 'realli like capo blue look good light natur finish accoust work howev feel like deserv star simpli could much robust product exampl think bottom part clamp littl longer round back side guitar neck round spring could definit tighter rare notic buzz not quit tight enough also design fairli nice mostli aesthet not realli super comfort easi move around necessarili get wrong rather good product price right high end product star perfect work well look nice minor complaint',\n",
       " 'packag arriv time best capo around work great suppos capo',\n",
       " 'work great clip jam forget screw type spend extra bux one happier trust excel',\n",
       " 'chose patriot design obviou reason love clear shard silk screen capo realli good snug string beauti piec',\n",
       " 'got pink caus nobodi would steal know often capo get stolen peopl pink greatpink',\n",
       " 'capo awesom look feel nice premium work guitar not much ask nice capo',\n",
       " 'martin string bad not sound look end like erni ball earthwood extra light instead martin littl shallow low end unlik erni ball peopl love though easi play not tast',\n",
       " 'good averag guitar player want much strain pain finger not fullest tone expect extra light string not fullest tone alreadi knew',\n",
       " 'electro acoust martin second hand without scratch got string well simpli much good play rithym pretti much noth els instal set got sound realli good not solid rang solo go much easier recomendedsound perfect',\n",
       " 'martin make great sound string decid use light martin string sound louder better could play easi lighter string great string',\n",
       " 'string not string guitar string anoth import part play great guitar martin product second none string',\n",
       " 'replac set string use martin name light easi finger give great tone qualiti compani great string great price finger love',\n",
       " 'order coupl set string would extra year old son start guitar string good sound hold tune well best thing price great like said using mine son guitar son break string play hard string not break bank replac need great string break bank',\n",
       " 'name martin say mani mani year grab extra want great price great string pk',\n",
       " 'love string use acoust play best find per set not dump bunch money string time easi play sound great long last take care wipe everi time best acoust string',\n",
       " 'string provid warm crisp tone make dreadnought guitar sound like heaven use timebest product',\n",
       " 'good string good sound extra light easier finger sound thinner go light gaug solid sound handl pressur good like',\n",
       " 'third pack st pack use two month sound rich full feel still good broke high e st attempt restring luckili bought pack time want keep complet pack back fingerpack quit long time recent sometim practic hour tire session use light steel string acoust one easier finger even tini lighter third pack',\n",
       " 'okay string folk guitar noth special price world either good buy money tri gibson j seem good okay string folk guitar',\n",
       " 'yet anoth one forev beginn come play guitar never mind guitar string made second hand guitar sound much better put new peg string string sound much nicer richer see need replac saddl bridg peg keep come loos think string string set go like string light due not much practic number year let face finger get sore play also small finger hand intend continu purchas string futur use recommend love guitar string',\n",
       " 'restrung martin ny string found excel new guitarist light string easi sensit finger tip warm rich sound impress product',\n",
       " 'even though folk string put year old dread sound realli good hope last longer review indic also wipe play minim tarnish far goodsound good dread',\n",
       " 'great great sound sound string differ string could get also teach guitar player use lighter touch play produc beauti sound well worth pk',\n",
       " 'string work well not give mellow sound guitar look ship quick string reciev good order silk steel string',\n",
       " 'love string bought set awhil back ovat never use came possess old yamaha acoust guitar pretti beat need new string put sucker wow impress even old beater guitar sound great play easili string bought anoth set ovat time sound great',\n",
       " 'bought pick holder hate put pick string hold play pick string origin thought thing would kind larg go way across headstock boy wrong pictur mislead thing tini bare goe across three string wedg neath two string put two pick mayb thin wedg top stay place well conveni neg know long hold think mayb thicker rubber rather foam rubber would held better see thing eventu lose tension pick holder wedg drop pick nice littl pick holder',\n",
       " 'realli like thing stick tape stuff guitar bodi make doubl side tape similar post note might good idea bought back bought drop pick anoth right fun second batch order',\n",
       " 'love idea need pocket strap elsewher store pick not add someth els find loos pant pocket love concept',\n",
       " 'good think bit expens one give two price lower priceok pick holder',\n",
       " 'doe not stay well move much even go pick lightli could redeisign ok',\n",
       " 'buy product conclud lot money foam job think velcro job would prefer one lot money foam',\n",
       " 'excel simpl product fit guitar stay way play easili hold pick time end groov end one slide least string fit groov good pick holder',\n",
       " 'sinc bought littl gadget everybodi play guitar around want use misplac pick time play not look around longer know find like use differ gage pick therefor order christma stock stuffer whicdh enjoy friend great gadget add guitar',\n",
       " 'lot smaller pictur make look good thing serv purpos fit snugli string headstock handi',\n",
       " 'use right acoust job respect hold pick smaller would pictur still good product hold light heavi pick super easi put take problem move lot put pick back besid highli recommend anyon definit pick axe decent pick holder',\n",
       " 'not much say made foam made slip string made hold two pick sever acoust electr son lost one perform stage not secur dislodg still stay major time recommend son guitar teacher call fanci littl pick holder peopl ask buy one see first time one must also care son lost one know possibl fall lost perform play stage pleas click ye review help encourag continu write updat review leav comment question happi answer help wedgi',\n",
       " 'use hold pick acoust guitar got tire lose pick mid jam dig pocket scaveng anoth pick right work',\n",
       " 'use month string bass think even use bassist guitar often find play finger suddenli pick song start pick usual offset tuner placement fit one pick still find indispens tape sticki stuff also model made special bass updat bass model bass definit better thicker string guitar model gibson explor love spread string headstock make less secur perfect still highli recommend headstock straight design not much jackson radic angl headstock make metal edit back order',\n",
       " 'thing suppos use practic bass sinc use type pick suppos togood product',\n",
       " 'think may affect abil tune properli seem affect super audiophil tone hound might say affect reson sustain take record handi two pick time great not make trip back mike stand get pick attach someth sticki tape guitar finish likey price beat either cool',\n",
       " 'bought one tri asher junior lap steel guitar hold two finger pick thumb pick work difficult get three pick one wedgi order second one two nd rd th th string next nut work pretti good hold type pick admittedli wedgi not actual design like much order two acoust electr guitar one bass bass version side see seem loos like could fall doubt pick stay place case guitar tri yet otherwis worth price good doo dad around especi lap steel need place stick finger pick guitar real help stay organ great lap steel guitar',\n",
       " 'play string instrument better part year start cheap tijuana wood box year old progress martin string acoust guitar electr fender gibson unit good respect decid treat le paul th birthday not financi resourc buy git shop shop final settl cherri burst lp arriv perfect condit slightli smoosh outer packag notwithstand even sorta tune quick dial electron tuner brought right simpli put nice guitar allow string neck settl togeth spent hour week later adjust string height inton pick distanc lp rock go spend mid rang fine practic perform guitar go wrong one kid two thumb suggest fender mustang amp make guitar sound even better good select',\n",
       " 'exactli describ love sound easi play great price excel sound highli recommend everyon love',\n",
       " 'bought present daughter learn guitar absolut love everyon play past week love beat price guitar beauti',\n",
       " 'fine guitar amaz particular instrument issu finish coupl place around perimet guitar look like black splotch underneath sunburst paint clear coat one near top strap post anoth near place pick guard mount undersid bodi neither would appar someon apprais guitar look normal mayb got first one line switch black paint model guitar also weird v shape back neck wood grain match guess joint glu togeth know better le paul guitar one piec neck sinc read one someth differ assum would glue stronger wood le paul guitar tendenc break area guess guitar durabl still disappoint unexpect discoveri not sure see finish issu hand would dissuad buy guitar upon reflect would much smarter visit music store examin guitar buy remain issu instrument gener design le paul guitar versu particular instrument guitar small comfort play without strap even sit top strap peg angl slightli guitar horn angl mean invest instal straplock system kind good idea le paul peg stay strap hole well guitar great guitar knob switch real le paul guitar practic standpoint rather cumbersom separ volum tone knob pickup rang adjust saddl pretti small found imposs setup guitar coat string without addit hardwar guitar sound decent look pretti great although not quit pretti pictur one due shorter scale length tad easier play guitar note shorter scale length characterist le paul guitar indic less full size guitar though fine guitar price not sure would make choic posit mistak buy sight unseen',\n",
       " 'play guitar year own play varieti guitar lifetim wife bought guitar gift cannot begin tell much love guitar solid well built guitar finish beauti pictur justic sound incred great tone sustain wonder harmon clean tone nice warm neck fast fret nois hum pickup realli nice versatil play anyth blue hard rock metal would perform live guitar heartbeat cannot find better guitar price would expect cost much extrem impress great guitar bet add next guitar collect anoth epiphon well done epiphon fantast guitar',\n",
       " 'learn squier six month realli want better guitar research read review check guitar store chose one much easier play squier better sound like squier not bad get littl buzzi top string suspect might need adjust clue go also good choic women small woman realli like neck smaller also fairli lightweight overal happi choic guitar tech told best guitar mayb expect happi year upgrad good readi second guitar',\n",
       " 'bought year ago amazon happier first electr year own got way expens fender strat still prefer epiphon feel realli lightweight lot even le paul distanc fret smaller one guitar tri make easi play stay tune look realli realli love like much decid add pair slash alnico ii cost guitar made sound incred awesom improv sustain good ol crunchi bluessi rock call cheap want care one item make wonder come other way overpr find way justifi real gibson le paul sound better recent year estim somewher around hour heavi use start fret gave star would expect guitar sure easili fix guitar tech continu sweet tone machin alway learn look first electr want practic axe not dissapoint go ahead buy give nd thought first electr guitar',\n",
       " 'play guitar sinc year old decad must say pleasant surpris electr year budget get gibson pick epi le paul instead along fender mustang amp great combin guitar sloid feel came set perfectli right box need tune unlik other feel string got need chang right away probabl within first two week want chang replac mine erni ball not even slinki happier way thing play sound great sustain beauti harmon clean tone warm get nice blue tone superb thrash metal versatil not quiet countri jazz realli meant action extrem easi fret board great feel good width neck not slinder not thick feel good hand finish product nice one thing though pick guard kind tan cream white color not bright white pictur still look great also not mention descript come foot cord not best qualiti would recommend pick new one order overal well worth list msrp less half steal consid instrument hesit qualiti guitar great price',\n",
       " 'well epiphon le paul came earlier morn impress u bet cha thing simpli beauti arriv well pad doubl box initi spent minut go whole guitar magnifi see could spot flaw none not finger print anywher guitar extrem well made put togeth right tune box action smooth butter neck slim good thick hand jumbo fret burr abnorm put quarter th fret right money consider heaver thought would imagin weigh lb strap order way mapl top work art superior finish metal hardwar appear top qualiti duncan pickup epiphon lot easier play thing ever hand float fret think could get better piec price point epiphon lp le paul electr guitar vintag sunburst',\n",
       " 'one awesom guitar also purchas fender mustang amp epiphon custom case fit like glove planet wave planet lock leather guitar strap comfort secur made unbeliev combin along rocksmith cannot imagin anyon disappoint combin problem household get play next sweet',\n",
       " 'wait two month review le paul make sure issu happi guitar came well pad excel shape set well play well box first string chang make sure use gaug string make adjust guitar play well chang littl nervou onlin purchas not abl play guitar buy live stick major trip get real guitar store sometim take chanc anyway work guitar easi play free prime two day ship sale tax save ga would taken make trip buy one store save ga tax paid half new mustang v amplifi thing epiphon site state electr guitar includ cabl box one not read forum seem almost normal thing cord somehow disappear reach custom not big deal thought mention think buy epiphon order one realli sure cabl would includ not order one time glad happi le paul',\n",
       " 'first ship fantast ship next day came well protect perfect condit extrem well made solid product think peopl given le paul rep starter guitar trust say problem leav le paul standard home take one gig play well sound incred even great acoust sound not plug amp say enough good thing guitar good think aout buy guitar buy buy best guitar ever own',\n",
       " 'year sinc electr guitar trade old one pay debt never return decid recent move back home town go get back play electr guitar time want hobbi fulli intend local gig fun side cash guitar easili deliv came perfect condit action set perfectli issu buzz string come clear black control knob like replac someth bit prettier overal great guitar even sound amaz realli ballsi sound lp well lp gibson lp happi purchas epi le paul special awesom',\n",
       " 'purchas primarili rocksmith work well still learn play like feel guitar look great play great packag well need minor setup adjust would recommend get strap lock nice money',\n",
       " 'edit previou review littl guitar take time properli set dial play edit yet someon appreci gloat guitar sorri offend made knee jerk review right got fair receiv gibson le paul day buy local music store profession set readi go compar appl orang speak even compar realli far apart gibson best guitar ever own made previou comparison base littl babi second favorit review not fair paid lot gibson buck epiphon dollar dollar littl ephiphon steal wow must honestli admit edg goe gibson not much think littl epiphon outstand guitar regardless price play blindfold would never guess one guitar ever tone epiphon much like gibson le paul easi play comfort sweet sound either rock mellow play blue classic rock honest probabl play epiphon lot gibson ding one broke bank think tend use one lot happi epiphon le paul proudli play amaz make thing money charg may purchas anoth one put away sure price stay low plu get anoth one differ color never mani guitar go pickguard one finish outstand like keep way think learn play guitar one brainer buy establish player look realli nice practic guitar buy one heartbeat shock sweet sound good look comfort light well play sure way tune requir height adjust fantast new rule write review product least one week proper set star damn nice guitar',\n",
       " 'beauti guitar finish amaz tone clear afford sever hundr thousand le paul fun good guitar money string e e know g chord lot fun volum control goe want kick notch kid make sound like eric clapton',\n",
       " 'epiphon lp special ii le paul electr guitar ebonyhello written review guitar purchas year still stand posit review guitar guitar one two favorit favorit dean electr string hold play epiphon le paul special guitar feel sound like someth could take stage cost associ gibson also amaz still around well worth noney stay tune high qualiti well worth money purchas electr acoust epiphon ukelel today chiropractor review later look le paul guitar not one not typic style although amazon sell one let name fool still nice guitar though solid construct beauti polish eboni finish tuner highli recommend guitar buy thank well made play well',\n",
       " 'play year current guitar problem lp feel like boat anchor around neck bought sold quit anoth problem real lp get one chanc drop one see mani use one head stock repair beauti guitar not comfi play deal use guitar pick epi special along sever guitar resal shop cheap mess readi set resal fulli expect fret level guitar even lot higher end guitar need found special fret actual well done chines version need slight level would play fine without picki take much get set small truss rod adjust new set string littl bit adjust bridg cut nut bit note play well way got like stuff perfect got set plug check electron start realli becom impress guitar cheap pickup suppos sound muddi charact sound pretti good actual good nice bright nice tight bottom end check sound also crank back track stage level play track cut realli well notic test volum nice sweep lose high turn tone knob also usabl good sweep nice pop back cover check full size pot mayb not best qualiti much better expect normal upgrad electron person guitar get control oper way like need fix not broken yup said person guitar keep one neck fast comfi not boat anchor shoulder thank tuner lower end trapezoid type turn smoothli backlash keep guitar tune fine broke fix pleas note tune problem bind improperli cut nut set hundr guitar almost need nut work matter price point also bolt neck lot player say set glu neck feel glue actual deaden sound bit prefer good solid bolt transfer sound imo found qualiti level low end foreign guitar becom good know corner cut get price point budget guitar special good go right box littl tweak advic go tri one tast may not lot good valu well made guitar day found price vs qualiti ratio epiphon special realli special get one get set buck good instrument oh mention good look guitar good valu lp',\n",
       " 'good overal pick up terribl might better replac pickup will spend extra moneynic guitar sound',\n",
       " 'got pretti fast took box want noth give star valu alon still shake head disbelief got guitar price first tuner issu read replac string stretch stretch thing would not stay tune set addario cure straight away whatev prefer chang tuner best not blame cheap string technic play open chord playabl box neck angl string rattl matter high set bridg guitar would not inton due ridicul angl ye could sent back suspect would gotten anoth like spend hour shim neck nut never nut electr not even use guitar nut slot cut deep well work level nearli everi fret make playabl requir busi card shim neck ever use got straight remov bit paint neck set wood glue pocket screw opinion help great deal bolt on matter bought use none would big deal look horrid neck angl work steadili stare qc pass sticker must built friday afternoon someth sweet play peavey valvek rock good strat w duncan dimarzio qualiti electron not sub par adjust pickup screw match string height get horribl wax argu good epi ever play far pup hesit realli care epi love bought sell mainli build qualiti hmm guitar work go otherwis highli recommend expens model model great right box usual star good valu need lot work',\n",
       " 'consid guitar assum shop electr guitar lower end not tri decid gibson le paul custom categori beginn intermedi guitar rate star instrument realli find anyth wrong ye shortcom compar expens epiphon le paul two control volum tone rather four also mean slightli differ look famou gibson plan tri fool anyon begin player would well advis focu develop skill hone techniqu rather fuss around tone control anyway sound good found appear finish mine fine pickup surprisingli good electron found expens epiphon le paul great surpris find string good although would sure nice cut corner inexpens compon also integr sound qualiti fit finish read review convinc lot variat luck draw whether get one made monday long weekend parti sever reason would not buy onlin would buy gc better inspect actual guitar buy shi ask bring anoth one like first one see discov late local music shop would sold guitar price would includ full profession setup includ string chang like find similar deal live smaller shop compet internet gc took guitar local shop paid setup inton problem action high other comment string guitar need chang immedi ask luthier opinion tuner read lot peopl trash tuner bear mind financi incent steer toward replac instead assur fairli decent advis chang unless problem develop box littl unsur purchas howev fulli set new string instal quit pleas guitar believ find better guitar even close price level lot shop consid guitar first foray electr tempt go someth expens theori coupl year want upgrad anyway glad chose one one thing guitar alway enjoy around noth cheap toy like year tast may chang may want someth complet differ road still option gone expens model feel lock good bottom line shop guitar price rang think pleas guitar buy local see exact guitar buy negoti setup includ almost certainli need one set right instal qualiti string happi epiphon lp special ii nice guitar great valu',\n",
       " 'got one back like guitar took apart see made mahogani pli mayb cap real plywood bodi insid kinda shock competit guitar market epi would go otherwis decent build basic origin lp design bolt surprisingli good electron w full size pot open back way toggl good neck bad tuner note mount tuner mean mount hole clock posit respect fit bottom hole screw junk tuner mine add get minut tune play fill littl hole nail polish like made right begin like style though plywood involv still good fit finish though mani disagre make real differ electr guitar bodi wood look electr guitar reson pickup import like idea beginn choic simpl fact cheap tune key lose interest learn someth hold good tune bug big player choic like epi would like keep style revis hardwood bodi real tuner think price point demand otherwis decent piec good wire decent pickup not mahogani',\n",
       " 'pretti sweet guitar price sound like play like le paul realli like vintag sunburst color orang pictur show string setup nut close fret board way like alreadi got replac string heavier string person prefer overal sound look awesom would recommend anyon budget want sound le paul freakin sick',\n",
       " 'axesepiphon lp studio delux plustopfend maraudertakamin g squier standard stratsquier standard pj bassbeen play year squier bullet cheap guitar care could keep next couch play rocksmith got old wore fret need new cheap guitar rocksmith pick lp special black guitar center kick free string bought game soon found use guitar sound good play well killer tone lp studio pickup replac zakk wyld made good metal lost bluesi tone passiv imagin delight inexpens epiphon great sustain tone playabl consid thing almost price bullet squier easili twice guitar price liter cannot find better guitar special sound two passiv humbuck great sound glossi high deep low put right amount dirt tone gutsi clean distort sound pickup wax dip not microphon feedback effect pickup high output feel like alnico ceram not sure much sustain bolt neck shock build qualiti problem high e tuner notic store string peg headstock discov loosen string whack fret hammer pop right stay way inton requir adjust action exactli way like itneck straight fret buzz excess bow finish perfect nick blemish oili black good neck flush gap seam profession shim damn good bolt hardwar typic price job stay tune well back bend headstock x orient mean string tree make tune much stabl bridg similar lp studio tunamat setup individu string may inton action done two nut ie rais one side higher lower not individu string weird toggl volum knob soon got use pickguard need one lot relief string bodi find hit pickup hous bodi pick make easi clean truss rod behind nice bodi color plate fret smooth round play nice could use littl buf silki smooth not rough neck play fast nut took get use would catch hand fret top soon got use issu k pot side bodi trplug keep cabl way overal came hex key setupcam awsom poster epiphon guitar modelscam nice bumper stickerno manualbodi pack foam shroud foam block guitar summari guitar best bang buck instrument sound good enough gig box well built play well treat well give year great music fret medium jumbo littl deeper fender mean last longer need fret typic affin bullet squier price rang would say guitar suitabl style music blue metal countri pop pickup humbuck mean darker higher output fender not much nice fender bell like tone chime make power clariti one thing like epiphon gibson volum pot not close bridg make easi palm mute play high gain lay pinki knife edg hand lightli across string right hit bridg make nice mute strat damn volum knob way experi took pick pole scew bottom pickup see could get singl coil sound happen mess parafin wax got everywher tone littl brighter output littl lower still hum fool anyon think singl coil end put screw back like put lp studio stock pickup back hell yeah coil tap come move emg lp special make nice littl metal guitar favor buy guitar even alreadi better guitar cheap enough care bang around littl good enough enjoy play mani year almost good lp studio delux plustop',\n",
       " 'guitar attract look play well right box beginn guitarist pleas take review worth extrem pleas plan ever upgrad guitar darker cherri red wood color center shown pictur expect differ color order see custom pic come string instal almost tune volum knob well design smooth conveni use trembl rhythm switch far enough way not go accid hit strum gripe high e string get caught top pickup play hard mayb novic say easi play everyth adjust also like buyer bewar statement think go addict reason receiv star',\n",
       " 'purchas sale christma season figur ask price time could not go wrong expect frankli low heard noth horribl thing epiphon main complaint would not stay tune complaint includ poor overal qualiti terribl playabl receiv polar opposit receiv instrument strikingli beauti finish one stay tune amazingli close perfect tune unbox not wild string came stock drummer suffer disappoint head ship new drum guess guitarist expect chang string new guitar way drummer come head near futur intend restr guitar withd addario ecg chrome flat wound electr guitar string light thick make instrument jazz friendli realiz flatwound string requir new set inton consid good guitar rel littl cost new string work invest box though action reason low fret appear novic eye finger properli dress alreadi invest good not great case guardian hardshel electr guitar caseto store guitar also upload custom provid photo page show case well guitar fit record use follow amp also review perfect match guitar kustom defend watt class guitar headthat run akustom defend x guitar extens cabinet h head bottom line great instrument beginn not bad one experienc player price right qualiti clearli show shore manufactur made signific improv past year five star valu playabl',\n",
       " 'listen want inexpens guitar great sound easi playabl buy one period bought black one leav trunk work case guy call practic session go way home pick gear way expens guitar like gibson es dean string fender strat gotta tell like one soooo much play other kid get bang cost buck thirti buy anoth fact bought other differ finish cheap chang guitar dig sweet littl g',\n",
       " 'updat previou neg review issu guitar arriv get setup action high set inton note th fret sharp lower saddl adjust miss one vital checkpoint bridg need lower setup finish agre review price guitar far better other price rang know grandson enjoy least awhil end dust collector not much purchas price add back collect upgrad electron great guitar price',\n",
       " 'epiphon le paul guitar particularli sound great stay tune much better cheap squier strat get lower price kid seriou want play guitar not complet sure stick spend anoth get use mexican made fender strat tele reason decid not someth want anymor resel price bought long still decent condit littl money lost second decid stick play guitar eventu better high end guitar mexican made tele strat great back guitar stage use coupl differ high end guitar not get rid mexi strat sound great still never pick first guitar essenti stay tune better',\n",
       " 'purchas guitar much thought consider possibl nearli univers high mark particular make model final persuad go one not regret decis first beauti initi littl disappoint littl wood grain show orangish finish guitar made china may account darker hue thought want lighter color look happier second instrument light weight either heft playabl solidli construct well put togeth play like dream lower action encount fret buzz back adjust screw bit basic adjust made like make bare day sinc guitar arriv yet play unplug wait hear sound amp beauti perfectli made',\n",
       " 'play year tak jasmin acoust jay turser strat knockoff realli love le paul sound pocket book not larg enough le paul price read everyth epi final went local music store tri one initi impress somewhat mix sound good action seem play scale coupl easi chord began get feel fro action guitar switch rear pickup front bang sound look classic gibson le paul sound fair amp setup strat play around bit ask tri one cherri finish unbox new one wow guitar look amaz sat plug play bit instantli love action perfect despit heavier string use sound humbuck classic playabl guitar tri appreci tune breez held well guitar alway retun everi session anyway epiphon realli everyth captur le paul sound economi guitar ye know puriest point bolt neck cheaper humbuck flat top construct basswood bodi point angl headstock mahagoni neck rosewood fret board gibson electron love simpl volum tone control yea littl knob spin switch pickup tun matic bridg tail piec gonna make string chang breez much better tri thread thru bodi even somewhat limit practic amp guitar still sound amaz oh sustain well let say hit low e last night went bed think still reviber amp morn lol look le paul sound discount price consid answer oh local shop abl give guitar less place els free setup play far perfect box amaz sound nice price',\n",
       " 'wow would thought holi grail arriv hous son practic ran up man truck pull thrill guitar great purchas epiphon lp special ii le paul electr guitar vintag sunburst',\n",
       " 'got guitar guitar center scare get guitar amazon review say look like toy want see person saw test guitar center amaz better le paul special ii guitar play great set nice pickup nice electron work perfectli problem guitar beauti would highli recommend get dont know anyon els not guitar made right amaz',\n",
       " 'friend show monthli guitar club meet love switch right fingertip geniu bought immedi shorter one goe guitar pedal board longer one pedal board amp work like charm excus damag amp ear two issu consid right angl plug mm short abl stick tele takamin would not seat properli would slide turn cord around use right angl pedal board side work switch think planet wave first connector problem dont blame mayb stick straight jack not sure second issu simpli littl button switch fussi make sure right posit look feel wont see white edg quiet wonder care right angl',\n",
       " 'third circuit breaker cabl play church one want pop leav sanctuari three foot foot foot depend setup group hate cabl jump rope realli like right angl connector make fit matter guitar stand use quiet get away',\n",
       " 'love cabl perfect make guitar chang without nois cabl not seem quit good qualiti planet wave cabl still better other switch easi use great idea',\n",
       " 'far satisfi custom cabl worth use cabl first one ever own expert great cabl',\n",
       " 'nice concept actual work cabl nice adequ gaug tri good qualiti',\n",
       " 'updat right angl switch end start develop crackl issu intermitt cut month amazon help despit lifetim warranti amazon offer let pay ship give partial refund despit author retail planet wave amazon not offer exchang planet wave warranti beyond standard amazon day return polici amazon support refer manufactur email planet wave instruct warranti return dealer exchang dealer within mile home unless manufactur come one quickli becom unus look like might cost resolv frequent switch instrument make easi quietli use cabl g h quiet plug also work well switch connector advantag g h use mute tune head stock tuner without unplug instrument cabl bit stiffer use make coil storag easi quickli becom twist mess stage length realli need littl elast cord keeper strap work better could ever imagin never given sound cabl thought bass player use much effect play mostli passiv instrument use genz benz shuttlemax fear cab realli notic pronounc differ clariti dynam sound much aliv cabl varieti manufactur hosa proco whirlwind etc never warranti exchang pw cabl other tout easi swap pw dealer great reason buy like know edit state not abl exchang amazon beyond day great design love switch',\n",
       " 'wow cabl made realli sturdi noiseless featur priceless definit real good valu money great qualiti',\n",
       " 'feet cabl paid footer local guitar shop highli recommend awesom',\n",
       " 'long time planet wave user trust circuit breaker cabl would usual high standard imho not plug great not seem good cabl grip like old cabl long cabl protector extend plug allow cabl flow grace guitar amp end actual cabl horribl hard plastic outer shell not lie flex well like good cabl e g like old planet wave cabl claim shield excel find mediocr disappoint purchas disapoint planet wave',\n",
       " 'chose cabl caus older one angl plug need anoth longer cabl straight end like idea cut power remov cabl instrument mute amp mixer recommend product anyon like abil disconnect without anyth els planet wave foot circuit breaker inch instrument cabl',\n",
       " 'purchas pedalboard year ago alway love use pedal alway one sound great indestruct take almost space control great get larg varieti sound play boutiqu choru pedal boss load better everi way not regret purchas pro easi use hum small sond awesom indestructabecon noneif want awesom choru around forev last forev sound incred get boss',\n",
       " 'bought littl pedal back year got first guitar tri pedal ultim one give best sound versatil realli easi dial sound want might get dramat effect expens rack unit cost practic pedal best bet part rig sinc',\n",
       " 'good product complain definit great buy must pedalboard amaiz',\n",
       " 'first let start say pedal part setup nearli year still look sound great day came box boss product mean go pay get get best bang buck boss product solid rug construct built last chanc break one thing outstand analog stomp box genuin sound good custom support well ever feel need sale boss pedal resal price alway good pedal capabl hundr tone sound choru one use versatil effect opinion best use found tweak pedal thicken sound give guitar effect perfect want fatten realli heavi choru song make sound realli full dime speed depth crazi world korn type effect realli handi pedal imit tone band much lot band tone come close exactli match tone took pedal achiev liquifi sound give beauti tone clean lead pedal help simpl part would normal go unot stand play kind christian music soon learn matter long put choru walk sunday morn turn slayer use choru pedal go nut choru one effect matter type music play alway find use excus not ad pedal rig addit great featur easi access batteri compart accept v power suppli work well guitar bass put run sourc desir control need realli complet control get pedal never buy anoth choru pedal',\n",
       " 'sweet choru ce ce ce one choru favorit sound right analog ce awesom weak boss includ level knob instead stereo control anyway one keeper boss ch super choru pedal',\n",
       " 'ok pro musician reli gear stand test road use old ibenez choru pedal one first hit market not use much basic due use certain song upgrad use separ pedal board singl unit decid buy boss ch super choru add collect first gig remov ibenez choru pedal tonal superior boss unit certain unit may boast better found year play money not alway better great tone easi oper best bet money boss boss',\n",
       " 'like product lot problem time sustain effect not long thought though would like piano sustain good pedal effect guitar get good sound attack effect thank sustain',\n",
       " 'sever previou poster astut mention need nois gate use pedal complet agre sustain note actual rais volum make sustain extran hiss guitar not play cover way get rid hiss use nois gate use ns use chain pedal said pedal wonder use everi note volum hit chord hard like softli play volum set sustain day need nois gate noth transpar compressor almost compressor none activ one perhap price pay pedal recommend mess quit incred funk jazz metal vibe great pedal need nois gate',\n",
       " 'man perfect peopl say cs noisi think depend type electr conect got home place play independ circuit pedalboard gonna lot nois bcuz compress obvious perfect make nois conect tottal recommend perfect',\n",
       " 'boss cs right use excel result mani compressor line mxr behring digitech although altern use boss stand mani rig configur feel littl bit overcompress sometim gener good product highli recommend main compressor dont like probabl dont know configur good luck boss cs compressor',\n",
       " 'realli pain give anyth star review boss product sinc big fan product line build qualiti overal compliment appli equal cs compress sustain job reason well without worri put less reliabl brand signal chain howev minor issu pedal need know two common complaint see add nois amp chang tone bit former complaint probabl true though enough hobbyist use compress sustain probabl alreadi contempl use nois gate suppressor boss ns problem solv latter complaint chang tone also true not necessarili bad thing like tone result whole point cs suppos cut extrem tone sustain result muddi neuter tone though play tone set help also find set clock output quiet compar pedal default set realli boss pedal consid expens compar mani effect cs realli view budget entri level compressor consid qualiti compressor either rack unit someth like keeley compressor cost north best thing say boss even compar similarli price mxr option cs give great deal control compress reason price biggest neg pedal opinion result sound might seem littl compress lot thing could cs work best pair pedal choru delay distort tri smooth ultim pedal could better though mani significantli better altern get north anyway good not great sustain level effect boss',\n",
       " 'pro musician alway quest better tone expand compli differ gig situat bad experi compress pedal year toss closet give thought upgrad pedal board decid give idea ad compress unit give g l american legaci stratocast style guitar sustain lower volum boss compani domin effect board reli chormat tuner digit delay line switch direct box almost everi night gig practic somewhat neg attitud go great surpris find realli realli like unit want great tone sustain ooz littl box stay posit time play electr guitar especi stratocast style guitar great unit',\n",
       " 'guitarist becom bunch cork sniffer mani player concern name headstock guitar amp endless boutiqu pedal collect mani seem unabl unwil give listen stock gear anyth cost arm leg fact gig musician come realiz subtl detail nuanc tone mani want obsess get lost band mix poor acoust wherev play ye want sound good inspir frankli need dollar distort od pedal inspir own ds long time recent got one look distort pedal budget frankli forgotten music pedal distort set minimum never get clean good moder gain overdr still let guitar basic tone get play strat jazzmast guitar still sound like thing gain halfway get great ad dc crunch even gain max still get excel note definit chord could want sure old school rock distort usual may not appeal metalhead caveat appli mayb combin eq could scoop mid much want also barber ltd great rel cheap boutiqu moder gain od break bank visual sound rout tubescream clone much gain compressor one pedal ltd rt usual ts midrang hump though much less pronounc ltd refresh ds strong mid overal tone not realm tubescream sit well pedalboard bring differ flavor parti tone ds get bright indic play singl coil problem find sweet spot tone knob gener run around overal pedal steal look around find use one good price consid modton speedbox decid go gener bulletproof boss instead basic price happier suppos well',\n",
       " 'think artist tool everi job right tool best distort pedal realli depend sound tri get gear techniqu use use bad gear poor techniqu not perform miracl not make watt solid state ibanez soundblast amp sound like rage orang rockerverb not make singl coil sound like emg argu pedal best like two painter argu color best use paint sunris pedal good tight kind distort not heavi modern metal run clean amp make sens make sens ampl youtub review check pull trigger use profession player like steve vai joe satriani kurt cobain profession pedal use profession musician built like brick durabl get found mine use new ask price fair would like see boss start use true bypass instead buffer bypass use admittedli detect tonesuck run mine tube amp verg breakup realli get thing cook also take overdr sustain pretti well bump gain get sing lead except model type pedal compani like tech not think dirtbox includ perform optim run solid state amp not happi way distort marshal mg problem amp solid pedal moder amount tight sound distort',\n",
       " 'pedal year replac old one month ago distort sound not quit way would imagin though effect sound realli good fat cab larger amp let cabinet give tone littl color use epiphon valv jr marshal x stack jtm top fine thing champ smaller amp not give meat probabl look without eq pedal say one volum knob one tone one distort knob crank distort sound like say',\n",
       " 'pedal must pedal board love overdriven sound pedal distort element not distort singl note lost fray thirti odd year count still one best must',\n",
       " 'first pedal ever bought start play guitar year ago still primari set sound put balanc get subtl overdr like sound high gain hard rock metal sound look insan crunch anyon want nice versatil pedal one want classic pedal must anyon play electr',\n",
       " 'cheap piec junk say distort want someth make guitar sound like junk pedal make guitar sound like piec junk popular beyond not boutiqu distort pedal like hendrix would use boutiqu distort oxymoron thing built heavi metal last kinda hope kid want distort got distortionit distort',\n",
       " 'distort pedal give amp boost solo turn clean amp dirti girl pretti harsh tone kind white nois distort ds not warm tone amp dial tone pretti harsh sound said ds exactli want amp give nice warm crunch classic rock style ds give metal punk rock sound want flawlessli took minut tinker get nice transit amp match tone ds boss last forev th drawback item current cheaper elsewher usual amazon catch sort thing word wise pay new thing go distort pedal',\n",
       " 'find play pedal along boss super choru pedal guitar tex mex pickup captur lot gilmour sound tonal like sound pedal',\n",
       " 'pedal market long time smoke deal boss pedal pedal work great almost guitar pickup set sing emg power schecter tube amp differ distort level dial surpris work good bass although bass player know lose bottom end guitar univers alway rave boss distort pedal guitar player one distort pedal buy experi gain set find favorit tone may buy anoth one mod use bass classic boss distort pedal',\n",
       " 'greg abram review entitl tone snob review product page alright want get good somewhat basic distort sound less deal strongli disagre find much better distort less even near mark ds current price play guitar year like mani peopl one first pedal purchas ds afteral everyon talk avail given music store nation hear famou musician use plu ds actual pretti cheap snap one like everyon els come find someth popular alway mean good see nickelback transform movi franchis kardashian famili etc plug realli care distort harsh thin artifici sound alway noisi tri amp practic amp solid state fender frontman r big amp b w tube halfstack not divers basic sound not likeabl read japanes made ds better sound newer made taiwan model either way ds not great pedal mind like mani newer player know better time fast forward year bought sold liter dozen pedal whole world great tone found keep eye open pedal current like much better ds great gener purpos distort easi enough find new use guitar shop time write bought brand new less good ol amazon com rug enough last year boss ds turbo distort lest catch flame peopl think boss hater certainli not love tu odb md xt among other start ds big brother pedal much nicer tone not mention distinct distort mode set pretti much higher qualiti ds ii set brighter richer tone ds complet overshadow ds popular find ds ebay cheap price worthi pedal unfortun overlook mani pro co rat great dirti distort pedal probabl person favorit heard box use liter hundr not thousand song last year use ridicul amount guitarist rich full distort higher gain get slightli fuzzi never heard bad tone mine great get big amp kind sound small practic amp also great push big amp much headroom overdriven sweet spot without crank amp volum truli excel pedal ehx littl big muff big muff anoth pedal heard hundr song kind fuzz kind distort definit own sonic territori big satur warm use heavili classic rock tone also beyond ton grung garag use everyon carlo santana david gilmour smash pumpkin dinosaur jr jack white person reccomend littl big muff not touch creamier tone recent nyc reissu smaller use regular v adapt cheaper great pedal mxr distort distort great first distort usual found pretti cheap what nice distort sound great anyth lack tone knob help keep somewhat transpar e easili hear natur tone guitar amp cover equip sound use quit famou folk includ great dead jerri garcia randi rhoad ozzi famou guitarist steve jone sex pistol danelectro cm cool cat metal make sure get cool cat metal not metal ii fine pedal well definit tradit metal pedal cool cat metal cm actual differ pedal metal pedal basic pre amp sit floor fulli adjust eq ton volum gain roof anyth clean boost gain minimum virtual color tone high gain metal stuff plenti great overdr rock tone work well amp tri find ton great sound unbeliev versatil pedal even true bypass best part danelectro seem made way mani easili find one use even new true hidden gem actual cheaper ds joyo jf crunch distort littl guy surpris supposedli clone mi audio crunch box must one awesom pedal essenti marshal stack box boy ever succeed great crunch ton volum gain realli make practic amp sound like big ragin stack even sound good go model amp pedal work well model amp one even sound better marshal simualt built get brand new one ship fantast speak joyo pedal well one two moen anoth chines pedal maker honestli floor nice sound given shockingli low price tag especi themoen mo fm fuzz moowhich honestli big muff everi big muff ever play joyo moen make varieti great sound fuzz od dirt pedal check anyon get arm support chines compani pleas keep mind none pedal list review ds includ made america let alon western hemispher hope suggest give someth look also actual tri pedal store youtub great place hear demo differ pedal also mention tri love ds suit need power tone subject everi pedal sound differ run differ guitar amp may share differ opinion someth love okay main reason post lengthi review give newer player inform plenti option distort pedal ds not thing afford find someth truli love buy ds one pedal mention anyth els import part sound right wish knew know',\n",
       " 'deal pedal inexpens get better pedal bare bit money sometim littl less money opinion spend less distort pedal whether first pedal th pedal buck get mxr badass distort much crisper tone beginn bewar',\n",
       " 'littl expens brand think sound great way durabl plastic pedal pretti new electr guitar not realli distort tone expert like review sound better easier adjust model amp think good purchas nice pedal',\n",
       " 'best deal ever first pedal zoom gfx realli electron synthes sound alot echo stuff honestli best effect held phaser jet pipe effect got today man sound crisp clean evenli distort job distort sustain best buy best price bodow trinidad boss boss',\n",
       " 'pedal around long time though overal qualiti declin boss cut corner enabl lower price mass product pedal boss ds remain stapl imag distort stompbox ds frill tank pedal design withstand direct nuclear blast well michael moor step know take amount punish might care give pedal replic type amplifi not marshal box mesa boogi vox fender tonal aspect complex dynam add plenti grind tone plenti hum go look first distort pedal use watt practic amp look decent tube amp look elsewher pedal get pay simpli not qualiti amp justic pro inexpens good build qualiti distort signal con lot hum tone control get realli shrill realli fast without excess hum almost unus tone control would get star basic basic distort pedal',\n",
       " 'love pedal inexpens purchas easi mod like pedal receiv gain jcm mod purchas mod everi one pedal also good stock lead boost love pedal great pedal',\n",
       " 'element nostalgia ds never understood know cheap know incred durabl boss pedal know everybodi one tri one point kurt cobain appar use fender also know almost never happi tone get step pedal incred thin harsh lack proper sustain even crank way use marshal solid state amp vox tube amp fender singl coil pickup guitar humbuck mess tone dist dial want dozen afford pedal even amp distort richer deeper tone coincident also use boss os overdr distort mani year supposedli merg blend ds od pedal ideal either turn knob way distort much better tone ever got ds depend usual less realli give bad review probabl belong everyon collect mean want use time nostalgia durabl afford not elit tone',\n",
       " 'gener sound distort not realli use much beyond lead boost alreadi distort amp true mani pedal era includ gasp tube screamer tube screamer great lead boost alreadi distort amp not mani peopl tell great stand alon distort not goe boss ds thing get interest plenti modif done pedal keeli mont allum other turn otherwis mediocr pedal rage beast drip tone gain sing week cost pedal cost get materi mod well worth mine modifi mont allum tri gain rectifi modif absolut killer use lead boost nice overdriven tone find plenti use want basic solid well built distort pedal boss ds realli noth special platform great sound mod go wrong around decad',\n",
       " 'know know mani peopl hate pedal call stale gener problem simpli found right set pedal amp set amp pedal make differ one thing note bit quiet side opinion digitech bad monkey set level match amp pedal crank level make clean tone level distort tone truli one best',\n",
       " 'excel distort pedal peopl want tradit rock sound use fender mustang amp ibanez guitar good humbuck pickup easi use rug play metal might want get hardwir tl instead pedal deliv distort insan amount necessari tone control also expens easili boost distort achiev ds use amp overdriven set ds excel gener purpos distort pedal know achiev level qualiti price rang great old time distort',\n",
       " 'first expert thing tell brief period own ds enjoy play practic lot pedal fender wannab guitar fender sidekick mean gear best pedal produc wide varieti distort tone chang keep interest much fun even notic finger hurt anymor honestli essenti buy start along headphon cord extens polic come knockin updat sept year later much better guitar amp lot knowledg glad got ds reason sure made enjoy play practic lot soon found sound consid like blue classic rock money dont think beat importantli buck send modif keeley initi wish went overdr ocd boss od mod done keeley super flexibl pedal cover sound need close spend buck get start wish could send modifi thank later great st pedal updat',\n",
       " 'good metal distort tone bag sustain suck lot tone metal pedal moder noisi look classic rock sound find get muddi time plenti set tweak get sound look find use high gain lead palm mute rhythm note definit not good chord price pedal good deal though good metal pedal bit muddi suck tone',\n",
       " 'year even newer metal pedal market pedal still sell well not mention probabl also one mod piec number mod found onlin chang sound usual side improv stock tone happi alway like parametr eq pedal variabl midrang allow get marshal mesa flavor metal hard rock music gain rang enough need yet gain punch overdr compressor pedal cleaner boost even without boost use death metal think play tighter technic style better not much gain anyhow still best',\n",
       " 'honest look pedal would give distort similar megadeth first album kimb far havnt got perfect setup yet ive got close enough pedal great coupl note make not buy pedal expect play classic rock rock gener pedal metal batteri drain like mf dont understand possibl explan think leav plug guitar amp ive pedal wouldnt drain batteri unless turn prefer get ac adapt not use batteri thing iv problem great pedal metal pedal',\n",
       " 'lot pedal fact distort overdr pedal though mt od regularli rig pedal give crank tube stack sound instead edgi smooth mid sweep knob help sculpt tone usual use mid boost solo find get amaz sustain huge sound abl replic easili sure huge boss distort box come close price pedal use pedal',\n",
       " 'bought mine use three year ago work great work metallica pantera type sound also get good rock sound gain turn eq adjust great metal rock guitar',\n",
       " 'great pedal sound realli crunchi got peavi vyper sometim use want crunchi style amp got realli good distort style use heavi metal config pedal recomend anyon not introduc nois run stock batteri still work make guitar sound like metallica megadeth cours also depend lot thing like pickup amp etc also old littl peavey practic amp blow away distort less nois give new life listen boss websit heard thought sound not go similar equip use sound realli realli close regard forgiv english not u sgreat',\n",
       " 'far best distort pedal doubt sever friend use pedal love also see mani popular band use distort pedal great medal nice punch along great cut palm mute blend like pedal sever knob offer seemingli unlimit combin amazingbest pedal far',\n",
       " 'first want say love tube amp distort overdriven tube meant run randal g hybrid amp destroy solid state use heard record use peavey sweet tube guitar meant heard recent start play band requir dirti tone felt like could achiev pedal absolut noth wrong use distort pedal use dod death metal year first start play howev downsid go cheap get piec crap make rig sound like old radio want someth sound pro qualiti go shell least qualiti dist pedal not budget friendli chose mt know boss make qualiti product pedal guitarist use give varieti sound set overdriven light distort sound full blown high gain metal tone control make tweakabl gotten load nice sound read includ book look mp video onlin check guitarist set help tame pedal want perfect pedal not want spend whole lot also mod buy instal pedal buy preinstal certain dealer open even shape make use seen lot complaint pedal sound like noth fuzz must say learn shape sound spend time dial rig within minut pleas mt use overdr channel push harder got realli thick heavi distort good respons say mt worth invest look big distort sound littl pedal sure someth guitarist consid ad board one better distort pedal',\n",
       " 'great pedal pick use cheapli use market actual use acoust electr guitar get littl distort bass guitar grit eq pot front panel make versatil enough use cigar box guitar also pedal preserv bass signal still eq satur distort review speak pedal site one see popular also boss distort pedal like peopl ds md cheap effect hm heavi metal cater tradit metal sound actual think pedal versatil imo differ guitar may not want strictli metal tone also older hm heavi metal run circl around metal zone classic thrash speed metal tone almost heavi distort pedal could never part overal like pedal cannot top older legendari boss pedal versatil pedal distort not best',\n",
       " 'bought gift friend love much friend love much',\n",
       " 'love boss pedal own ds distort mt metal zone year love one good meet middl two great want realli good bluesi distort crank color get thick distort alway pedal well construct sturdi love great pedal',\n",
       " 'pedal mainstay effect year realli ton rang although one effect time reach chang knob mid show order get variat commonli use set overdr distort mix knob clock produc profession sound grung type effect want sound exclud heavier metal sound pedal definit get versatil',\n",
       " 'simpl user friendli featur import think versatil os ds drive knob allow chose differ bunch tone also money great deal recommend overal great pedal',\n",
       " 'first use pedal green screemer die friend os hand let use use boss metal zone produc nasal tone like plug os pleasent impress rang distort overdr os pedal produc play fender bassman mix tube pedal produc sweet tone also play pedal solid state amp still impress spent year search pedal could produc nice tight churnch warm low bottom end search end pedal highli recomend pedal rock blue metal countri punk guitar player great pedal',\n",
       " 'good od thought would higher output articul person prefer mean pedal classic reason great not look sound',\n",
       " 'thing freak rock love pedal stop use sometim play long drawn chord listen amaz tone combo distort amp perfect metal amaz',\n",
       " 'excellenti like happyi look money follow purchas amazonth pedal boss arriv time necessari thank youboss overdr',\n",
       " 'money complaint enclosur dial footswitch durabl not true bypass none boss pedal suck tone pedal end overdr asymmetr clip fill nich ts pedal lose littl low end engag actual work pretti well lead especi humbuck amp looser kind classic distort encount el stand alon overdr prefer pedal pedal realli work boost dirtbox alreadi overdriven amp get sing harmon lead dial right like overdr introduc nois pedal engag thing get hissi palm mute crank far dirtbox hoarder like rotat pedal tri differ combin late run either v cool cat transpar overdr timmi clone nice behring bo dead ringer boss blue driver tube amp dial mild crunch jet citi combo palomino combo overdr thing not sound good imho run solid state amp not intend intend drive preamp tube satur ymmv cheapskat thing durabl like brick bought use well worth new ask price nice pedal',\n",
       " 'yellow metal boss want drive sound definit pedal get best od ever own make want see tone could cut board half sharp cut',\n",
       " 'pick order boost gain amp bit wonder job drive set low level set high tone set tast addit nois produc rel low excess statici buzz sound deal boss pedal well made reliabl great boost amp overdr',\n",
       " 'bought one yr ago use die coupl year back one favorit overdr pedal ever smooth tone right amount gain perfect push tube amp plu dozen diy pro mod avail add lot potenti recommend classic overdr establish yr ago',\n",
       " 'bought pedal use use fender tube amp marshal solid state use clean channel get varieti tone differ guitar reccomend first overdr add collect sever overdr pedal one good give basic overdr tone keep amp low end get decent tone telecast le psul keep level tone knob clock adjust drive tast od sound great fender clean tube also tri bass guitar adjust tone drive knob bass overdriven tone good drive review prove pedal typic icon boss build qualiti find boss pedal good purpos mostli mod one own time may keep one use boost pedal last forev paid mine good valu work well solid state valv amp',\n",
       " 'standard peral board along witht blue driver littl yellow box bang buck go find drive pedal tough sound like fire serv well serious better deal yellow pedal everyon',\n",
       " 'use pedal time even ds great chrunch buck classic blue rock eash dial sound want great pedal',\n",
       " 'held tri boss sd super overdr mani year like mani guitarist first distort pedal boss ds durabl aggress also extrem frustrat might form neg impress boss probabl unfair sd wide own afford usual around similar lot way ibanez ts tubescream except tubescream reissu cost twice much lot guitarist consid sd rock overdr ts tube blue effect probabl truth excel pedal howev sd realli impress transpar versatil simpli plug use alon clean channel necessarili best use pedal excel booster push alreadi overdr amp stack distort od pedal one best set turn level way gain way add littl bit grit tone realli sound great feel lot peopl give sd mediocr review reason fair hear thing like cut much bass realli pedal suppos midrang hump set properli take away muddi tone help cut band live play like said feel transpar retain element clean tone ts though prefer two entir subject also know boss pedal mean durabl come thing stand year abus use number role look singl pedal make small amp sound big probabl better option rang tri appreci md mega distort excel joyo ultim drive understand pedal suppos use purpos understand thing popular year versatil overlook classic overdr boss',\n",
       " 'great booster other said solo boost mid signal overdr great kind midsi marshal sound suck low end fix amp board whatev boss solid great price rememb overdr not distort distort look boss pedal boost',\n",
       " 'sever overdr pedal much expens boss sd long time overlook sd use pedal went back tri sd pleasantli surpris find rel inexpens pedal superior pedal use mean mere good rel price mean good period easili outclass pedal paid much price pedal sometim goe amazon price amazingli good deal note definit overd pedal not deliv metal distort least not want ride crazi train look elsewher like deltalab metal distort pedal produc smooth old style overdr excel sound especi good dash choru plug sd fender mustang ii amp turn amp choru result delici use sd singl coil doubl coil pickup sound good though not surprisingli get heavier punch humbuck sound great singl coil gem',\n",
       " 'forget volum drop comment not color tone one bit tri coupl miniatur novelti pedal like boost volum tone pedal tremolo thrown want someth dress slow ballad cours born bayou pedal goe nice subtl background effect deep depth want varianc guitar tone volum click play lot acoust solo realli nice addit chang sound not excel pedal',\n",
       " 'sure fancier tremolo pedal alway fan boss tr got mellow vintag fender tremolo output suit play pair beauti electro harmonix cathedr reverb pedal get lost day definit worth reason cost easili one favorit tremolo pedal',\n",
       " 'tremelo pedal work nice great play amp without tremelo problem solv price also good nice tremelo peday',\n",
       " 'great tremolo pedal quiet use correctli absolut signal drop volum drop whatsoev blend tremolo type smooth sinuou puls waveform sharper edg type tremolo tremolo vari volum sound not vari pitch control depth amount effect control fast effect pulsat sound simpl popular effect want live without form anoth pretti teal green color boss product built like tank gener last forev not abus damag idea fast pedal eat batteri use power suppli click depress ad hiss hum distort batteri compart easili access without unplug anyth simpli great effect qualiti product boss tend hold resal valu well great tremolo boss',\n",
       " 'play pedal realli dig old school fender blue delux reissu strat tele pedal great warm organ feel tremolo use lot bare bring warmth realli crank speed depth great sort rotari speaker effect use rate set tempo song record clean guitar chord middl neck effect give nice almost hammond b type organ sound great pedal',\n",
       " 'superb tremolo pedal dial allow enorm control effect sturdi often note featur boss pedal utterli easi use allow v batteri power suppli adapt oper import deliv beauti tremolo note come v batteri instal not come power sourc adapt price will pay consid danelectro cool cat tremolo also deliv good tremolo not allow much sound manipul boss product still quit good boss take prize paid mine zero regret superb',\n",
       " 'three unit capabl tremolo boss tr line mm boss sl slicer like tremolo steroid plu amp twin reverb tremolo unfamiliar tremolo modul volum turn rapidli boss tr simplest three stompbox oper three control rate modul depth modul much volum vari wave shape jag squar somewher continuum unlik boss stompbox ce ph tr not seem compress sound seem like play fishbowl anoth review put wave control give unit sonic versatil nice featur tremolo not price give decent set classic tremolo sound noth crazi unit tom morello use guerilla radio well tremolo classic like smith soon hear volum drop problem like review suggest someth sensit gener turn modul cours song rather leav full time like boss stuff box sturdi like big quiet footswitch littl clicki one unit color sort dull militari dark green not attract thing not bad either small boss effect not come power cabl factor cost boss instruct tell need particular adapt know anyon say must run pedalboard power suppli seem work fine would not buy boss product period bottom line give decent array basic tremolo sound noth crazi not bad price factor power cabl simpl oper nice case footswitch drab colornic basic tremolo sound',\n",
       " 'want way plug boss save batteri want drop money boss psa got one instead job less money cheaper altern',\n",
       " 'bought use danelectro mini amp need worri batteri work perfectli adaptor surpris perform two star compar price mini amp less adaptor prici still save long run use danelectro mini amp',\n",
       " 'got power danelectro honeyton amp sinc eat batteri like candi power adaptor excit work fine work',\n",
       " 'use mostli honeyton mini amplifi reel echo tape echo simul work well problem lot danoelectro pedal may eat batteri great altern access ac voltag outlet great danlectro product',\n",
       " 'problem ego compressor comp get noisey sent back found use slightli drain batteri got one great nice quiet half price boss one excel quiet pedal power',\n",
       " 'best littl guitar pedal adapt use use mani last three decad except quiet mani not put volt drive pedal littl solidli brand new alkalin batteri buy new one everi dozen hour use splitter drive three pedal four hear current drop bit still good thing remind tone come finger not box floor sure nice gilmouresqu delay littl extra gain drive tube best v adapt pedal avail know includ boss one dan releas cool well made pedal past year littl wall wart worthi companion good deal clam perfect guitar pedal adapt',\n",
       " 'state titl adapt need use danelectro lot go mani batteri plug wall advertis keep electr current hum minimum function fine year own reason took one star wire realli thin seem durabl care get broken might abl find brand adapt cheaper one made honeyton risk ruin work great danelectro honeyton',\n",
       " 'must danelectro fab pedal anyon one pedal know eat volt like candi solut get one hook power splitter search visual sound one spot multi plug cabl good go pedal batteri swap search volt everi minut',\n",
       " 'say lower price low distort could not hear hum multi pedal save cost use godlyk power suppli good power pack work',\n",
       " 'got use behring compressor order not indic compat work great price right alreadi two problem quiet hummmmm buy need wall wart quiet mous',\n",
       " 'first wah morley steve vai bad horsi love switchless pedal put hell month send back caus broke still ok pedal want abil leav pedal open achiev certain warm sound went look cri babi local retail sever differ kind cri babi set put one hendrix classic q cri babi pedal basic one sound far best one sound better q price rang paid tax gcb cri babi worth everi penni even touch morley anymor cri babi waygreat afford wah wah pedal',\n",
       " 'use crybabi go year guitarist claim signal chain affect tone neg way well never notic alway feel perfect also adjust part sweep use easili ie want trebl bass littl comb move wheel pot tri wah morley vox good alway gone knew complaint crybabi best',\n",
       " 'got pedal caus not expens love music use play big concert tell price good ever want fun learn use pedal good',\n",
       " 'well got one messin coupl hour fun king wah wah big hard heavi turn understand origin sound exactli like alway imagin like record one get big everyth want wah wah',\n",
       " 'experi crybabi great tone overbear vox cleaner wah know sever peopl problem switch watch countless other stomp crybabi futil attempt engag disengag pedal actual use bbe vox sinc frustrat st wah not sure give tone exchang headach avoid kinda think vox bbe seem brighter sound less wah ed could accentu play strat instead le paul custom boogi combin use crybabi great tone moodi switch',\n",
       " 'great pedal pull open put coupl cheap mod thing absolutley redicul boutiqu pedal littl time solder mod',\n",
       " 'opinion one finest pedal exist crybabi still pedalboard long forese dunlop origin crybabi pedal',\n",
       " 'wawa pedal come go get mod thunk alway want origin cri babi birthday gift not disappoint road may add gazillion electron mod avail person sound time gonna enjoy pedal ship good buy great packag earlier expect deliveri thank amazon everyth ever expect',\n",
       " 'cri babi year old oldest pedal board rewir true bypass replac potentiomet give wah broader rang realli sound better pedal cover white room cream tone perfectli gave star mainten free pot came loos switch replac consid fact surviv sever hundr gig smoki dive probabl give take lick keep wahe',\n",
       " 'sound like origin enough said great pedal still built like tank appreci version one use pretti standard ac adapt cri',\n",
       " 'problem pedal step way turn produc sound morley pedal separ switch turn given posit differ sound bit profession wah alway turn top wah frequenc suppos want set wah middl leav realli pedal bit smaller morley wah experi sound equival base model step turn',\n",
       " 'first petal kind read wah shoud first went glad wah petal much fun make mani cool sound imagin allow hour hour fun sound great problem perform work highli recommend petal price attract well love work great mani possibl',\n",
       " 'love wah perfect realli find neg perfect standard wah regret purchas put good analog fuzz good go origin still',\n",
       " 'got mxr mc cae concert line pedal one one use local gig home use fender telecast hot rod noth sound like classic',\n",
       " 'final broke got new one origin crybabi bought final die great pedal well made origin',\n",
       " 'want guitar sound like eddi van halen joe satriani guitarist studio album guitar sound get boss gt guitar multi effect processor instal boss gt patch jame limborg search googl boss gt patch jame limborg dunlop origin crybabi pedal',\n",
       " 'good pedal sound look great play funk music us metal head wah weak metal artist would recommend look elsewher go look get ibanez weep demon morley whatev behring limp barn day thouroughli unimpress',\n",
       " 'oh crybabi crybabi wah suck crybabi tire hear statement guitarist fresh even tell mani string instrument wah pedal cut mayb one time not today par long time young player insist wah pedal mom bought one thought awesom learn better took week learn turn final thought broke eq pedal good smooth transit heel toe big drop freq kill effect pump foot realli fast avoid drop pretti much push toe foward liter stomp turn follow step turn inconveni someon tri rapidli move effect board say complet piec junk give wah effect classic pedal better still stuck stone age thing even someon mod mine gave littl headroom fix drop issu still slam turn still sound like cheap wah suggest mark tremonti wah great kick thing end come rang simplic use may cost probabl end hate crybabi get one anyway go tremonti power wah begin use wah digitech rp processor may say cheap processor use year seen anyon tell price base sound qualiti that matter suggest wah control sensit hard press toe turn mine set fairli light total shape tone right board easili even preset crybabi one get entir processor full effect awesom wah littl bit want cheap child gimic type toy want get seriou wah spit everi crybabi see go elsewher seriou musician look elsewher',\n",
       " 'wah pedal number year say put lot use problem pedal mechan howev cheap rubber feet first victim perhap take cheaper short cut produc product say rubber feet began come time mount pedal board probabl remov feet problem also power suppli come stellar job power pedal like though place pedal board unifi power sourc make sens must use differ power cabl least unit jack not fit properli lead seriou short short make crowd deaf time flat learn use differ power suppli sure power jack push way otherwais zap two issu power issu realli fault dunlop use suppli power cabl great pedal classic sure live legend live',\n",
       " 'orig still best like guitar music chanc good know sound pedal make one stand alon outsid multi effect unitcri babi cri',\n",
       " 'cri babi proven sinc well made pedal must play classic rock take bit practic master master take music differ level classic',\n",
       " 'sound good add soooo much nois pedal board not problem definit worth price much nois',\n",
       " 'thing need chang wah pedal tri tempt built fuzz eq wacki add on rather one pedal job perfectli pedal bunch stuff sound less great crybabi great effect style everyon jack white jimmi hendrix use incarn pedal must realli say classic reason',\n",
       " 'acknowledg minor opinion perhap bad luck unit attempt repair afterward love sound function wah wah pedal would liter last month time becam unus suspect potentiamet shot replac problem reoccur like horribl static nois soon start use good product hope make durabl particular unit durabl issu potentiamet',\n",
       " 'keep capo instrument noth wore show without one use martin string spring hold tight easili adjust one hand buzz great conveni',\n",
       " 'best string capo ever use decad work easili flawlessli well made five starsbest string capo ever',\n",
       " 'th kyser capo one new ovat string cc need alway recommend kyser capo last forev not lose strong hold kyser cap easi recommend',\n",
       " 'design easi use seem sturdi serv well year come not expens good qualitygood buy',\n",
       " 'play acoust gotta get one hair longer pad area need tell string version ridg much closer togeth one absolut necess',\n",
       " 'capo exactli clamp string tight buzz not chang tune guitar use kyser capo one guitar never buy anoth brand never go wrong kyser',\n",
       " 'thekys banjo mandolin capothi one three capo use ukulel work second favorit park headstock ukulel easi add move remov trigger type releas make one easiest quick chang capo use feel sturdi enough lightweight aluminum like trigger portion stick upward not get way like mydunlop trigger banjo capo black favorit still g th capo close second g th nitpicki complaint not elig amazon prime updat saw capo elig amazon prime free ship prime member price qualiti kyser capo work uke highli recommend good ukulel capo',\n",
       " 'work great stay way cant ask much expect get price half local capo',\n",
       " 'play ukulel year new use capo seem hold tight new capo',\n",
       " 'say banjo mandolin ukulel first instrument list box right size clamp four string take realli easi perfect fit ukulel',\n",
       " 'cost x much cheap capo worth everi singl penni strong clip yet not damag concert tenor ukulel neck budg clip low profil made metal last lifetim took one star one thing hand clip portion sometim get way fret stick neck quit way capo like onejim dunlop russel banjo uke capodo not anyth hit hand fret sometim tri kyser opposit side away player seem still hit hand chord differ one said work around lifelong capo fantast build keep string buzz uke one larg hand not interfer may even issu consid c ya happi strum mahalo wow wow wow ukulel one caveat',\n",
       " 'strong capo strong bigger instrument work good uke mandolin banjo not thick neck sever capo one instrument good capo small instrument',\n",
       " 'bought husband mandolin love work great swear kyser use guitar kyser capo great product complaint price worth work great',\n",
       " 'work great bariton ukulel qualiti full size acoust guitar capo easili fit ukulel case kyser ukulel capo',\n",
       " 'cute littl capo work great ukulel mandolin cours hard use get higher fret fret small work great',\n",
       " 'although capo mark correct mandolin work correctli rd th fret mandolin lower fretboard capo enough pressur work st nd fret posit mandolin even though mandolin fairli low action number kyser capo much like style least six kyser guitar capo use guitar taylor string fender american strat without problem case banjo capo work need perhap capo sent defect although enough decad experi string instrument know seem broken not task feedback other sent possibl capo may work wish take chanc know time stage take second set fussi capo right make sure hold right hope start buzz middl song went anoth brand talk bluegrass guy better luck anoth style mandolin capo not enough pressur mandolin',\n",
       " 'use capo time instrument friend mine saw ask order one also love kyser banl mandolin capo',\n",
       " 'sever type capo one seem well built littl bulki string banjo especi finger near realli need chang fast use littl might use perform set way seem well built practic',\n",
       " 'good banjo capo inexpens work well without squeez string tune end storyit capo',\n",
       " 'never go wrong buy kyser capo made last realli design great thing capo fit banjo mandolin seper capo also capo guitar made kyser tell work well never go wrong kyser not like idea us compani cheaper capo job either press string hard enough wear quickli get use much kyser last long long time kyser cadillac',\n",
       " 'use one kyser good one usual stay mandolin work well banjo never use one make much easier chang key although usual use play chord solo like play open string make breez pop put back littl practic abl quickli without string buzz one best mandolin banjo capo',\n",
       " 'nice bag price nice pad ampl zip compart hold snark capo whatev handl shoulder strap plu reallli nice look bag black littl white trim front ask',\n",
       " 'best strap lock opinion good qualiti easi instal remov secur look good guitar lock satisfi best straplock',\n",
       " 'particular favor dual design need aris possibl use regular strap button lock instal two black one string ibanez rg laguna le qbc guitar spare strap guitar sometim lock spare plastic dunlop disc older bass guitar similar dunlop lock standard version two lock instal mid one gold dd three held issu need tighten screw guitar two year ago tour around world like metal stalwart known metallica probabl best strap lock system ever imho',\n",
       " 'bought dunlop trust brand dont even mind sorta big bulki problem scare piss not tighten washer nut situat ive normal seen strap lock peg insert hard trust alway hand grip firmli guitar even adjust amp clench guitar scare littl metal ball thing slip peg fall ruin guitar havnet singl problem system yet never hope happen updat good product far recommend much crap world worri strap lock shouldnt one thing work fine far still scare',\n",
       " 'screw long thin bodi gibson sg classic not find shorter screw fall pin straplock work either head larg believ use gibson le paul custom year ago work perfectli not newer sg though least new screw come fender start appear take system well time tell not fit gibson sg fender strat seem good',\n",
       " 'ye will swap strap lock origin work fine problem drill new hole guitar explain size bit use wasnt big problem tri not drill guitar fit without drill not good luck good price welll made work fine kinda protrud',\n",
       " 'best strap lock ive ever use dunlop alway great product easi instal highli recomend bass playerwork great',\n",
       " 'almost drop bass floor coupl day got bad boy put felt confid issu anymor easier strap quick releas tab everi bassist guitarist best friend life saver',\n",
       " 'tri model year ago never problem got instal went back schaller instrument thought mention other make strap stick far instrument thought look goofi also particularli care push button releas get lock part end thick strap challeng c clamp not nut allow differ thick also felt safer schaller hook onto end guitar strap button depend spring load button keep part togeth said real problem look like work great replac strap lock button make sure screw secur button hole start jump drum riser drop airplan prefer scahller',\n",
       " 'actual follow instruct drill hole specifi work like charm glad got much less hassl tune gig work great',\n",
       " 'strap lock easi instal use right bat may drill deeper hole guitar order use follow instruct easili attach detach strap whenev feel like easi instal use',\n",
       " 'tri differ straplock option best not secur hold strap guitar also look pretti good highli recommend far best strap lock option',\n",
       " 'great product use alway thought top qualiti much larger origin came guitar extra piec mind great easi instal without modif least mine connect hold solid make sure button way could mishap love em',\n",
       " 'work well instalit hard took mayb four five minut screw provid bit bigger bc rich aveng beast stock strap system read direct lube screw small amount bar soap wax use bar soap though instal becom easier put strap not com unless tri hard undo system lol need clean guitar strap take lock pin use flat head screw drive pop retain clip quick harmless way may take minut two undo strap lock not hard though reward worth nice lock',\n",
       " 'complaint hardwar easi instal patienc easi use click system secur hold strap prevent strap bind slip post work like light switch not sure rate poor realli direct take littl mechan knowledg littl not rocket scienc make work qualiti metal secur function easili replac post instrument alreadi equip standard strap post instal hoener full size squir acoust fender strat simpl easi instal',\n",
       " 'receiv thedunlop dual design straplok systemalreadi instal gibson standard electr lb like decid tri instal gibson studio electr lb noproblem follow instruct exactli work perfectli problem either instal use sinc instal money well spent makingsur string instrument not accident fall ground besid safeti also like ableto swap strap guitar nice conveni inclin use samestrap guitar not sure work brand guitar seek onlin forum either search thatforum answer join ask question got prici piec wood wantto take care properli care feel okay work well big seem theydon get way use look almost place chose black mysecond set help keep product profil bit product work asadvertis note june instal two set still work expect rememberto check make sure hardwar secur repeat use screw come loos therewil troubl happen not use glue case need swap straplok thefutur gibson good dunlop dual design straplok',\n",
       " 'easi instal rock solid opinion look much better schaller lock grab set wont disappoint easi instal job',\n",
       " 'product must make strap instal remov simpl reliabl strap clip place secur own numer straplok system variou bass guitar own would not ever instrument without instal system want secur conveni guitar strap usag',\n",
       " 'two set strap push button action conveni vs fight stubborn leather open especi new gold finish match instrument hardwar sturdi durabl work great lock system',\n",
       " 'worth extra dollar littl extra time instal sure beat fix crack neck headstock guitar bodi guitar slip strap pin fall great height essenti item',\n",
       " 'oh yeah love item sleek look easi maintain would definit buy next strap thank jim dunlop great buy',\n",
       " 'le paul year purchas rest guitar say keep strap lock zero issu instal take minut stood countless hour play highli recommend sturdi easi instal',\n",
       " 'dunlop straplok amaz never fail alway gave good piec mind know guitar safe hit floor stage home stay secur done properli look strap lock tri other dunlop one seem work work well save axe',\n",
       " 'high qualiti look nice fender origin make sure take time instal correctli consid use qualiti wood glue adhes instal want make sure remov later date without damag guitar go get guitar',\n",
       " 'straplock year fail love never worri guitar get damag strap fall rotat full circl super durabl buy guitar never worri also easi use instal definitley buy',\n",
       " 'first time use dunlop straplok system alway use competit work well guess make sure lube littl ball bear work perfect',\n",
       " 'great dunlop design work thing need ensur got engag properli time attach strap onto guitar e make sure establish solid connect go ahead gig rear end without worri design encorpor bear allow strap freeli move around rotat post exactli want schaller one see major flaw famili experi never run anyth design go forward work schaller design famili guitarist bassist use shaller style lock everi one us continu problem lock period unscrew guitar bodi one back gig damag brand new th anniversari american p bass not good son one come middl gig last weekend problem design ton friction top bottom piec lock result tab screw bodi unscrew tri appli bar soap petro jelli spray base dri lubric none prevent ultim forc caus phenomenon tri make shaller work could not mayb activ stage cannot toler equip damag perform distrupt caus us vastli superior design function compar schaller style',\n",
       " 'straplock around long time use instrument regular strap well dual design sold easi instal guitar littl difficult get lock mechan instal strap still took ten minut ad secur know dollar bass go hit floor make well worth small cost item dont know put get',\n",
       " 'never own straplock system prior own dunlop boy amaz everi straplock system use past friend guitar semi perman mount strap guitar often extra tie manner thing made impract detach strap whim contrast lock mechan make trivial easi pop strap great better still hardwar fit almost perfectli exist screw hole make instal trivial new post close size shape old one think could slap strap onto guitar pinch use post like oem one great system would highli recommend anyon use strap electr guitar fantast way secur guitar',\n",
       " 'use bass job quit well easi instal bass strap like',\n",
       " 'came stock jackson kelli kexmg guitar schaller button one main strap use guitar figur sinc guitar came would tri not twenti min later remov put schaller button place major reason not like schaller bulki stick far guitar strap button back jab stomach problem engag would push receiv pop back forc push button went stay schaller click know readi go cheap feel cheap thin metal use comparison schaller heavi solid feel buck stick schaller use year never seen one fail not good schaller',\n",
       " 'use straplok guitar past year not one fail ever sure tug put strap make sure right struggl c clip past go one time thing first instal biggi reliabl',\n",
       " 'disappoint qualiti engin product work around main issu follow review flaw bother order signific qualiti weak soft metal screw use minim forc well align driver damag screw head work round much afraid would hard remov later caus run hardwar store higher qualiti replac screw engin instruct recommend screw one come straplock design phillip screwdriv howev standard driver big fit strap button like choos grind screwdriv fit use increas impact first problem sinc wrong tool job engin point connect strap th inch guitar strap button radiu th inch therefor later stress e weight guitar magnifi x due leverag pull outward screw pound guitar would appli constant pound forc screw wood around half weight distribut evenli two strap button cours get littl activ stage level forc could go way higher realist screw total crap might star review deal fact normal screwdriv fit get thing properli instal would probabl work peopl stuck set recommend go hardwar store buy x oval head stainless steel replac screw note fit properli closest match modifi cent local store would cost dunlop mayb cent bulk paid crap screw come put screw electr drill pointi end screw head rotat smoothli oper drill run drill use file belt sander take fraction diamet screw head need much use belt sander took second file cheap screwdriv fit strap button instal new screw normal recommend friend tri differ brand disappoint qualiti engin',\n",
       " 'first thing notic design far guitar surfac strap actual connect tell consider ad stress screw wood surround ad leverag guitar weight fulcrum surfac wood make sens help wonder could eventu eventu much time use caus crack split result found someon sell dunlop strap button great idea someon main strap sever guitar order found planet wave ellipt end pin think best idea yet keep guitar strap unless go spin guitar around shoulder addit stress guitar bodi order set far good may found someth much better',\n",
       " 'sorri like big stand much work effect pronounc mani good altern strap gasket strap lock undo pin put straight guitar strap work not aesthet eleg also got gold set bass look like wear big purpl platform play not cool big',\n",
       " 'like straplock littl tight get levi strap manag get howev found easier buy strap guitar work fine tight fit strap',\n",
       " 'quick snap sturdi not conveni use case conveni easi use henc prize guitar not drop floor accid well worth money spent let guitar fall',\n",
       " 'agre anoth review includ screw strip much easi purchas set strap lock year ago dont recal issu think dunlop chang screw point luckili abl get screw muscl lock secur howev due issu consid altern anoth guitar mine could use strap lock hope dunlop fix issu soon screw strip easi good screw',\n",
       " 'dunlop dual design straplock system sturdi fairli easi assembl easi instal altern guitar strap slip instrument screw use attach straplok guitar heavi gaug pretti larg littl chanc go come lock mechan seem like secur requir littl mainten disadvantag dunlop system schaller system dunlop stick measur farther guitar bodi ordinarili seem like minor inconveni instrument hofner violin bass though guitar strap button back instrument make difficult hold bodi instrument bodi support schaller strap lock might look littl eleg player dunlop straplok system sturdi provid long life servic found better price sever competitor recommend guitar bodi stylesexcel strap lock system one small problem',\n",
       " 'instal two guitar love switch mani differ guitar strap without worri fall great product would recommend guitar player great strap lock guitar',\n",
       " 'great guitar problem clip instal strap get done googl instal video show use plier push clip place instal good life use guitar',\n",
       " 'know great product set knock star part lost ship render product useless product come clam shell packag ship heavier stuff impact packag let open two retain clip slip sinc main ship box fulli tape one slip complet box probabl floor warehous truck somewher found rest small part box larger part still clam shell packag without one retain clip system useless product inexpens bother return find retain clip work one compar use said say straplok system great product know own anoth set twenti year great product bad ship amazon',\n",
       " 'littl stori back lock integr instal korean made washburn wg v incred guitar tweak guitar spin show guitar went fli strap lock still strap lock holder screw rip horn guitar screw tore half inch solid wood epoxi screw strap lock broke amaz nice tough hardwar complaint must use screw small head choos not use stock screw provid easi instal unscrew stock strap holder screw lock holder attach lock strap bam quick releas system fast take guitar would suggest get tough thick leather strap nice reinforc eye instal quick releas button cheap lightweight strap eventu start tear also button slight pain get certain strap switch dimarzio clip lock strap instead leather strap dunlop lock mani reason happi product grade alway felt secur straplock bass player use expens heavi fender bass love strap lock great lock',\n",
       " 'use straplock year never guitar bass break free either live studio simpli work cost next noth boot folk best insur buy protect preciou instrument pop strap even seriou gymnast stage not go anywher must buy great straplock',\n",
       " 'love dual design system work extrem well allow switch strap easili quickli one downsid system strap use fairli far away guitar might not bad thing consid wear tear guitar strap one hiccup put togeth first time one compon thin big washer pretti hard instal direct much help either direct suppos go know name piec could readili find instal new guitar strap readi go highli recommend much easili switch strap w possibl stripe screw bore screw hole crack wood process great straplok system',\n",
       " 'use fender straplock last year fender f straplock chrometh problem use screw secur part strap screw slowli back get disast decid tri use dual system use lock strap use regular strap without lock mechan use week far like much better fender think replac fender straplock agre other fact screw lower qualiti screw head strip not care instal strap nut screw half turn time appli lot pressur head strip get instal got pretti good lock strap better fender strap lock',\n",
       " 'use dunlop straplock year bought origin style year ago strat le paul partscast last two weight thing last gig anyth els throw problem order strap pin month ago put recent guitar one push button lock final went strap use heavier guitar got mileag thing order whole set new one last month put lock new strap button anoth guitar suggest brand watch tour band use thing lay flat protrud part catch happen without strap lock new pin use like regular pin larger strap pretti much secur price good price anywher els includ ship alway buy string pick stuff get free ship excel guitar save straplock',\n",
       " 'good qualiti great price easi instal easi lock unlock fast deliveri better go alway overpr guitar center good qualiti',\n",
       " 'alway purchas grover guitar strap gibson le paul standard plu bigger strap knob bought dunlop fit guitar perfectli good guitar big invest owe protect invest good strap lock system great strap protector',\n",
       " 'good guitar got favorit strap buy alot extra button got allpart seem realli sturdi well made ok got alot axe fav strap',\n",
       " 'went long time convinc need numer time strap would come undon fortun never perform solv problem still check pull releas guitar strap lock must',\n",
       " 'guy rock solid realli easi instal time get new instrument chang stock button dunlop best straplock avail',\n",
       " 'jazz bass guitar player anoth brand play huge downtown street gig altanta throw shirt crowd bend pick throw guitar player differ lock system le paul fell stage complet knock tune mine stay lock perfectli best straplock system',\n",
       " 'work great not worri drop instrument stage ive done suck worth everi penni strap lock',\n",
       " 'four guitar never malfunct easi instal use watch bridg interfer screw back lok might requir slightli shorter screw bass alway straplok',\n",
       " 'work well nice low profil easi push button true not good thick strap gold tone one discolor easi minim use good',\n",
       " 'realli great guitar lock use guitar would highli recommend anyon absolut best',\n",
       " 'work like want new strap put right away worth perfect',\n",
       " 'purchas strap lock would recommend work good solid hold thanksgreat product',\n",
       " 'feel line work dunlop love product guitar bass locksdunlop guitar strap lock',\n",
       " 'replac schaller strap lock strat schaller one ground connect hardwar point oil time month end audibl creak hand like dunlop one instal minut guitar feel secur problem whatsoev order third set minut ago total convert everi new guitar get go get set put like better old schaller one',\n",
       " 'put pair everi guitar lot extra strap clip around sinc mani guitar strap great plenti tough find straplok strap nice work fine normal strap pinch essenti mod',\n",
       " 'manual say lube everi often work like charm got unfortun incid strap slip strap button take chip bind black one work well finish work strap long end ridicul thick insid box came screw size one thing note howev make strap protrud much farther guitar normal biggi howev strap adjust adjust chang strap posit golden hard press find fault',\n",
       " 'bass origin equip dunlop silver tone wherea hardwar gold year look kind dirti tarnish knew time new gold set happier look qualiti use brand instrument realli prefer dunlop best straplock avail price',\n",
       " 'year ago one friend drop bass bodi broke half bass regualr strap button ever sinc use dunlop straplok system recent built bass instal one easi instal straight forward use hold jazz bass without problem would buy elect guitar rock solid straplok system',\n",
       " 'straplock use guitar one trust solid secur look great push button releas make pretti conveni without sacrif secur love em trust mani time',\n",
       " 'second set strap lock own littl difficult attach strap thick strap bit thicker side quick releas secur connect great work',\n",
       " 'dunlop not best strap lock system pain switch way lock point peopl complain button easi unhook play see merit screw lock eas switch lock work fine guitar',\n",
       " 'hate spend buck coupl littl piec hardwar probabl cost cent make better buck local music shop want set overal work realli well look sharp fit perfectli schecter hellrais happi purchas good product fit schecter hellrais perfectli',\n",
       " 'dunlop strap lock work pretti well standard hole cut standard leather strap not big enough accomid lock button strap modifi increas size hole intent purpos mean not abl use strap standard strap button ever work advertis easi take strap adjust requir work ruin strap everyth els',\n",
       " 'play guitar keyboard sometim need quickli put guitar back play keyboard would not without straplok essenti guitar secur',\n",
       " 'first thing get new instrument put straplok gig easi instal one fail yet straplok nine instrument right order anoth new bass recommend highli enough one everi guitar',\n",
       " 'use strap lock never found easi attach remov well made easi use secur best use far effici',\n",
       " 'know common problem bass one arm attach actual bodi instrument start show sort blemish like metal rust liter one arm think random thing problem make strap spin free screw keep get loos one time first time notic actual fell notic still like product one thing think would still recommend almost perfect',\n",
       " 'like strap lock strong sturdi keep thing place one problem coat wear short time month never take might rust bit insid might make bit hmm want say hard lock better make sure actual lock everi time fit tug thing sure mine un clip coupl time check climat humid rust friendli could contribut issu howev clip properli issu great buygood stuff',\n",
       " 'string half battl string instrument bad pair string nice instrument sound aw good pair string make cheaper instrument sound tremend better either way string drastic effect sound instrument price point string make cheap ukulel sound not cheap imagin would even wonder uke higher price point also play guitar martin one choic brand string figur let decid play ukulel correct',\n",
       " 'bought ukulel give present knew string come equip new music string instrument would poor qualiti purchas martin string replac use martin instrument mani year fond make qualiti martin product easi choic excel string avail choic time martin ukulel string review',\n",
       " 'play uke sinc becam popular must confess quiver full addict thing rang plywood beater solid wood art object electr year tri sever differ brand string truth noth wrong martin string seem littl bit compliant other allow teas bit articul tone given string chang frequent occurr multipl instrument fuel martin string set rel low cost nice bonu best lot',\n",
       " 'great guitar compani alway make sell aegi best string love tele stand fender string likewis love martin ukulel tri string second time conclus first aquila far better aquila organ feel fuller richer sound martin begin hold tune sooner aquila take coupl day sound thinner feel nearli friendli approxim dollar price differ not worth lesser satisfact even least expens uke consid seldom one usual chang uke string higher price aquila still seem worth extra coupl buck use martin cheaper string work uke put stress repeatedli de tune tune switch aquila play may like martin love aquila aquila better',\n",
       " 'great replac string ukulel great hand case replac string get uku great string',\n",
       " 'work nice materi think durabl simpl attach mic stand adjust need improv record get pop sssss sound without sound process much anyway work great price right',\n",
       " 'great easili setup time feel not perfectli stop p know time keep distanc issuegreat',\n",
       " 'not familiar pop filter actual work apart get rid unnecessari peak record notic improv record qualiti pop filter know compar pop filter though one seem like work easi use work',\n",
       " 'differ pop filter make use condens mic let get littl gain input clamp easi hold good flex piec hold filter could littl rigid job like way look mount mic stand extens improv vocal track one afford improv home studio nadi mpf pop filter',\n",
       " 'great qualiti construct job well complaint design littl streamlin bolt attitud bit heavi overal stay place job well workhors sure job well',\n",
       " 'even hesit buy thing everyth need pop filter clamp anyth inch half thick get job done buy job properli',\n",
       " 'price perfect pop filter realli good length clamp decent hope last awhil perfect',\n",
       " 'bought look pop filter use pair condens microphon help keep wind pop ruin record posit work fine problem get posit harder look devic clamp onto microphon stand adjust goos neck get filter need filter goos neck fairli heavi often struggl get filter want keep plu side devic look nice profession held three year use give better record pain',\n",
       " 'complaint attach firmli job beat price order eye close great deal work fine',\n",
       " 'work pop filter huge upgrad make shift panti hose pop filter els say work pop filter',\n",
       " 'pop filter work great realli elimin mani subtl flaw audio record grant make make shift pop filter use hollow ring nylon adjust clamp realli well adjust fit mani uniqu mic placement situat plu although flexibl also sturdi worri vibrat nois come work great',\n",
       " 'filter work well look profession problem clamp seem work specif mic stand similar type structur work well look pro',\n",
       " 'thing seem stay mean chang posit pop filter vari shape metal arm stay put also materi filter kinda poor qualiti think lucki might get job done mmm not pleas',\n",
       " 'work fine although mount bit weird see pop filter work perfectli not abl hear clariti loss sound color pop filter black pantyhos lolwork like charm',\n",
       " 'purchas read great review like comment late thing not good look almost use arriv gooseneck stand useless not come even close abl hold weight filter would return complet destroy packag get open oddli stapl hold close someth funki go',\n",
       " 'littl guy help record apoge one voic amp prevent air flow shock diaphragm wanna excel record get one use',\n",
       " 'wind screen way big bulki useless screen came think glue back went ebay bought metal mesh pop filter cheaper much better avoid yuck',\n",
       " 'wow review thing littl ridicul eh peopl pay silver expect gold okay bought app review video blog blue snowbal mic pick aw pop sound suppos filter hard p hard hard b other got pro con pro work test soni vega pro without filter pop sound complet remov filter mean design star not affect voic volum smooth rough edg speech look nice attach blue snowbal look like profession product realli matter sinc work home not public place nice know show peopl look nice clamp bendabl arm everyth work appropri clamp design hold onto bar not flat surfac mount say desk probabl stabl attach round thing like stem mic know peopl think sturdi mean not go local rink play hockey darn thing build qualiti quit excel consid fragil screen attach plastic metal con pretti big use shorten stem blue snowbal stash cubbi hole hutch desk easi storag anymor pop filter becom perman member front desk outsid thing doubl space snowbal take complaint pop filter work well attach nice suppos look nice qualiti good last pop filter buy long time good home use',\n",
       " 'filter good size easili come apart chang fabric probabl use panti hose get torn work saiddo job',\n",
       " 'order product use person record thought could possibl go wrong order new definit show sign not new first packag stapl right stapl togeth way could tell product open make matter wors hole one side fabric order someth new expect new base product alon would not recommend buy seller untruth seller',\n",
       " 'headlin say exactli suppos remov annoy pop p record afford sennheis condens microphon built pop filter go need price right exactli suppos',\n",
       " 'keep spit mic look cool record great keep mouth mic dont breath fit great stand easi clampit work',\n",
       " 'ye make pop filter home want els would read besid look good purchas three pop filter thu far last four month recent one purchas not one wish thought tri someth differ see differ well tell signific differ other featur bottom clamp one featur rubber piec grip metal pole attach competitor tri not not rubber piec clamp tend slip pole not grip properli huge mistak make use pop filter boom stand imposs fortun nadi place rubber piec clamp never issu complaint screen actual pop plastic ring coupl time singl dot superglu fix compar pop filter seen use one perfectli suit microphon reason price beat ye pop filter must condens microphon buy one save troubl averag pop filter',\n",
       " 'suppos well made think look cheap unless get studio profession grade screen pop easili pop back work well home record decent pop filter',\n",
       " 'peter piper pick pack purpl pepper test pass puh sound found record pop b gone',\n",
       " 'decent pop filter get job done flaw attract good amount dust screen tend mess caus tear first screen goos neck tend unwrap self place also get shakey tend screw back decent pop filter not price would better went someth cheaper cough cough auphonix pop filter cough cough futur get job done matter right aha',\n",
       " 'not stay place well three star',\n",
       " 'read sever review pop filter amazon surpris dissatisfi mani final went one pretti happi seem quit servic doubl filter attach stand well enough arm littl weak butit stay put bump guess balanc stiff eas possit think possit would littl easier arm littl stiffer blow directli not quit hard blow cake full candl feel noth side hear wind rumbl mic gonna keep use till rot get lost good unit job',\n",
       " 'though warn know audio not mean place mic right front pop filter magic de ess whole thing pop filter slightli center placement seem keep major erron pop ess make appear way say',\n",
       " 'work well keep pop bare minimum easi instal clean flash lightweight worksmicrophon filter',\n",
       " 'lot podcast dub video use filter pop occur p b voic basic gone make audio profession elimin annoy get microphon',\n",
       " 'record sing need prevent pop sound definit worth also make look profession need',\n",
       " 'pop filter rock like lot well compar lot filter tri got nice look job well',\n",
       " 'use home record voic record work like long neck doubl filter get tad bit extra test singl filter make differ expect make sens addit layer filter effect wasnt sure would effect tone high didnt notic either effect great pop filter long neck',\n",
       " 'great invest home studio abl elimin major pop come condens microphon bought long time ago nadi pop filter',\n",
       " 'use audio technica work well filter stay place realli improv qualiti record not much els say great pop filter',\n",
       " 'work well wish bit heavier construct littl better made work intend say pop filter',\n",
       " 'love pop filter everi attactch scratch mic stand pop filter clamp adjust arm flexibl yet sturdi assur proper pop filter placement awesom',\n",
       " 'price one best pop filter easili clamp onto stand move around place howev one problem easili lose grip arm hold filter mean pick mic arm swivel away grant caus drop fine good price get filter work good price',\n",
       " 'test blue yeti usb microphon could tell differ pop filter right away good invest definit improv',\n",
       " 'mani requir word type product need much explan mount mic stand formabl posit need sturdi perfectli adjust',\n",
       " 'need accessori vocal record period gripe model straight bracket part need stick dang far sinc bend arm posit anyway necessari get one alreadi',\n",
       " 'well thought unit say drop pop realli like way clamp connector rubber protect finish mic stand rubber allow adjust filter mic without loosen everyth rubber inher give flexibl arm allow fine tune filter proxim singer allow best sing realli import part everyth stay last left hell even cat porcelain great pop filter',\n",
       " 'good solid construct hook onto mic stand work advertis e remov pop vocal record solid construct',\n",
       " 'sturdi awesom pop filter adjust length want great pop filter would recommend anyon awesom',\n",
       " 'filter arriv quickli use scarlett mic exactli pop filter good purchas pretti good filter price',\n",
       " 'high qualiti cabl construct wise audio qualiti use shorter cabl run bit rack extern amp unit ie unplug plug lot find cabl stand abus averag cabl satisfi high qualiti cabl',\n",
       " 'good qualiti cabl price work good expens dll cabl not make noiseexcel product',\n",
       " 'sometim run longer cabl snake big band thing otherwis use cabl everi show love use everi gig',\n",
       " 'look vintag work great great price good better monster cabl lot less money vintag look cabl',\n",
       " 'second spectraflex cabl love love flexibl option color end build qualiti price like use qualiti guitar cabl good sound need spend fortun run stage roadi rip cabl cost guitar great qualiti cabl',\n",
       " 'got short cord go amp waa work perfect spectraflex cabl fineshort',\n",
       " 'rug end flexibl seem like cabl hold well not tangl real plu tend move around lot connector seem heavi duti time tell would assum cabl last long time great cabl',\n",
       " 'suffer crackl lost signal rest decid heed numer posit review spectraflex tweed cabl purchas one amazon com new acoust electr classic receiv gift end pin outlet bought spectraflex right angl connector although use cabl week impress connect guitar bass use sure loss signal crackl perhap impress fact turn right angl connector around never chang signal final confid play someth consist come amplifi way old school tweed look plu outstand cabl',\n",
       " 'well say base custom review purchas seem like brainer howev month light use use rig home toast cabl bare hold signal constantli need jiggl thing work ask perhap output jack cabl work gee tar definit cabl anyway gave star work sound great roland jc bad',\n",
       " 'spectraflex make great cabl bought right angl red cabl older ibanez guitar cabl built extrem durabl made usa come lifetim warrante gaug construct rug nylon braid make low nois cabl connector secur feel quit substanti especi compar cheaper fender cabl use requir almost constant tighten though spectraflex cabl not least expens expens great valu definit fan recommend cabl without reserv great heavi duti braid cabl',\n",
       " 'purchas three three differ color make mini snake keyboard di typic use mogami neutrik need cake road usual roll exact length work well quiet handl nois seem well built treat cabl well realli test tough circumst hope remain spot forese futur use night week use problem recommend plu live fabric cabl differ color great easili identifi road crew member might not know audio well nice piec pleas cabl',\n",
       " 'keep cabl pedal board pedaltrain mini soft case post photo pedaltrain mini page right angl connector great exit last pedal board straight connector goe amp use mogami silent cabl mogami platinum guitar straight straight quiet plug feet input guitar justifi pay lot money side goe amp not get bump around plug unplug etc cabl work perfect purpos oh yeah match tweed amp great cabl match blue jr',\n",
       " 'pretti strong cabl want someth plug top load amp jack would stand case sit amp angl job seam strong seam like last good cabl',\n",
       " 'bought two run amp lone pedal effect use bass degre end go pedal make non intrus smart look setup pleas own month issu look good bought pair',\n",
       " 'profession musician love cabl look great perform great feel lot tougher rubber cover cabl usinggreat retro look',\n",
       " 'becom number one cabl carvin bass gig coupl time per week rock solid use someth differ need longer reach love tweed cover satisfi one great cabl',\n",
       " 'littl amplifi week ask better practic amp amaz loud get otherwis quiet room get drown pretti quickli add compet sound rug portabl fun play around effect fact run batteri huge plu exactli advertis',\n",
       " 'might work well record take output jack speaker accept qualiti compar fender amp one watt small speaker watt opt conveni size got get coupl smaller amp headphon monitor plug sinc better sound good effect like brit set sound like rock star good product practic record could get away microphon amplifi gig around price could get fender amp product work qualiti pretti good mini amp similar accessori toy compar nice portabl amplifi practic',\n",
       " 'sever type practic amp high end modler line g dec vox vt still run typic overload featur low end tube fender blue junior bug v peavey valvek etc typic strip featur not neccessarili qualiti micro alway thought notch toy sort amp found prepackag guitar set walli world christma boy wrong need portabl amp son take practic school import could schlepp gear not big kid even lb amp push plu gig bag school back pack initi brought micro not sound featur smallest possibl amp littl virtuoso turn amaz amp tone destroy line featur crush vox pathfind watt bug v fender frontman not even ballpark model distinct clean sparkli trebli high gain model articul obvious loud amp not bad get everyth amp offer reason volum also batteri power life suprisingli long includ regular wall plug headphon jack built tune fork kind lame seri onboard effect run simultan exampl abl crank delay tremelo pull dick dale surpher lick supris accuraci let size fool honestli thought noth toy wrong sever big websit tough find neg amp qualiti sound durabl great price oh red find look pretti sweet price easi star',\n",
       " 'great littl amp take ampeg jet mainten love littl practic amp enjoy use fender strat rickenback littl giant',\n",
       " 'fun littl practic amp agre prais get posit cover point minor thing like first power button back annoy rest control top grope around back find import button plu keep cabinet pull turn next wish name set clean overdr distort jc clean black panel brit combo r fier mean noth anoth minor annoy input recess degre angl plug fit unless run around back lastli amp solid rug mean heavi not heavi like pick heavi someth call micro amp none deal breaker thing find annoy overal say prefer vox mini nice littl amp annoy',\n",
       " 'bought amp replac squier sp came guitar squier effect clean channel overdr button afford bunch pedal want effect could get cool sound electr guitar saw review littl amp amazon decid give tri awesom small amp output plenti loud practic home run batteri take anywher effect better hope certainli not pro perform onstag drummer intermedi level guitarist like play pleasur pleas famili amp get sever model function choos choru flanger phaser tremelo still ad either reverb delay one grow number retire decid pick guitar learn time need deafen stack kid like love amp awesom effect great sound',\n",
       " 'pupppi pretti power run batteri use coupl gig work well volum half way not guitar player not use guitar use mp player backup sound not quit clear get roland cm star micro cube lot easier transport set nice not load cart roll around guitar folk like unit fx featur plenti power',\n",
       " 'microcub came new ac adaptor support v v take along use europ asia usa save buy anoth ac adapt support v happi custom new ac adaptor support v v',\n",
       " 'good solid piec equip sound good look absolut beauti descript list slight wear mark back realli look hard find one came well pack brand new guitar look like one qualiti beauti',\n",
       " 'tone control work return pretti nice even though felt fret board qualiti higher gibson le paul expect order would pay get sg qualiti pickup sound let say averag good beginn guitar guitar upgrad new pickup bolt neck bother sg anoth reason would step next time shape ok pure subject like solid le paul shape littl better sinc conserv size good almost comfort le paul style believ make good guitar like buck also even though tempt fade finish glossi finish realli nice guitar make player proud nice finish guitar',\n",
       " 'money find better deal current oversea want bring good guitar along great play guitar money come packag extrem well high qualiti around price best deal go price',\n",
       " 'bought guitar center wish reason said would rather save tax oh well guitar second three epiphon guitar someon profession musician still want sound like one sound sg true big brother gibson awesom crunch great sustain take leav kill pot electron mainli switch could use replac not complain notic extra nois switch pickup expect top line sum love guitar keep e flat tune stay guitar sound crunch deserv drop tune littl amaz sound',\n",
       " 'love thing action perfect great sound good feel easi play highli recomend thisi love guitar',\n",
       " 'first look small guitar fit perfectli epiphon lp le paul electr guitarlov',\n",
       " 'day search amazon alway got want reason price except not musican want case carri epiphon le paul custom pro guitar guy setup etc better expect sturdi outsid nice fusion insid tight not tight fit word great around know sit self mani guitar take guitar guy perfectli confid well protect lockabl key look good case epi lp get one not disappoint also order tuesday came next day special ship mayb locat great well pack case',\n",
       " 'love case nice simpl realli look exactli pictur highli recommend everyon look case awesom',\n",
       " 'bought along guitar present daughter guitar fit case perfectli well protect purchas along epiphon lp le paul guitar',\n",
       " 'order epi lp special obvious fit like glove beauti interior comfort pad handl solid hing even come hing lock center hing great afford guitar case',\n",
       " 'basic case sharp look made good qualiti materi insid one receiv grey fur case would probabl take beat time not skb case nice enough check airport surviv trip move van philli boston would definit recommend need case le paul fit snugli safe good qualiti case fit epi goldtop reissu',\n",
       " 'case built realli well realli nice plush interior storag area pick string tune fork etc neck lock one latch case actual kind stuck first day got much thought lock key insid first got turn that actual imposs case unless extra key dont worri dont idiot like give good tug get fit epi lp perfectli hehe fit well durabl',\n",
       " 'tight fit case proud owner aepiphon le paul custom proand fit snug order case assum would made guitar arriv doubl box wrap plastic sure receiv new case perfectli protect mark far construct not flight case mean look though hold least abus still job protect guitar guitar not move case due perfect fit said time possibl wear would predict buckl may first fail handl look durabl could see overal case epiphon le paul saw gibson case see superior enough justifi pay satisfi purchas think peopl would five star edit futur necessari tight fit',\n",
       " 'nice case price solid construct perfect fit protect epiphon lp would defin recommend love',\n",
       " 'hello bought epiphon goth studio guitar also bought beauti satisfi qualiti case make guitar look nice nice protect expect case',\n",
       " 'case best ever plush insid hard construct outsid strong handl extreamli soft touch guess case measur one even lock guitar fit qualiti best home new guitar',\n",
       " 'case hard outsid soft insid pocket insid nice hold accessori includ lock middl latch somehow mine eventu stop work lock good qualiti lock cylind fell insid lock longer use otherwis great case highli recommend nice case',\n",
       " 'use epiphon zakk wyld custom le paul fit perfectli case one best case seen carpet awesom also pocket middl hold neck fit strap even pedal durabl case seem like younger brother expens gibson case awesom case',\n",
       " 'afford guitar case fit guitar perfectli realli say need sturdi guitar case le paul style guitar want spend butt load money look work',\n",
       " 'bought bigger version riviera p case plush protect best deal go brand new case wish brand perfect case le paul special',\n",
       " 'guitar repair work one custom need lp case bought lot stuff az look one ship say great review price alway great az prime save money ship star top anywher epiphon case',\n",
       " 'could not believ qualiti case fit epiphon le paul like glove plush interior plenti storag durabl wow',\n",
       " 'not much brand name guitar case figur tell would thiev get spray littl matt black paint epiphon logo case quit sturdi insid plush fit line jtv variax cozi way great case small cash great budget case le paul style guitar',\n",
       " 'order one gig bag new le paul hard shell case back order want guitar sit attract ding dust fit lp studio perfectli room small item outer zipper pocket job nice outer cover',\n",
       " 'look someth protect guitar afford good hard case price better pad expect equip carri handl shoulder strap metal buckl snap good deal price nice',\n",
       " 'titl state lightli pad duffl bag noth toat practic instructor okay purchas reason adult care bag useless kid drop would like result damag would even go far call glorifi dust rag prevent guitar scuff ding dent dirt better gig bag comprabl price reason gave two star becuas dirt cheap price bare minimum',\n",
       " 'hous guitar coupl humidipak live northern desert not mani frill bag job job',\n",
       " 'bag light two back pack strap pocket accessori excel qualiti materi good qualiti zipper need someth lightweight protect instrument great gigbag',\n",
       " 'bag fit epiphon le paul ii electr guitar well room spare outsid pocket small sheet music work small thing like tuner short cabl prefer bigger pocket asid complain gig bag look realli sharp two shoulder strap conveni carri fit epiphon le paul ii',\n",
       " 'good qualiti bag epi lp fit like glove fact wish littl larger hold accessori fit epiphon fine',\n",
       " 'gigbag tight fit epiphon le paul minim pad littl dust cover toss asid bought fender gigbag fender heavili pad give seriou protect provid protect',\n",
       " 'lt great bargain basic bag fit le paul standard snugli back strap easi carri also easili remov bother epiphon gigbag also zipper pocket accessori hold strap patch cord not much els featur nice look graphic le',\n",
       " 'rug robust flexibl ask momentari switch like boss product probabl last longer best momentari switch market',\n",
       " 'got use boss dd tap tempo job well littl big definit worth delay pedaldo suppos',\n",
       " 'got boss loop station work well keep hope find someth work well got boss loop station',\n",
       " 'problem great qualiti look forward purchas brand thak much good',\n",
       " 'use footswitch control drum machin job problem itit work',\n",
       " 'could not beat price pedal suppos dynam wah guitar pedal well build use boss roland gear also not big not hog lot space pedal board happi item bought work boss dynam wah harmon mode',\n",
       " 'nuff said work great latest purchac use trigger drum machineus coda kick pedaltrigg boss sound moduleplay timealso use one vocalist eff mute chan chang like option nc save gig tonight one midi control lost mind need instead normal nc bunch',\n",
       " 'summari want read whole thing worth money beginn look first guitar experienc search backup travel option anyth like get not hesit cheap guitar alway mean po alright full stori review kid earli teen insan talent self taught older brother help learn play guitar got pretti decent somewher along way stop regret basic everi day ever sinc recent decid stop intern gripe realiz actual someth previous live hous multipl guitarist heard sound expens guitar heard sound cheapest guitar like typic beginn first act knew middl ground determin find got way bargain began quest know fund limit way could afford dive right buy high end top line fender martin like benefit learn back day knew go cheap least began scour internet search best rate budget guitar exhaust amount research chose one due posit review demo pull youtub excel plu epiphon pretti good reput gener despit posit review still bit leeri buy instrument without actual handl first alway bit gambl even sound nice play well sometim perfectli solid function instrument feel right went checkout silent remind could send back reason went fulli know good possibl bite bullet buy someth better even costlier well arriv earlier week not disappoint certainli expect perfect convinc would find kind error cosmet cheap guitar tell not found anyth wrong even unless drastic affect sound playabl instrument would still worth price along guitar bought new string martin time stock string come instrument aw pleasantli surpris find stock string usabl see review disagre mayb string older mayb prefer know say stock string guitar not corrod old shockingli enough guitar pretti close tune right box seem troubl stay tune either said hurt pick pack string safe mean sure final put martin even mind blown alreadi way sound guitar full rich sound play comfort low action help zero issu buzz dead fret oh contrari review said ye truss rod talk posit let not ignor fact also super attract shini black finish much would give away price not guitar certainli play like guitar either regret purchas even futur progress upgrad definit keep love gem still unsur listen demo youtub doubt disappoint pay mind review guy gearwir youtub channel clearli know talk well everyon els comment section sure express feel haha one user even claim epiphon sue check video review user compani goldhat samashmus giggear shadowfw complaint guitar buy sooner good luck search hope review help suffic',\n",
       " 'first let start say bought guitar board deploy want someth brush return home not expect good qualiti sound comfort guitar want someth cheap could toss around use desert without worri get beaten trash unbox guitar floor hardwar much higher qualiti expect far string came complet crap swap favorit set string erni ball ernesto palla nylon black silver classic string guitar sing beauti tone rich vibrant quit comfort play problem play th fret without guitar cut away not big fan pick guard epiphon e probabl end remov sunburst realli nice look receiv mani compliment look alreadi guitar realli great instrument price tag get also buy hard case take home ship guitar back home want keep part collect origin thought buy guitar leav rec tent peopl use gone even decid leav buy anoth one get home absolutli amaz guitar',\n",
       " 'not first guitar breathless epiphon support shout guitar sonic equal taylor martin not exceedingli well constuct amazingli playabl guitar fit finish feel action nice sound hand let face plywood around sound like plywood distract fact great guitar buck fine first guitar great beach camp cabin guitar leav car practic lunch leav offic guitar better guitar guitar better lot entri level guitar serious consid chang string second take box new premium string make differ expect playabl rug afford guitar disappoint sound qualiti primari concern well go spend hundr buck happi desir applic guitar great happi would buy heartbeat review differ',\n",
       " 'son first guitar learn well still great condit good qualiti guitar great guitar',\n",
       " 'thing play great action low not buzz easi chord highli recomend guitar wow',\n",
       " 'well construct qualiti wood saddl nut brace neck fret straight level not snag guitar ring like bell stay tune light weight not let low price fool not expect guitar come set tast guitar buy need adjust style play string may high light whatev readi tini bit work get like want serv well not buy luna davidson main street name get one best bang money',\n",
       " 'normal use nylon pick song flatpick intro nylon flappi pick keep nice bright tone littl friction string low string nois enough grip stay put hand well good pick',\n",
       " 'buy dunlop pick least year love feel grip pick last realli long time would recommend get sever thick differ applic sit room play around acoust electr guitar decent round pickgreat pick work great acoust electr guitar',\n",
       " 'tri end go back tortex like satin finish tortex better way bend ultex littl brighter attack though wear less quickli ultex sound like fender celluloid stiffer brighter tortex',\n",
       " 'sound great differ gaug like grip surfac favorit gaug round tip super fast great pick',\n",
       " 'guitar pick make huge part tone especi acoust best acoust pick market today opinion long life brighten tone freshen pick easi rub carpet carpet scrap bring back origin shape best pick market',\n",
       " 'nice like rigid fine wear acoust though aggress player worn pick sound consider differ much graini tin may plu also like side edg real mellow speed pick style stay finger well pick',\n",
       " 'grip excel prefer sharp sturdi look like need anoth set quit timesam materi jazz iii yellow',\n",
       " 'differ tast guitar pick know wrote elsewher dunlop tortex aw acoust opinion ultex much better not noisi better feel still not favorit spare not bad pick',\n",
       " 'bought wrong gaug read review said get size less realli want wrong bought gaug guitar center love made dave mustain mute crunch sound know use forev right love hard enough speed pick light enough stay hand without move around like mil dunlop ultex sound awesom far still look like new buy em good pick',\n",
       " 'love pick attack use almost everyth year play settl pick go choic acoust guitar best pick phosphor bronz long life string',\n",
       " 'think compel review someth like guitar pick dunlop ultex realli impress thu far use thick equival orang plastic dunlop pick orang pick favorit acoust electr play wear fray edg littl friction like ultex seem resist wear surprisingli littl drag string find matt finish easi grip hold give enough use smooth strum rigid enough individu note review note crack use turn problem might reconsid review box perform well pick use new pick choic replac dunlop orang',\n",
       " 'grab impuls need new one normal use old fender medium heavi pick gotta say great stiff flexibl enough maneuv plu glide nice not sure could said prove feel great pickin',\n",
       " 'use tortex pick realli happi pick howev take next level strong great bite rel thin pick use acoust hold true great product great pick',\n",
       " 'polish recommend one dan erlewin book work great realli make natur high gloss finish acoust guitar pop effect notic darker finish though realli help back neck make slipperi fast highli recommend work great acoust',\n",
       " 'got clean washburn acoust guitar work great use clean fingerprint grime would buff circular motion soft lint free rag would act like polish finish sparkl afterward even light great product great clean acoust',\n",
       " 'ive use polish sinc earli smell way work fantast guitar wonder polish not hurt guitar hurt guitar drop sweat polish way martin know use expens nitrocellulos finish best polish period',\n",
       " 'use enough use gibson polish although work fine forc use martin veteran model guitar great polish',\n",
       " 'product excel clean thorough leav residu made littl martin look almost good new great product',\n",
       " 'one everyon told use new guitar figur one polish car work well incorrect part delic wood preserv far better ordinari polishesguitar polish',\n",
       " 'bought son clean guitar realli like lot work well use microfib cloth would buy product work great',\n",
       " 'put fender dreadnaught wish held next step qualiti mic well love death pertin instal love sound versatil built volum knob great tough could go review tube better job love death',\n",
       " 'like fact partial instal cord come sound hole easili instal perman basi cut cord length run insid guitar bodi end pin hole enlarg bit either way plug sound great pickup maintain great acoust sound guitar blueridg br instal fishman saddl pickup martin guitar pickup sound good not better mind pickup visibl sound hole way go anoth nice thing eas chang batteri compar undersaddl type pickup batteri attach insid bodi guitar excel product',\n",
       " 'not bad product not great soon receiv instal custom made grit laskin guitar play two hour instal fast took coupl minut problem fold sound bit tinni much high end not equal amount bass small complaint dismantl entir instal chang batteri get mine work passiv mode biggest complaint volum control difficult get perform stage stick finger hole top side string fumbl around tri chang volum sensit sudden loud soft like said not bad product not top notch definit not profession fool around home record home fine job pro want spend doubl money get l r bagg give truest sound unbeliev work passiv mode easi chang volum control sincer docnot bad',\n",
       " 'great pickup combin fishman aura spectrum excel experi even pick qualiti amp make happi best go',\n",
       " 'look sound hole pickup came one best found expect use practic record realli like price wish bit otherwis perfect martin big bottom end matter alway sound fine pickup instal four month good good',\n",
       " 'say probabl well known pad avail probabl best best price could find amazon arriv describ via prompt ship great price best pad',\n",
       " 'ok instal thing krk stand sit two speaker say bass previous disappear studio present monitor sound kinda thin lose much energi desk thing made ton differ stereo imag even feel wider sure littl prici hey work want charg peopl continu buy cool happi reult got auralex',\n",
       " 'realli work great desk vibrat sound monitor clear wish could found smaller size sinc way bigger monitor anyon know get smaller one let know thank work great',\n",
       " 'use angl speaker addit isol desk surfac unfortun angl speaker default cut rearrang work need cut fit speaker tri find someth better scissor quit hard cut foam evenli work',\n",
       " 'mopad pretti amaz recent purchas atlant game desk feel would need pad pad must amateur record studio setup littl acoust treatment sit monitor speaker pad produc even better qualiti sound experi also get rid unwant bass vibrat desk love use extra pad angl way want set pad make bookshelf speaker sound amaz like use actual studio monitor go wrong pad studio must buy mopad protect audio bleed',\n",
       " 'laser cut pad studio monitor feel vibrat hard drive spin desktop sound come speaker look profession foam pad',\n",
       " 'need home studio monitor sit tabl next comput daw system surpris mani differ version sent work well thank heap job',\n",
       " 'review wrote cheap foam worth understand appreci qualiti speaker isol b cheap foam realiz good auralex isol work use pair behring truth activ speaker weigh pound isol not support well solv big problem seem speaker audio coupl consol place make consol vibrat spaeker muddi lower fequenc problem start notic mix sound good system except bass frequenc around hz appar behring speaker not accur reproduc fequenc rang eqe rang badli compens hear mix hafler speaker give behring truth speaker realli thought sound excel everi frequenc detail everi rang behring also power need activ speaker play realli loud studio without distort except describ muddi not clearli detail low end love speaker fortun friend studio great pro studio saw use auralex isol speaker said love bought place speaker remix project work wow differ immedi differ bass nice detail muddi tone longer reajust eq lower frequenc cut back almost flat new mix immedi bought nd set small hafler speaker take chanc also not reproduc accur isol great product problem solver save buy new speaker discov still problem cheap foam think excel product',\n",
       " 'argu not necessari monitor howev somebodi work music half life assur wherea not life death make signific improv listen process especi project studio not go make music sound better give detail accur bass respons monitor even cooler fact pad come extra piec pad essenti let custom posit monitor angl ever slightli lastli although monitor fit perfectli pad help think monitor larger would need second pair especi posit horizont overpr not realli make world differ absolut necess monitor',\n",
       " 'string bright full sound great coupl week get bit dead problem breakag loss tone time seem faster string tri sound great last long',\n",
       " 'guitarist opportun work guitar center back tri type string market fairli inexpens easi task chose addario exl electr martin sp top choic acoust sound reliabl unmatch money also neat bronz shimmer grant aesthet top choic acoust',\n",
       " 'ive tri differ string year ive stuck elixir time want chang bright clean playabl great string',\n",
       " 'tri differ brand weight string search one would give guitar clear bright yet robust sound found martin msp sp string knew found string short time play light finger sound great price right martin acoust',\n",
       " 'martin make varieti good sound string toward light end sound bright lack full found heavier string asmartin msp sp phosphor bronz acoust guitar string light medium custom light easier play bright tone make guitar sound like cheaper model compar light medium disadvantag thinner string limit dynam strum harder stretchi tune less consist chang tone reason bend would play fairli consist sound level expect bright sound reson one hand compar brand dampen sound bright make instrument sound quit good depend style might good choic use play solid bodi electr lighter feel string make medium string uncomfort might seem home use martin medium string want someth play extra hour day without feel overdo thing might like pick guitar martin medium string may find even cheaper guitar sound better comparison upscal one say dislik quit say gave five star oversold may deserv five star particular need around choic better sound one martin moot point feel comfort play make sure read varieti review decid equal valid viewpoint player uniqu lightweight contend',\n",
       " 'bought put realli old martin acoust guitar still sound amaz string certainli fit budget provid great sound excel string',\n",
       " 'one best string use blue guitarist take beat well much worth cost thank amazon great',\n",
       " 'good string good price purchas string sever time sound good last long time excel bargain',\n",
       " 'string retain good feel long time well past point need chang lost bright string retain good feel long time',\n",
       " 'seem work well guitar string son thought great know quit bit recommend not profession',\n",
       " 'bought ago got around use last week ever rememb non wound string bronz look weird sound much better ancient string sound good',\n",
       " 'brand name good string good tone seem last awhil chang string often never realli know long set last good string money',\n",
       " 'use use elixir nano string good sound not last great sound string excel',\n",
       " 'use string acoust even gave band mate seem keep tone long time chang instrument tone like string tri like lot folk not picki string good light string sound great acoust string live martin reput',\n",
       " 'string great sound great look fretboard bronz one issu th th string big rout tune head still wound nice would actual say might want get extra light gaug probabl tune machin kind suck buy realli good',\n",
       " 'best acoust money buy opinion play extrem well last long time noth better string two word best',\n",
       " 'taylor mint condit alway use martin acoust bought taylor month ago found medium martin string best particular guitar everi acoust differ though best',\n",
       " 'fast ship great price great sting satisfi would buy string would recommend friend great sring',\n",
       " 'long stori short string set strong metal charact distort natur sound guitar much mani peopl might like absolut noooooooo seagul guitar natur sound mellow warm mild stock string string wear got feel like play emg bridg fender archtop neck posit without power emg pickup offer ye bad guitar like seagul bottom line recommend string set peopl look boost distort guitar guitar like seagul definit avoid string feel like play activ emg fender guitar',\n",
       " 'not sure buy prob look light string littl ehard play good hard play',\n",
       " 'purchas son guitar love plan buy anoth set christma perfect',\n",
       " 'realli like medium abl play biggest varieti style without heavi not durabl enough expect',\n",
       " 'martin msp sp phosphor bronz acoust guitar string medium good string string like elix except much much less expens martin msp sp phosphor bronz acoust guitar string medium',\n",
       " 'nice clean crisp sound inexpens price durabl histori made string apart acoust set got least spare home right xdfavorit',\n",
       " 'not connoisseur noth great string pretti good sound seem die quickli good enough',\n",
       " 'use string quit fantact tonal qualiti longev look good string last fair amount time dead string syndrom hit recommend love em',\n",
       " 'sent mm blue mistak turn prefer size test fast ship play bass rock metalgreat bass',\n",
       " 'nice sturdi pick sound real clean better luck heavier acoust string still get use harder pick electr nice pick',\n",
       " 'use swear hard stiff pick le paul custom recent bought strat issu mucch fun fast rhythm wah phase phaser pedal fave med pick strat',\n",
       " 'perfect pick look tri experi sever type pick final found right one dunlop tortex',\n",
       " 'arriv time packag well happi purchas regular pick order need happi purchas hope enjoy em good pick',\n",
       " 'tri pick textur mallow color bright green like bright color easi found mm seem right strum acoust guitar like bright color',\n",
       " 'work well dunlop pick crack big plu use gener fender varieti go littl thicker would regular plastic pick get flimsi take note price pick ship cost might cheaper go nearest music store review pick',\n",
       " 'use everyth think way pick tortex one favorit least variou thick clayton need clayton great time want differ thich tortex clayton find perfect pick anyth want play last forev great grip gotta tri outtortex pick simpli great',\n",
       " 'bought mm pick would consid medium thick like lighter get smaller thick like heavi go larger thick mm right realli like great pick',\n",
       " 'love pick use year feel firm yet still flex need last forev highli recommend tortex pick',\n",
       " 'alway use planet wave nail want tri dunlop buy littl packag good experi durabl comfort textur make easi use not allow slip easili great price good textur',\n",
       " 'know pick choos person matter choos specif model thick flexibl perfect cool',\n",
       " 'use dunlop orang thick perfect hit string hard pick heavi enough get job done yet break mani string right rock hard not break string',\n",
       " 'use tortex pick year buy other feel great fall hand decent life span plu turtl logo sweet pick litter',\n",
       " 'great pick beginn pro alik go thinner pick like versatil play good rounder',\n",
       " 'think tortex delrin pick standard other judg durabl good grip surfac easi identifi thick color way think improv would replac black ink logo script sort rais emboss finger not smudg grip would even better take look cactu pick get idea mean great pick tortex delrin way go',\n",
       " 'huge fan dunlop pick long time start play year ago use slim floppi pick long time time went guitar skill grew need pick sturdi flex play intric detail song tortex purpl favorit thickest one find like soft sandi feel slip hand easili thick take long time wear favorit pick',\n",
       " 'like pick lot super strong look like take lot use good shape recommendedgreat',\n",
       " 'ye mm tortex pick blue quit surpris number review complain not get multi color pack anyon ever guitar shop tortex pick color code anyway play guitar year use blue tortex pick first mess around differ pick could get hand teardrop small fender brand slipperi guitar center brand wore quickli jim dunlop nylon pick felt weird mm tortex give right sound attack feel flimsi finger keep tight grip grip far superior market gator grip feel porou durabl wise lose pick even come close wear blue tortex picsk go',\n",
       " 'whatev size look dunlop best option last long sound great feel nice probabl favor pick among compani recommend orang one beginn gener would not go much higher green one get heavi not feel comfort anymor not sound well total want either way dunlop best great price favorit pick',\n",
       " 'alway use dunlop pick tri one like fender dunlop pick well feel right never like thicker pick pick weird grip feel right play give tri not wind cool littl turtl tortex sticker insteadgreat pick',\n",
       " 'play guitar year tortex pick nearli worst v ever use noisi overpow guitar string clackiti clack nois dunlop ultex pick sound much better not worst close',\n",
       " 'thank still pick alway lose work super well alway buy brand great pick',\n",
       " 'look someth abl bend bit not fall shape stay bent much use great good tension still sound nice acoust grip great almost like microscop layer felt suck hand cold pick keep slip finger want keep lick finger breather warm air easi hold onto matter condit sturdi easi grip',\n",
       " 'use pick year alway great blue yellow cover pick',\n",
       " 'love pick flex right last forev never one break favorit pick',\n",
       " 'know type pick like buy sampl pack pick make big differ sound playabl thin flexibl easier use beginn easier strum gener howev tone differ need decid song work etc far qualiti great easi grip durabl good pick',\n",
       " 'good pick great feel bring sound loudli mostli electr prefer lighter sound acoust work well friend electr fender good pick mostli electr',\n",
       " 'use use lot thinner pick read articl paul gilbert say order play fast need minimum mm thing great ye shred faster perfect',\n",
       " 'thought pick pick like long ago would probabl come realiz would mistak assum posit play play strength increas attack complex use dunlop tortex mm purpl earli play use thin medium pick read guitar magazin along hear sever friend heavi pick better mess found player abl fulli control pick not let pick interfer input attack interfer thin medium pick give slacken attack hard heavi gaug pick lack rigid slack introduc player not pick flexibl tri like use heavi gaug pick sinc mid like dunlop feel grip durabl hold long time long last year incred bargain given long last durabl student use demand stress control aspect pick differ gaug highli recommend disappoint qualiti',\n",
       " 'final decid get mm pick like thin thick perfect gaug look hope logo wear use much use daili basi practic far not wear fast recommend great pick',\n",
       " 'think great price give john mayer use pick he one favorit guitarist stick alway use pick',\n",
       " 'use pick year great result never use stile pick sorri need good pick tri',\n",
       " 'fit boredom curios decid would check pick spend much money variou brand pick includ everi model dava pick came back home dunlop tortex green stil play great sound great steel string last long time still best',\n",
       " 'pluck guitar bass string decent want one set cover applic good choic nice servic guitar bass',\n",
       " 'like grip good thick right wish tip sharper good issimpli good',\n",
       " 'tortex great realli like pick may better fit bill prefer yellow one littl thinnerexcel',\n",
       " 'thick pick use matter person prefer style dunlop tortex perfect surfac matt not slick think ever worn one unus seem last forev lost tri brand pick made materi alway come back probabl buri one hand favorit year',\n",
       " 'order one pack got entir box either way pick great although would suggest jazz pick thesejackpot',\n",
       " 'alway keep lot hand pick use play acoust guitar strum style vocal sinc play sever hour nearli everi day tendenc go lot pick definit last longer brand similar weight use exampl round end musician gear pick fender pick hour play seem get much mileag pick weight great style play seem durabl brand inexpens sinc play lot hour alway keep lot hand love em use daili reli pick use play acoust strum style play',\n",
       " 'love tortex mm pick red one year old still go strong ye turtl write eventu get rub never leav black residu pick string use red yellow orang tortex exclus practic perform church worship leader highest recommend fantast pick last forev',\n",
       " 'love pick play acoust give nice crisp tone perfect amount flex play acoust prefer slightli thicker pick play electr probabl still like tortex pick well pick inexpens enough keep endless suppli use year',\n",
       " 'guitar pick best simpli put easi grip onto even hand sweati rock day highli recommend never use guitar pick dunlop tortex use green mm pick also orang mm one recommend buy green pick orang pick great beginn pro simpl best',\n",
       " 'enjoy set much due varieti pick interest tri differ model dunlop pick great dunlop pick great',\n",
       " 'kid learn play trombon profici heart realli took guitar love play sever year stop play lack time recent start play look perfect pick classic rock old ibanez le paul custom tri sever pick quest sever like sever thu far favorit mm tortex blue pick nice almost powderi matt feel minim slippag break though fairli stiff depend play variou thick avail peopl find someth suitabl person prefer say never tri anyth els thu far find pick tortex pick durabl slip not love',\n",
       " 'seem drop compar pick use past seem slip good',\n",
       " 'absolut love feel guitar pick grippi broken singl one yet stand junk studio hard loos still like child nephew niec sibl parent play guitar bass go wrong get guitarist play cheap littl fender pick break strum chord lucki enough not break slip hand play littl thin rhythm play howev recommend mm pick guitar pick great guitarist famili get pack thank',\n",
       " 'favorit pick go wrong tortex habit pick chew destroy buy like ton themawesom',\n",
       " 'use pick play time use white color thinnest one like use thin one play strum time one work perfect easi grip last long one thing point print pick fade away quickli not mind highli recommand anyon need pick good guitar pick',\n",
       " 'comfort pick love textur make easi hold without distractingli aggress like pick textur subtl yet effect favorit pick love pick',\n",
       " 'feel nice soft touch finish fair price love color green one like mm right mix medium hard great someon look play blue rock cheap easi use beat pick favorit',\n",
       " 'great pick buy pick rock im fan dunlop mani year product amaz great pick',\n",
       " 'alway use tortex pick like lot last forev almost littl thick tast red one littl thinner give better action strum also fast altern pick pattern like medium thick pick though rockin love tortex',\n",
       " 'pick learn play great feel slip sweati finger good tone get plenti use one pick hold well green',\n",
       " 'good deal four star',\n",
       " 'use dunlop pick long time good feel grip not heavi thick good deal best pick',\n",
       " 'prefer nylon pick softer feel string ear less clicki standard plastic pick favorit snarl dog brain pick similar guess come right essenti brain pick point use dunlop nylon pick excel almost imposs drop sound feel right last seemingli forev hard go wrong like nylon pick great',\n",
       " 'hear sound string flick flimsi pick across better electr guitar still hard play fastpointless',\n",
       " 'ever sinc start play guitar use nylon dunlop pick better thicker size mm larger mm size thick regular fender pick flexibl easi pick biggest plu nylon pick not break almost melt one thing lighter harm one pack last yeeeeear also note price keep go amazon reason pay pack get local music store good pick',\n",
       " 'bought want durabl flexibl pick easi strum would recomend anyon need stabl strum good pick',\n",
       " 'like thin pick one thin tuse time everi use right situat player somewhat meat fist come play need take edg ideal also soft strum acoust guitar awesom power chord littl guy good tool tool box need non slipperi textur grippi textur surfac dunlop love make easier hold give thumb thin great acoust guitar strum',\n",
       " 'great awesom chord base song need pick individu note string might want go bit thicker said tone not nice sound bit softer best pick song lot chord strum',\n",
       " 'bass player like pick bit thicker wider tend play fender pleasantli surpris found pick work realli well good pick',\n",
       " 'would give pick five star coupl type prefer still nice pick far use string guitar soon tri string guitar nice pick',\n",
       " 'thin nylon pick good practic hand motion strum put littl resist train keep hand stabl still sometim play sinc give realli nice bright tone usual want someth thicker order abl flatpick melodi line strum also sometim use practic flatpick sinc flatpick realli thin pick reveal thing bodi mechan notic thicker pick great thin flexibl pick amazon best price good learn strum',\n",
       " 'cant go wrong dunlop pick last break end lose vers break mm bit soft like go size thicker next time good pick',\n",
       " 'right feel sound great compar materi qualiti control pick cleanli cut inject mold result left thin trim around stick dunlop gator grip mm pr pick flexibl acoust prefer fender medium celluloid pick not right feel',\n",
       " 'ye think tri look get thin flexibl purchas develop pick skill finger type guy w pick experi drop get feel sting locat w look definit like',\n",
       " 'favorit pick decad grip well last forev tini bit mute plasticki pick dunlop',\n",
       " 'use mm mm dunlop nylon pick entir profession music career rock hard acoust electr bass tri almost everi pick market break far easili dunlop nylon pick break find thick fit need find excel string attack easili kept grip rare ever drop one pick preform mayb time entir career buy pick best pick earth flexibl indestruct',\n",
       " 'im not loyal brand whole reach pick hope one get wear get nick rememb keep order edit watch steve vai interview share secret restor edg worn nick pick rapidli firmli wipe pick edg carpet motion tri cut carpet edg pick repeat time whadda u know edg smooth nice favorit pick year',\n",
       " 'use dunlop nylon almost long play guitar twenti one year find bit thin chord strum style play play rhythm perfect flexibl not flimsi tip wear pick estim solid thirti forti hour play get pristin tip howev definit still usabl one advantag pick never break dont see go wrong use pick standard chord strum',\n",
       " 'dunlop mm pick right size not big small use year alway good extra hand put case never wear not stiff flimsi work good sound string easi hold right',\n",
       " 'order bought varieti pack pick musician friend one lonesom thin celluloid pick pack love quiet strum acoust dreadnought went hunt thin pick celluloid one fell apart quickli want better materi white nylon pick last lot longer non point end grippi textur work great like use round corner pick job like point end thin slide string nice still pick combin pick strum keep use thicker pick pick song louder strum mellow strum keep bother folk hous great updat use year pretti flimsi pick note mostli strum song still favorit pick strum hope help look',\n",
       " 'ok pick person thing guitarist play year use mani differ brand type pick perfect pick everyth depend play play style want choos differ thick materi howev found line pick favorit gener goto pick hand sweat textur grip fantast job keep pick hand not floor also realli like nylon materi produc softer sound without dampen overal sound volum guitar like playabl mm great strum rhythm loud volum pick blue keep stack mm raw folk like sound case pick great stapl kit mani mani year continu simpli great pick',\n",
       " 'pick nylon one last coupl year long lose thicker mm dig string littl better still hair flimsier snarl dog mm pick know size trust flimsier grip ok go wrong almost good snarl dog pick not quit',\n",
       " 'alright got tire fork cent pick local guitar store instant gratif decid get onlin let tell pick get job done expect play metal soft side work well casual play along heavi palm mute stuff like tip broke think fault play hard great pick would recommend anyon good pick',\n",
       " 'use dunlop mm nylon pick current standard decid give lighter mm tri unfortun volum produc get complet swallow accompani sing acoust guitar especi outdoor picnic set basic unus purpos howev find ticket person practic allow hear metronom backtrack far easier although fail origin perform intent star fill need even know mm pick',\n",
       " 'nylon pick great play feel stiff enough pick individu string still feel comfort stum chord great pick',\n",
       " 'like kind pick grip normal pick use slip finger time dont hate drope pick play get help pick',\n",
       " 'pick nice thin look pick seem durabl far light color make easi see drop one set satisfi pick thin pick dunlop',\n",
       " 'pick comfort nice qualiti get dirti cream white see worth wanna play fast take n tri em outveri comfort',\n",
       " 'pick right amount give realli make strum sound nice clean forgiv techniqu also great beginn perfect strum',\n",
       " 'use dunlop number reason first textur plastic give good sound easier hold second grippi textur put make easier hold thirdli make mani size right occas two thumb use gener acoust guitar strum not thin not thick use mm mm mm size dunlop rock',\n",
       " 'purchas mm mm use mm learn use pick feel better use like small amount textur provid grip area not much least someth excel',\n",
       " 'normal prefer harder pick switch pm play acoust guitar keep peac neighbor super light flexibl nylon pick great tri play quietli prefer flexibl softer pick mani peopl also excel regular go pick soft flexibl thin pick great play acoust quietli',\n",
       " 'ive use dunlop nylon standard pick sinc earli never let comfort hand great product',\n",
       " 'not sure els say pick work well wear easili like nice grip finger get sweati slide work well',\n",
       " 'last forev much better plastic one especi stay light thicken th ank last forev',\n",
       " 'mm pick right amount flexibl without flap around like thinner pick dunlop nylon standard first choic mountain dulcim play know peopl use yogurt contain credit card bird feather even coffe stirrer pick consist dunlop pick beaten price right right mountain dulcim',\n",
       " 'use dunlop number reason first textur plastic give good sound easier hold second grippi textur put make easier hold thirdli make mani size right occas two thumb use dunlop',\n",
       " 'perfect fit like pick stiff like grip hand sweat lot realli need grip size',\n",
       " 'durabl afford mm perfect thick look strum occasion pick mm perfect thick look strum occasion pick',\n",
       " 'irish style dadgad guitarist pick cut string realli nice great drive rhythm start lean toward tortex mm though think rough surfac dunlop add littl bit scratch sound like still great pick great rhythm guitar',\n",
       " 'use mm mm dunlop nylon pick entir profession music career rock hard acoust electr bass tri almost everi pick market break far easili dunlop nylon pick break find thick fit need find excel string attack easili kept grip rare ever drop one pick preform mayb time entir career buy pick best pick earth flexibl indestruct',\n",
       " 'pretti flexibl due mm thick would recommend dunlop max grip pick pick max grip much better grip pleas click ye review help encourag continu write updat review leav comment question happi answer help good pick ok grip',\n",
       " 'like flexibl pick mm work fine also good color stand much good pick',\n",
       " 'beginn play guitar time play strum church prais team play faster song thick gaug pick easi lose like play thin gaug pick use mm white one want make guitar sound brighter pick gray one play last friday sunday worship made sound desir fli away hand pli fast prais song play like porsch pick fli away',\n",
       " 'vast multitud guitar player solemnli agre experienc search person holi grail guitar pick except dozen dozen maker style shape gage materi price rang oh ya dollar pick name tri even nail pick metal string new perfect pick quest must understand pick subject scent person grip sound interact host music ingredi make grail differ howev play light metal string acoust main aria af tenor guitar check dunlop nylon even within dunlop line tri differ grip thick gage said done rel cheap pick remain stand first choic heavi enough heard unplug without fold pick around thumb light enough strum fluidli without yank lighter string right materi keep low string thump high string sing even dunlop nylon max grip gage acoust perform quit would tri anoth pick chanc present sure us would sinc quest holi grail never truli end dunlop nylon without hesit closest thing gotten pick perfect seek holi grail pick',\n",
       " 'happen favorit alway keep mm mm mm size hand mostli use use year probabl never chang like grippi hate smooth pick pick cheap keep tri differ one find one like pick highli person devic',\n",
       " 'think mani guitarist alway lookout new thing pick easi cheap thing tri favorit pick last year snarl dog brain pick nylon pick raspi cat tongu surfac make super easi grip also gator grip pick year like quit bit not favorit tend use someth around mm electr bit less acoust pick matt finish make easi retain grip sound wise find significantli differ pick ever stop make brain pick could well becom good pick',\n",
       " 'use dunlop delrin pick purpl one turtl thought found pick slipperi rough side enough textur improv grip rub flat side edg hone stone music store stumbl dunlop gator grip ye offer better grip think still littl slipperi much better delrin sinc solv problem hone stone curiou better grip wise surpris differ tone give much mellow tone sinc use flat wound archtop less bright sound often better tone overal seem harder materi brighter know gator made like differ sound not sure work round wound string great jazz tone extra mellow sound great pick',\n",
       " 'smooth sound attack grip soft loos yet well hundr pick favorit bought gaug',\n",
       " 'play year lot great product tri lot say feel tone grey dunlop gatorgrip mm pick surpass dunlop yellow gel fender x heavi golden gate dawg mandolin pick opinion hope check sure disappoint best thing tri far',\n",
       " 'pick everyon prefer happen like lot powder grip real bonu take bit wear still good clean well great pick',\n",
       " 'use mm dunlop gator grip twenti year non slip surfac take long wear work around even put vice file new point prefer extra heavi pick delay pick deflect gator grip pick favorit alway use mm',\n",
       " 'go wrong pick enjoy full size pick better grip full sound ear tortex pick sinc went jazz pick pick solid product good product',\n",
       " 'pick great strum peopl complain grip better celluloid pick regard look best grip need find pick textur grip good strum',\n",
       " 'sinc name gator grip expect good grip surfac not case entir materi hold surfac materi also larg expect still usabl decent pick gator grip',\n",
       " 'glad tri wont order thought might good altern dunlop nylon pick not realli though edit im noth not fair last review context play strat sometim stand review howev im play godin th ave suddenli pick perfect ive gone back forth tri differ pick guitar end pick reach im play godin buy chang review okay contextu perfect ok add star right add star contextu perfect',\n",
       " 'favorit pick year must say not real pointi recent tri pointier pick fenc love pick',\n",
       " 'start lot fingerstyl guitar play seem made fingertip slick hard time hold pick use upstrok sure could improv techniqu fix problem fun blame pick pick differ pick without gator grip imho gorilla snot work beauti',\n",
       " 'tri find pick combin good grip right string reson strum enough stiff accur pick pick might closest found far style play natur hard strummer want pick hold loos strum softli still get enough clariti volum want give star think would appli perfect strum pick good not quit would consid ideal pick one exist perfectli satisfi pick would never buy pick prefer pick keep experi brand type pick search elus ideal worth tri',\n",
       " 'first love pick use exclus year dozen never wear use use play loud rock band never issu comfort easi control bad sound not sound pluck not hard plastic pick string make notic plink sound audibl amp play loud music may not issu essenti stop use start play differ band dynam quieter passag plink sound pick string notic bad think great pick like made softer materi good bad',\n",
       " 'got pick week ago fell love gener use dunlop pick switch thinner pick rhythm play cours annoy especi play rhythm lead part song big stubbi pick solv problem easi hold onto great lead way shape hang string like regular pick great pick definit worth littl extra cost great pick type rock play',\n",
       " 'pick realli nice pictur not get pick transluc purpl strang color good pick realli help speed accuraci great mandolin play updat amazon chang imag item pictur realli show get purpl not black',\n",
       " 'alway find interest differ opinion product like sound other say wear day realli play hour say grip good take worth listen hollow semi hollow bodi guitar round flat wound string gener take pick give better fuller rounder bigger tone overal compar tortex style pick materi mm tortex bit hard determin sound come materi thick combin also note play round edg not tip grip center quit fit grip style still ok find get slipperi faster tortex materi hand sweat subject comparison found far find stand sound wise guitar current play process find right pick never end chang time give tri let know think good sound pick worth tri',\n",
       " 'pick r awsom tremmor hand hard thime pick control gell center whitch tingl feel like muscl activ hand great theraput picki seem better control pick rather ordinari pick pick indent u know put ur thumb index fingerthey realli say u hand problem tri realli work love',\n",
       " 'dont know call big stubbi small side way thick sound good though last long time feel like play nickl like indent help grip lot paid attent size thick still look right pick slimmer bit larger would buy stubbi right',\n",
       " 'look pick bass one not work thick hard good attack thumb pick work use finger ok',\n",
       " 'thing pick plectrum prefer realli matter prefer pick one pun intend tri stick get use practic use mani differ type pick year not found ideal one recent decid use silverpick basic standard triangl thin design made silver find fit need best far case get use particular dunlop pick describ fat stubbi sturdi nice grippabl centr kind lead guitarist use lot pinch harmon pick good maximum grip comfort hold posit expos littl pick face hard make good fast play thick also make difficult get firm grip small size make easi lose grip hit string hard make unfit bass player strum although could get use lead guitar play though keep among collect pick use not default prefer choic play small hard good lead guitarist',\n",
       " 'admit not guitar flatpick friend find pick perfect pick mandolin pick almost zero flex mean player solid control like em even purpl perfect pick flatpick',\n",
       " 'worri mm big guitar probabl right use pick bass want either want pick bass plectrum thick easi releas hard drop',\n",
       " 'first got thought go cheap felt extrem light came cheap packag ok expect much pick actual made extrem sturdi materi not bend tri believ tri pick wear virtual non exist util alt pick lot practic actual learn first sweep shred major pick within day get highli recommend shred guitarist complaint pinch harmon kind hard becuas grip got use rather quickli import get pack free ship well sorri amazon good deal pass amaz pick',\n",
       " 'purpl make stick littl cut make easier grip hold play mandolin alreadi plan purchas love',\n",
       " 'pick uniqu shape sound help play faster smoother tone unfortun pick not receiv five star rate price lack durabl wear fast mine usual worn day use think play particularli hard around six pick expens piec plastic howev pick full awesom compel pay littl extra definit buy superb guitar pick seriou durabl issu',\n",
       " 'current favorit pick thick enough control etch make easi handl recommend guitarist jazz fusion like favorit',\n",
       " 'first want mention pack pick product descript mention pleas receiv three son told need new pick sinc late play ozzi osbourn song knew need better pick standard fender pick play three year hear play pick notic play faster accur finger grip help tremend realli help bring play next level complaint sent us pack purpl pick wish could choos color mayb could send color assort buy long time come wow amaz differ make',\n",
       " 'anoth item never receiv would not use anyth mm anyway mean experiment learn sinc purchas big',\n",
       " 'right pick person prefer noth wrong dunlop stubbi pick not bought pack mm pick last year love left florida went north forgot name favorit pick bought mistak good pick not great',\n",
       " 'bought want tri nylon big stubbi sent lexan clear purpl one instead want mention item descript vagu pli pk item pictur nylon still happi purchas pick dynam jazz stubbi give much larger surfac grip lexan stubbi not nylon one',\n",
       " 'bought first set long time ago perfect order got think acoust type mm gaug small comfort hold end two dozen wast pick make sure get right one updat okay realiz dunlop stubbi pick dunlop big stubbi pick sorri make sure get right pick',\n",
       " 'use primari pick year love way materi surround finger tip uniqu not found flat pick easi keep grip allow go string confid howev find sweet spot life pick tip first use busi end extrem pointi sharp almost play bit tip begin round perfect long time eventu realli round want fresh one typic lose wear nice care long time favorit',\n",
       " 'guitar pick feel matter individu prefer realli seem much point tri rate like particular type pick may not relev anoth player pick high rate player like particular type write review rate highli obvious best thing play pick guitar alway possibl said worth thought regard jim dunlop purpl color big stubbi mm pick like pick sharp point better control big stubbi certainli meet criteria sharp point pick round edg help stubbi slide smoothli individu string make easier pick besid electr guitar find pick nice suit acoust semi solid bodi guitar string tension greater tri mm stubbi previous mm pick much thicker heavier absolut give still get use play someth stiff hard although pick round depress side finger pick rapidli find maintain grip still littl tricki keep pick clean dri help favorit pick thedunlop mm nylon pick pleas perform feel mm stubbi locat string easili precis still abl play decent speed time tell may becom new favorit pick pick pack contain pick paid simpli outstand deal player look realli stiff almost indestruct pick might want give ultra heavi duti stubbi tri pick help improv precis play',\n",
       " 'use stubbi spoil pick simpli play faster matter level altern pick speed increas flat pick drag use flat pick acoust play want hear crunch pick pack insan bargain pay twice much store use pick',\n",
       " 'use differ kind pick one special string ring realli pleasant great speed pick dunlop jazz iii pick',\n",
       " 'beginn guitarist friend let tri pick displeas standard pick partial like flimsi feel sound sound quit robust like hope make sens howev hand one produc pleasant sound feel like would somehow break pick play needless say guitar order pack certainli not disappoint never use anoth pick',\n",
       " 'play guitar entir life tri almost everi pick hear great decid buy felt realli small first kinda dissapoint put use quit time reason decid pick back minut came like pick day use got accustom size becam much effici pick longer worri pick slip realli go back normal size pick haha like downsid think mani dif version style buy em tri em work alway buy v pick give em time like em',\n",
       " 'real nice guitar pick came piec pack deserv dunlop brandnam thing last long time good dunlop jazz iii pick pack black stiffo mm',\n",
       " 'kinda small hand work great easier pick string pack come pick work great',\n",
       " 'use even sinc tri wonder pick speed precis go back sure favorit',\n",
       " 'shred pick accur pinch harmon come easili point made scream wound string gallop breez gave one guitarist band use best pick blue metal',\n",
       " 'recent bought pack jazz iii shock play like expect high magnif edg look old jazz iii either play turn sorri give poor review great brand like dunlop let hope short term fluke dunlop done pick',\n",
       " 'love pick great lead play small finger like feel great nice qualiti pick small size pick petit hand',\n",
       " 'use larg flimsi old school pick use one babi avail best pick alreadi better purchas black red color differ best guitar pick',\n",
       " 'like pick well third color pick purchas probabl alway use like',\n",
       " 'let peopl know bat tell pick small use big pick might turn trust say get use pick start use proper techniqu pick improv techniqu rapidli never thought would say pick help improv play tri bigger pick even use pick skill pick trust put pick get use improv least mani peopl agre dknow get',\n",
       " 'give pick three day llnever go back anoth style almost imposs slip finger great tone amaz clariti effortless harmon durabl fast pick liter make play better pick use',\n",
       " 'work good way stiff small though great attack hold onto problem slick finish make kinda hard hold onto small amount pick show make strum difficult without hit finger string imagin would work great lead player rhythm player good not',\n",
       " 'nice tone easi grip last long time one favorit pick tri electr enjoy much acoust great pick',\n",
       " 'half size regular pick bit thick sound nice last forev wish size bought small',\n",
       " 'love littl guy small size forc hold tip expos nice textur grip bought red one time see drop great littl jazz pick',\n",
       " 'use use fender medium pick jazz metal use pick tri see right classic',\n",
       " 'like dunlop product use purpl tortex mm almost exclus met jazz iii person debat continu like thick pick jazz iii like tortex realli like orang color make easi locat drop rare mean rare drop tortex pick nylon might get bit slick time make pick line vari degre tip pointi like pointi model other round rounder tip new improv jazz style pick still tri figur like trad fender jazz pick perhap slightli differ pick lay around bad idea sever pick use',\n",
       " 'alway thin medium style pick person fellow musician one stage quit surpris well work use guitar also bass realli work well good solid grip solid secur use',\n",
       " 'use longer decad met mani peopl prefer minim pick jazz iii among closest play bare hand get like small minim pick check',\n",
       " 'bought color review well like thick pick easi hang onto strum love tone obtain good one',\n",
       " 'titl say may take get use smaller pick long run e happi tri pick also sinc pick smaller found easi pinch harmon compar bigger pick hard time pinch harmon tri cant beat dunlop jazz want improv techniqu',\n",
       " 'bought use week give review amazon use half star would given bring give went use standard medium pick year switch not problem sure smaller not small enough caus problem far biggest chang pointi ness pick distinct point pick drastic chang sound play especi play chord everyth much pronounc necessarili good thing opinion especi bad play clean electr pick note strum someon ask good pick answer would depend realli opinion depend play rhythm standpoint like take warmth chord point pick make strum chord sound steril lead work ok realli dig note come could play faster could pull amaz lick normal pick tri like mayb typic play ton lead work constantli would way go glad tri though never wonder depend play',\n",
       " 'use two year recent shift big brother jazz xl thick feel tone larger form factor would definit recommend xl version rhythm lead work requir strictli solo work easi achiev pinch harmon one better nice pick tri xl',\n",
       " 'bought year ago tri gel name sound intrigu ok color bright otherwis standard plastic pick electr prefer nylon less clicki string fine pull one gig bag use overal style pick buy buy noth wrong normal plastic pick noth special mayb bright color ok noth special',\n",
       " 'tri three whim impress favor fact good purchas ten went back music store favorit mandolin pick like golden gate grisman dawg round side xh dunlop gel give similar attack nice warm tone would recommend anyon much better averag',\n",
       " 'reason look pick specif color nice set bright color make difficult lose nice pick look specif color',\n",
       " 'use extra heavi pick mani year still search perfect pick strong enough play metal blue style rift not strong crack brake like fact wont turn powder fray play either wear fast play heavi gaug string job',\n",
       " 'like fender medium alway gotta branch man not sure pick yet feel littl stiff usual want last longer happen day carri pick around pocket month play round strike gutter up down',\n",
       " 'recent order wide varieti pick find one like best sound differ gel pick not like see distract littl scratchi edg perhap experienc guitar player would fine stage still look use well not would grab play',\n",
       " 'not light bendi not heavi stiff pick right dunlop also make qualiti pick yet break one last long time guy first wish purpl sinc dunlop code size certain color like much realli care color anymor bought pack pick much less money local music store would recommend look first pleas stop cut milk jug go buy goldilock pick',\n",
       " 'play well hold well never one break second favorit pick pick better song favorit dunlop gel pick light',\n",
       " 'actual forgot bought heavi medium version pick not bad pick continu use wish softer center softer coat grip pick prevent turn fall finger not sticki enough',\n",
       " 'keep guitar pick quickli grab dunlop mic stand pick holder extrem effici use especi perform live alway great product alway depend also guitar mainten kit capo not one product let yet capo year old conveni',\n",
       " 'mention titl simpli snap stand hold pick enough said job ok tast simpl hold pick enough said',\n",
       " 'love pick holder easi get hold nice amount pick get rock star feel throw pick audienc must gig guitarist never without pick stage',\n",
       " 'hold pick place nice snap microphon stand firmli never come short nice accessori cheap tooit work fine thank jim dunlop',\n",
       " 'small version price version use dollar use concert excel recommend excel',\n",
       " 'fit nice mic stand hold butt load pick quit tight pick imagin loosen slightli get use need',\n",
       " 'drop pic purpos use often suppos els say love',\n",
       " 'bought thing not think would use much want futur use wrong misplac pick highli recommend also fit guitar stand cool cool',\n",
       " 'much say product except work advertis one live perform highli recommend poni dollar pick one pun intend necessari',\n",
       " 'tend drop pick time time nice readi time aris basket filler need get free ship one day find use use everi time play know wait long get one love',\n",
       " 'work realli well conveni stage switch finger style someth drop pick hand pick new one readi cool product',\n",
       " 'pick holder awesom snap mic stand add pick start rockin hold pick secur perform outdoor wind wont blow away awesom pick holder',\n",
       " 'mic stand pick holder great way keep pick avail play switch play guitar bass often chang gaug pick use pick holder great way pick avail chang pick often holder snap firmli arm mic stand not slide around arm hold pick firmli chanc fall holder handi way store pick',\n",
       " 'put boom mic stand tight not other need put shim stand keep pick place work time',\n",
       " 'find contain add spong buy keep valuabl guitar humidifi essenti think item cost three buck would still yield healthi profit made stuff dollar think better use one bariton uke bigger one made use dreadnaught make make sure not let spong drip ie wring make sure not actual touch bare wood better noth',\n",
       " 'excel product simpl practic design hold firmli insid guitar mouth keep humid level safe zone humid level area go simpli need provid extra humid prevent crack good purchas keep guitar protect',\n",
       " 'planet wave humidifi simpl use great product guard dri guitar caus split dampen spong squeez excess water insert spong holder holder hte string check everi day keep spong damp easier use winter long guitar insur damag dryness',\n",
       " 'noth special frill simpl concept work import maintain humid instrument especi dri climat like west texa evapor rate depend amount humid air store instrument first start use dilig check spong regularli ensur still moist noth special',\n",
       " 'compact humidifi easili fill includ plastic syring fill not drip simpli place case instead usual spong easi use non messi',\n",
       " 'purchas replac dampit drip altern solid base not drip fairli easi use distil water extend life spong overal simpl effect howev may ad much humid use conjunct humidipak keep dri think would absorb excess humid notic irregular reflect pick guard tone seem mute shift humidipak humidifi outsid guitar case use hydromet think effect read insid guitar insid case think planet wave humidifi work well intend purpos monitor not util drip humidifi',\n",
       " 'electron indoor outdoor thermomet show rel humid whole hous humidifi interest see quickli rel humid chang insid outsid electron thermomet whole hous humidifi pump gallon water day sq ft hous fall winter keep indoor humid around make hous feel warmer make breath easier make whole hous safer martin use littl case humidifi like help humid think realli need whole hous solut monitor system spong zip lock bag hole work well get water wood forget take silica gel pack littl accessori compart case mani guitar come ship job remov humid case better acoust guitar shop go big humidifi run showroom ok',\n",
       " 'thought would throw two cent new design effect soundhol humidifi make homemad case humidifi thing like travel butter contain mani hole drill spong start think case separ bodi caviti neck headstock caviti insid guitar case not allow humid flow freeli area especi bodi need even though get accept humidif case concern bodi dryer comparison went ahead splurg buck actual bought three crank ga heat hous winter c summer keep guitar insid case insid closet humid drop quit low spong remain moist sever day longer fight urg wet lol two great tip one use regular dens spong thicker like one dollar store cut size stuff throw away spong start get yucki worri distil water unless want argu use pure water compar possibl toxic crap come faucet one dollar get boat load cut size toss away without regard need replac worri thing hang string not damag anyth unless get spong satur leak either squeez excess water shake contain spong insid satisfi drip humidifi not caus stress damag string spread wedg insid soundhol rough careless thoughtless stupid could possibl knock loos rub fall would worri guitar would take happen would extrem guitar humidifi harm could caus top snap squeez side releas littl tab stick top cover spong insid quit small much room much larger spong devic simpl fairli solid treat gentli last forev easili clean insid run dishwash give insid quick rins everi fill sure would decad anyth built requir extens clean replac keep eye first day week get feel wet spong tri keep spong moist dri strongli suggest get oasi case humidifi similar mini size x cost around buck take guesswork equat give fairli accur read insid guitar instrument case rememb much humid caus acoust guitar warp dri shrink crack split soundboard top also leav edg fret stick like backbon fish quit abras spent one hundr dollar guitar live get cold dri would neglig not careless spend pittanc make sure babi thirsti wors dead broken hope help work fine much better noth',\n",
       " 'wish littl longer last trick guitar would probabl not happi without trick',\n",
       " 'upgrad version guitar humdifi first one green stuff florist use use plastic syring ad water replac spong take soak squeez excess put back contain would say get humid job',\n",
       " 'simpl basic think good job realli humidifi much extend far guitar simpl',\n",
       " 'simpl system gett humid guitar price right simpl use planet wave humidifi',\n",
       " 'simpl humidifi guitar round sound hole would not work f hole archtop type instrument mandolin ukulel insid sturdi plastic case appear ordinari kitchen spong use distil water recommend last quit top come gentl press side dri spong littl difficult remov finger tweezer needl nose plier work perfectli push way moisten problem drip littl distil water spong squeez excess assembl case pop easili g string suspend middl sound hole seen photo small ridg side hold top place string never one move left spong drip wet never problem drop water guitar case humid low less spong dri day even case open humidifi type check everi day ever crack appear top favorit guitar want see one use guitar humidifi especi winter heat hous tend drop indoor humid safe level ideal guitar air condit especi valuabl guitar would worth buy hygromet keep case guitar one room keep guitar okay mani reason alway best keep guitar case gig bag not use humidifi inexpens extra precaut time year temperatur humid chang quickli good basic humidifi round hole acoust guitar',\n",
       " 'bought product notion cheap refil buy except distil water actual realli simpl design like design better one simpl fact wood guitar alreadi dri refil humidifi often initi rather use distil water hydrat pack refil requir guitar humidifi guitar get hydrat usual end wet spong everi day definit get taken sever time refil not much hassl overal good product could probabl fashion bother tri not dous spong order avoid water damag guitar peac cheer jthe refil need distil water',\n",
       " 'fit nice acoust guitar requir dampen spong distil water luckili keep hand easi instal',\n",
       " 'bought guitar humidifi taylor receiv exactli purchas work product recommend mani guitar player around simpl design fit perfectli string easi use realli moistur spong keep plastic contain price good essenti guitar player',\n",
       " 'work split two middl string way peac mind allow comfort made thinner stretch string much consequ fit thin spong dri easi far arizona california concern suggest planet wave think make thicker instead split string redesign mount say velcro still hang sound hall attach string possibl attach product differ way modifi mine person prefer work without split screen advertis',\n",
       " 'one everi one case plastic spong holder hole noth special job planet wave acoust guitar humidifi',\n",
       " 'good keep guitar dri warp crack money work recommend product good',\n",
       " 'know contain spong biggi bought get super saver ship someth els plan keep solid acoust guitar weekend place sit unus long period time jam guitar string get hook onto feel bit rough string job simpl product kind inconveni',\n",
       " 'say complaint spong small dri area need check refil time week hydrat station',\n",
       " 'agre other review spong small thin humidifi small fit larger spong okay price okay mayb not',\n",
       " 'clean string make finger go across string littl faster good long last product littl goe long way safe guitar finish great stuff',\n",
       " 'cloth includ someth fall apart otherwis great use recommend contain keep string nice condit peopl comment realli tell much stuff left insid good idea keep one around easi use',\n",
       " 'play string bass electr acoust love stuff bass differ string variou reason use everi one wife use string acoust electr guitar keep everi case yup stay order list',\n",
       " 'spill mess one easiest use product clean string neck use fast fret wipe rag not dri last year thing like not fit accessori area guitar case led sharp edg put use cleaner use year',\n",
       " 'fast fret least kind string cleaner must anyon play guitar think string get realli dirti time product solv issu cannot go wrong gh fast fret',\n",
       " 'stuff lube string pretti well downsid leav tini piec fuzz string time use come littl cloth assum meant littl inconveni love stuff',\n",
       " 'not much say product except work make string last longer sometim get lazi own mani guitar minut per well done restr add great way put keep jam long possibl small conveni store recommend tri work',\n",
       " 'use fast fret number year think great product come metal cap applic versu old plastic cap applic much better way packag product probabl help retain lubric longer great product',\n",
       " 'realli love tend linti time still good product recommend fantast',\n",
       " 'agreement other state must battl fret nois record finger drag fingerboard realli lower friction make much playabl instrument supposedli protect wood use back neck well help much fingerboard rub entir neck play make guitar smell like came right shop suspect must use year never told though never ask foolish sinc recent gotten setup read mani forum poster recommend figur heck less wait whole life',\n",
       " 'discov string lubric mani year ago concur review said although call string cleaner although indirectli clean string use cloth like anoth review state also use cloth clean undersid string well unfortun live humid climat littl equat string short life anyth prolong life real boon musician agre downsid inabl tell advanc run low lubric actual turn dri guess given price overal use accessori one cannot complain much mine run dri go delay replac purchas tri someth new discov call swipe enabl clean undersid topsid string without chemic work well advertis may still get fast fret lubric properti realli help make play lot comfort recommend use accessori string instrumentalist',\n",
       " 'name say fast fret fast finger play live show min set hr set year nation stage string take lot abus slow sweat grime dirt fli air stuff honestli work well part regular arsen best stuff ever',\n",
       " 'especi price great buy string acoust start get bit loud would slide fretboard notic quit bit lag slide downsid would much easier appli directli fret without string appeal bring life back string shine like use take littl extra time care get much oil onto fretboard make sure wipe thoroughli possibl requir fold provid rag insert string fretboard take time went fret fret not big deal though result pleas eas slide tremend improv string sound feel better ever take minut guitar favor glad made purchas',\n",
       " 'got yesterday know long prolong string life notic differ alreadi lot easier play sinc string feel lot smoother make worth buy alon also cheap would give shot realli happi discov product fact alreadi order realli make differ',\n",
       " 'fifth time buy stuff realli like new contain tin way nicer old plastic one stuff work great last forev play daili one stick last least year get dirti dri use one swipe plenti string time nut bridg fold cloth wipe clean make move power chord solo much easier essenti guitar player',\n",
       " 'use gh fast fret six year amaz stuff appli tini amount string play wipe afterward use chang string everi one two month string last year easi control home much put one stuff last year two realli reason soak everyth think mainli use clean string realli glad found stuff stuff great contain last realli long time',\n",
       " 'nice product string feel sound notic better plu white miner oil smell realli good appli neck nice',\n",
       " 'use bass guitar older string made string brighter live tri guitar prolong life string like packag small cloth come use section shirt clean string put insid packag along cloth must fingerpick guitar bass player reviv dirti bass string great product',\n",
       " 'product great use everi session keep string clean condit fret board everi guitar player keep case good product',\n",
       " 'not expert cheap simpl clean protect string hope help thank youwork',\n",
       " 'make slide bass real smooth also nice clean hard tell run low oil whatev liquid thing seem last fairli long time super easi appli even though not pro act like one slap stuff bass guitar play real smooth',\n",
       " 'product not seem cool name tool oil stink tri best get use product learn much better way go studio record st time away fast fret play improv hardli ever chang string gook not mention get crap finger nasti use old english guitar thank nose thank finger thank not seriou player',\n",
       " 'seem work well though know long suppos last sweati hand done wipe guitar lil guy help lot keep string get dirti cruddi work great think',\n",
       " 'agre review found anoth area use fast fret nut tune string especi lower wound string hang nut caus string pop instead slide would roller nut dab fast fret onto nut tune problem greatli reduc anoth use',\n",
       " 'got product clean condit guitar fretboard well duh work ye first not appear anyth come bit rub notic slight bit solut turn miner oil fretboard fret tri spread includ cloth discov cloth useless paper towel would hold better serious use old tee shirt squar spread oil around honestli took min notic differ appear playabl guitar say use session that min time per guitar gener play guitar durn cours session still use occasion would not spend money purchas not look fret board cleaner meh',\n",
       " 'let cut chase less tight roll gauz soak miner oil exactli need clean protect fretboard lubric featur nice plu best fretboard treatment ever use',\n",
       " 'use string bass like help slide around fretboard easier friend tri acoust guitar hate reason opinion simpl stuff put lot oil whatev would think unintend consequ oil make hard earn callous soft play guitar lead bleed finger pretti fast friend appli simpli hold handl press run along string one string time highli suggest use one slide string first may not look like anyth get string give minut start see excess oil appear start pool string fretboard ok need wipe away excess tell accident get much excess oil may not come easili least mine left littl pool oil fret use one swipe thought littl natur product also make finger oili feel friend hate part agre soft callous callous good product idea like theori thick bass string sever problem w soft fingertip awar possibl problem say may not like els feel finger good product idea could caus problem peopl',\n",
       " 'alreadi post fast fret love stuff mandatori inclus everi one guitar case best',\n",
       " ...]"
      ]
     },
     "execution_count": 18,
     "metadata": {},
     "output_type": "execute_result"
    }
   ],
   "source": [
    "corpus"
   ]
  },
  {
   "cell_type": "markdown",
   "id": "5e9df4bc",
   "metadata": {},
   "source": [
    "##### Using CountVectorizer we only count the number of times a word appears in the document which results in biasing in favour of most frequent words. this ends up in ignoring rare words which could have helped in processing our data more efficiently.  Using TfidfVectorizer to consider the overall document weightage of a word. It helps us in dealing with most frequent words. Using it we can penalize them. TfidfVectorizer weights the word counts by a measure of how often they appear in the documents."
   ]
  },
  {
   "cell_type": "code",
   "execution_count": 19,
   "id": "f17ea838",
   "metadata": {},
   "outputs": [],
   "source": [
    "from sklearn.feature_extraction.text import TfidfVectorizer"
   ]
  },
  {
   "cell_type": "markdown",
   "id": "3aa29aed",
   "metadata": {},
   "source": [
    "#### Reducing the max_features to 5000 to remove unnecessary words which will not be useful for the NLP process"
   ]
  },
  {
   "cell_type": "code",
   "execution_count": 20,
   "id": "167b6d6d",
   "metadata": {},
   "outputs": [],
   "source": [
    "tfidfv = TfidfVectorizer(max_features=5000)\n",
    "\n",
    "X = tfidfv.fit_transform(corpus).toarray()\n",
    "y = dataset.iloc[:, -1].values"
   ]
  },
  {
   "cell_type": "code",
   "execution_count": 21,
   "id": "28c806d8",
   "metadata": {},
   "outputs": [
    {
     "data": {
      "text/plain": [
       "array([[0., 0., 0., ..., 0., 0., 0.],\n",
       "       [0., 0., 0., ..., 0., 0., 0.],\n",
       "       [0., 0., 0., ..., 0., 0., 0.],\n",
       "       ...,\n",
       "       [0., 0., 0., ..., 0., 0., 0.],\n",
       "       [0., 0., 0., ..., 0., 0., 0.],\n",
       "       [0., 0., 0., ..., 0., 0., 0.]])"
      ]
     },
     "execution_count": 21,
     "metadata": {},
     "output_type": "execute_result"
    }
   ],
   "source": [
    "X"
   ]
  },
  {
   "cell_type": "code",
   "execution_count": 22,
   "id": "274cd7a1",
   "metadata": {},
   "outputs": [
    {
     "data": {
      "text/plain": [
       "array([2, 2, 2, ..., 2, 2, 2])"
      ]
     },
     "execution_count": 22,
     "metadata": {},
     "output_type": "execute_result"
    }
   ],
   "source": [
    "y"
   ]
  },
  {
   "cell_type": "markdown",
   "id": "882cdabd",
   "metadata": {},
   "source": [
    "### Checking the Frequency of occurence of the sentiments"
   ]
  },
  {
   "cell_type": "code",
   "execution_count": 23,
   "id": "df30cd92",
   "metadata": {},
   "outputs": [
    {
     "name": "stdout",
     "output_type": "stream",
     "text": [
      "[[   0  467]\n",
      " [   1  772]\n",
      " [   2 9022]]\n"
     ]
    }
   ],
   "source": [
    "(unique, counts) = np.unique(y, return_counts=True)\n",
    "frequencies = np.asarray((unique, counts)).T\n",
    "\n",
    "print(frequencies)"
   ]
  },
  {
   "cell_type": "code",
   "execution_count": 24,
   "id": "3d742020",
   "metadata": {},
   "outputs": [
    {
     "data": {
      "text/plain": [
       "<AxesSubplot:>"
      ]
     },
     "execution_count": 24,
     "metadata": {},
     "output_type": "execute_result"
    },
    {
     "data": {
      "image/png": "[encoded data removed]",
      "text/plain": [
       "<Figure size 432x288 with 1 Axes>"
      ]
     },
     "metadata": {
      "needs_background": "light"
     },
     "output_type": "display_data"
    }
   ],
   "source": [
    "colors = ['#06b216', '#af0000', '#0b51b7']\n",
    "\n",
    "dataset['Sentiment'].value_counts().plot.bar(color=colors)"
   ]
  },
  {
   "cell_type": "markdown",
   "id": "ada50e24",
   "metadata": {},
   "source": [
    "#### The dataset is highly imbalanced, so resampling it by oversampling the minority data with the help of SMOTE class"
   ]
  },
  {
   "cell_type": "code",
   "execution_count": 25,
   "id": "133d4cfc",
   "metadata": {},
   "outputs": [],
   "source": [
    "from imblearn.over_sampling import SMOTE\n",
    "\n",
    "smote = SMOTE(sampling_strategy='auto', random_state=0)\n",
    "X_res, y_res = smote.fit_resample(X, y)"
   ]
  },
  {
   "cell_type": "code",
   "execution_count": 26,
   "id": "0fab04d4",
   "metadata": {},
   "outputs": [
    {
     "name": "stdout",
     "output_type": "stream",
     "text": [
      "[[   0 9022]\n",
      " [   1 9022]\n",
      " [   2 9022]]\n"
     ]
    }
   ],
   "source": [
    "(unique, counts) = np.unique(y_res, return_counts=True)\n",
    "frequencies = np.asarray((unique, counts)).T\n",
    "\n",
    "print(frequencies)"
   ]
  },
  {
   "cell_type": "markdown",
   "id": "04330ab6",
   "metadata": {},
   "source": [
    "#### Splitting the data into training and testing data, and computing the results"
   ]
  },
  {
   "cell_type": "code",
   "execution_count": 27,
   "id": "551fcfa1",
   "metadata": {},
   "outputs": [],
   "source": [
    "from sklearn.model_selection import train_test_split\n",
    "X_train, X_test, y_train, y_test = train_test_split(X_res, y_res, test_size=0.2, random_state=42)"
   ]
  },
  {
   "cell_type": "code",
   "execution_count": 28,
   "id": "d865fec3",
   "metadata": {},
   "outputs": [],
   "source": [
    "from sklearn.metrics import confusion_matrix, accuracy_score, classification_report"
   ]
  },
  {
   "cell_type": "markdown",
   "id": "122feecf",
   "metadata": {},
   "source": [
    "#### Training using different models(using deault parameters) by creating their obejcts and iterating through their objects"
   ]
  },
  {
   "cell_type": "code",
   "execution_count": 29,
   "id": "326c3831",
   "metadata": {},
   "outputs": [],
   "source": [
    "log_reg = LogisticRegression()\n",
    "d_tree = DecisionTreeClassifier()\n",
    "r_forrest = RandomForestClassifier()\n",
    "knn = KNeighborsClassifier()\n",
    "svm = SVC()\n",
    "naive_bayes = MultinomialNB()\n",
    "xgb = XGBClassifier()\n",
    "\n",
    "model_map = {0:'Logistic Regression', 1:'Decision Tree', 2:'Random Forrest', 3:'KNN', 4:'SVM', 5:\"Naive Bayes'\", 6:'XG Boost'}\n",
    "models = [log_reg, d_tree, r_forrest, knn, svm, naive_bayes, xgb]"
   ]
  },
  {
   "cell_type": "code",
   "execution_count": 30,
   "id": "b488b7f3",
   "metadata": {},
   "outputs": [
    {
     "name": "stderr",
     "output_type": "stream",
     "text": [
      "C:\\Users\\UMANG\\anaconda3\\lib\\site-packages\\sklearn\\linear_model\\_logistic.py:814: ConvergenceWarning: lbfgs failed to converge (status=1):\n",
      "STOP: TOTAL NO. of ITERATIONS REACHED LIMIT.\n",
      "\n",
      "Increase the number of iterations (max_iter) or scale the data as shown in:\n",
      "    https://scikit-learn.org/stable/modules/preprocessing.html\n",
      "Please also refer to the documentation for alternative solver options:\n",
      "    https://scikit-learn.org/stable/modules/linear_model.html#logistic-regression\n",
      "  n_iter_i = _check_optimize_result(\n"
     ]
    },
    {
     "name": "stdout",
     "output_type": "stream",
     "text": [
      "Report of Logistic Regression:\n",
      "Train set accuracy of Logistic Regression: 96.27748 %\n",
      "Test set accuracy of Logistic Regression: 93.79387 %\n",
      "\n",
      "\n",
      "              precision    recall  f1-score   support\n",
      "\n",
      "           0       0.95      0.99      0.97      1764\n",
      "           1       0.90      0.96      0.93      1832\n",
      "           2       0.97      0.86      0.91      1818\n",
      "\n",
      "    accuracy                           0.94      5414\n",
      "   macro avg       0.94      0.94      0.94      5414\n",
      "weighted avg       0.94      0.94      0.94      5414\n",
      "\n",
      "\n",
      "\n",
      "\n",
      "\n",
      "Report of Decision Tree:\n",
      "Train set accuracy of Decision Tree: 100.00000 %\n",
      "Test set accuracy of Decision Tree: 89.71186 %\n",
      "\n",
      "\n",
      "              precision    recall  f1-score   support\n",
      "\n",
      "           0       0.91      0.96      0.94      1764\n",
      "           1       0.87      0.92      0.89      1832\n",
      "           2       0.91      0.82      0.86      1818\n",
      "\n",
      "    accuracy                           0.90      5414\n",
      "   macro avg       0.90      0.90      0.90      5414\n",
      "weighted avg       0.90      0.90      0.90      5414\n",
      "\n",
      "\n",
      "\n",
      "\n",
      "\n",
      "Report of Random Forrest:\n",
      "Train set accuracy of Random Forrest: 100.00000 %\n",
      "Test set accuracy of Random Forrest: 97.39564 %\n",
      "\n",
      "\n",
      "              precision    recall  f1-score   support\n",
      "\n",
      "           0       0.99      0.99      0.99      1764\n",
      "           1       0.96      0.98      0.97      1832\n",
      "           2       0.96      0.96      0.96      1818\n",
      "\n",
      "    accuracy                           0.97      5414\n",
      "   macro avg       0.97      0.97      0.97      5414\n",
      "weighted avg       0.97      0.97      0.97      5414\n",
      "\n",
      "\n",
      "\n",
      "\n",
      "\n",
      "Report of KNN:\n",
      "Train set accuracy of KNN: 70.08129 %\n",
      "Test set accuracy of KNN: 68.11969 %\n",
      "\n",
      "\n",
      "              precision    recall  f1-score   support\n",
      "\n",
      "           0       0.72      1.00      0.84      1764\n",
      "           1       0.64      1.00      0.78      1832\n",
      "           2       1.00      0.05      0.10      1818\n",
      "\n",
      "    accuracy                           0.68      5414\n",
      "   macro avg       0.79      0.68      0.57      5414\n",
      "weighted avg       0.79      0.68      0.57      5414\n",
      "\n",
      "\n",
      "\n",
      "\n",
      "\n",
      "Report of SVM:\n",
      "Train set accuracy of SVM: 99.88454 %\n",
      "Test set accuracy of SVM: 99.18729 %\n",
      "\n",
      "\n",
      "              precision    recall  f1-score   support\n",
      "\n",
      "           0       1.00      1.00      1.00      1764\n",
      "           1       1.00      0.98      0.99      1832\n",
      "           2       0.98      1.00      0.99      1818\n",
      "\n",
      "    accuracy                           0.99      5414\n",
      "   macro avg       0.99      0.99      0.99      5414\n",
      "weighted avg       0.99      0.99      0.99      5414\n",
      "\n",
      "\n",
      "\n",
      "\n",
      "\n",
      "Report of Naive Bayes':\n",
      "Train set accuracy of Naive Bayes': 91.81600 %\n",
      "Test set accuracy of Naive Bayes': 89.69339 %\n",
      "\n",
      "\n",
      "              precision    recall  f1-score   support\n",
      "\n",
      "           0       0.91      0.96      0.94      1764\n",
      "           1       0.84      0.94      0.89      1832\n",
      "           2       0.95      0.78      0.86      1818\n",
      "\n",
      "    accuracy                           0.90      5414\n",
      "   macro avg       0.90      0.90      0.90      5414\n",
      "weighted avg       0.90      0.90      0.90      5414\n",
      "\n",
      "\n",
      "\n",
      "\n",
      "\n"
     ]
    },
    {
     "name": "stderr",
     "output_type": "stream",
     "text": [
      "C:\\Users\\UMANG\\anaconda3\\lib\\site-packages\\xgboost\\sklearn.py:1224: UserWarning: The use of label encoder in XGBClassifier is deprecated and will be removed in a future release. To remove this warning, do the following: 1) Pass option use_label_encoder=False when constructing XGBClassifier object; and 2) Encode your labels (y) as integers starting with 0, i.e. 0, 1, 2, ..., [num_class - 1].\n",
      "  warnings.warn(label_encoder_deprecation_msg, UserWarning)\n"
     ]
    },
    {
     "name": "stdout",
     "output_type": "stream",
     "text": [
      "[15:16:13] WARNING: D:\\bld\\xgboost-split_1643227225381\\work\\src\\learner.cc:1115: Starting in XGBoost 1.3.0, the default evaluation metric used with the objective 'multi:softprob' was changed from 'merror' to 'mlogloss'. Explicitly set eval_metric if you'd like to restore the old behavior.\n",
      "Report of XG Boost:\n",
      "Train set accuracy of XG Boost: 98.86385 %\n",
      "Test set accuracy of XG Boost: 95.95493 %\n",
      "\n",
      "\n",
      "              precision    recall  f1-score   support\n",
      "\n",
      "           0       0.98      0.99      0.98      1764\n",
      "           1       0.95      0.96      0.95      1832\n",
      "           2       0.95      0.94      0.94      1818\n",
      "\n",
      "    accuracy                           0.96      5414\n",
      "   macro avg       0.96      0.96      0.96      5414\n",
      "weighted avg       0.96      0.96      0.96      5414\n",
      "\n",
      "\n",
      "\n",
      "\n",
      "\n"
     ]
    }
   ],
   "source": [
    "for i,model in enumerate(models):\n",
    "    \n",
    "    models[i].fit(X_train, y_train)\n",
    "    y_pred = models[i].predict(X_test)\n",
    "    y_train_pred = models[i].predict(X_train)\n",
    "    \n",
    "    print('Report of {}:' .format(model_map[i]))\n",
    "    print('Train set accuracy of {}: {:.5f} %'.format(model_map[i], accuracy_score(y_train, y_train_pred)*100))\n",
    "    print('Test set accuracy of {}: {:.5f} %'.format(model_map[i], accuracy_score(y_test, y_pred)*100))\n",
    "    print('\\n')\n",
    "    print(classification_report(y_test, y_pred))\n",
    "    print('\\n')\n",
    "    print('\\n')"
   ]
  },
  {
   "cell_type": "markdown",
   "id": "9f21783a",
   "metadata": {},
   "source": [
    "##### 1. Logistic Regression is giving great results.\n",
    "##### 2. Decision Tree was over - trained\n",
    "##### 3. Random Forest gave great results\n",
    "##### 4. KNN – which works well with imbalanced datasets, was performing the worst. (without resampling, KNN was performing much better with                  an accuracy of around 87% on the test set)\n",
    "##### 5. SVC took too much time for training, because of the large dataset and a lot of features.\n",
    "##### 6. MultinomialNB works well with features which assume vector values, therefore implemented MultinomialNB, other classes of naive bayes'                  performed poorly\n",
    "##### 7. XG Boost was one of the best model on this dataset"
   ]
  },
  {
   "cell_type": "markdown",
   "id": "d0e2c090",
   "metadata": {},
   "source": [
    "#### Applying k-fold cross validation for model validation, and to measure in the most relevant way the performance of each model by splitting the training set into a number of train_test folds to obtain the final accuracy as the average of the accuracies obtained on the train_test folds. (In this case, evaluating accuracy by cross-validation)"
   ]
  },
  {
   "cell_type": "code",
   "execution_count": 31,
   "id": "122b48da",
   "metadata": {},
   "outputs": [],
   "source": [
    "from sklearn.model_selection import cross_val_score"
   ]
  },
  {
   "cell_type": "code",
   "execution_count": 33,
   "id": "dc3d0f51",
   "metadata": {},
   "outputs": [
    {
     "name": "stderr",
     "output_type": "stream",
     "text": [
      "C:\\Users\\UMANG\\anaconda3\\lib\\site-packages\\sklearn\\linear_model\\_logistic.py:814: ConvergenceWarning: lbfgs failed to converge (status=1):\n",
      "STOP: TOTAL NO. of ITERATIONS REACHED LIMIT.\n",
      "\n",
      "Increase the number of iterations (max_iter) or scale the data as shown in:\n",
      "    https://scikit-learn.org/stable/modules/preprocessing.html\n",
      "Please also refer to the documentation for alternative solver options:\n",
      "    https://scikit-learn.org/stable/modules/linear_model.html#logistic-regression\n",
      "  n_iter_i = _check_optimize_result(\n",
      "C:\\Users\\UMANG\\anaconda3\\lib\\site-packages\\sklearn\\linear_model\\_logistic.py:814: ConvergenceWarning: lbfgs failed to converge (status=1):\n",
      "STOP: TOTAL NO. of ITERATIONS REACHED LIMIT.\n",
      "\n",
      "Increase the number of iterations (max_iter) or scale the data as shown in:\n",
      "    https://scikit-learn.org/stable/modules/preprocessing.html\n",
      "Please also refer to the documentation for alternative solver options:\n",
      "    https://scikit-learn.org/stable/modules/linear_model.html#logistic-regression\n",
      "  n_iter_i = _check_optimize_result(\n",
      "C:\\Users\\UMANG\\anaconda3\\lib\\site-packages\\sklearn\\linear_model\\_logistic.py:814: ConvergenceWarning: lbfgs failed to converge (status=1):\n",
      "STOP: TOTAL NO. of ITERATIONS REACHED LIMIT.\n",
      "\n",
      "Increase the number of iterations (max_iter) or scale the data as shown in:\n",
      "    https://scikit-learn.org/stable/modules/preprocessing.html\n",
      "Please also refer to the documentation for alternative solver options:\n",
      "    https://scikit-learn.org/stable/modules/linear_model.html#logistic-regression\n",
      "  n_iter_i = _check_optimize_result(\n",
      "C:\\Users\\UMANG\\anaconda3\\lib\\site-packages\\sklearn\\linear_model\\_logistic.py:814: ConvergenceWarning: lbfgs failed to converge (status=1):\n",
      "STOP: TOTAL NO. of ITERATIONS REACHED LIMIT.\n",
      "\n",
      "Increase the number of iterations (max_iter) or scale the data as shown in:\n",
      "    https://scikit-learn.org/stable/modules/preprocessing.html\n",
      "Please also refer to the documentation for alternative solver options:\n",
      "    https://scikit-learn.org/stable/modules/linear_model.html#logistic-regression\n",
      "  n_iter_i = _check_optimize_result(\n",
      "C:\\Users\\UMANG\\anaconda3\\lib\\site-packages\\sklearn\\linear_model\\_logistic.py:814: ConvergenceWarning: lbfgs failed to converge (status=1):\n",
      "STOP: TOTAL NO. of ITERATIONS REACHED LIMIT.\n",
      "\n",
      "Increase the number of iterations (max_iter) or scale the data as shown in:\n",
      "    https://scikit-learn.org/stable/modules/preprocessing.html\n",
      "Please also refer to the documentation for alternative solver options:\n",
      "    https://scikit-learn.org/stable/modules/linear_model.html#logistic-regression\n",
      "  n_iter_i = _check_optimize_result(\n",
      "C:\\Users\\UMANG\\anaconda3\\lib\\site-packages\\sklearn\\linear_model\\_logistic.py:814: ConvergenceWarning: lbfgs failed to converge (status=1):\n",
      "STOP: TOTAL NO. of ITERATIONS REACHED LIMIT.\n",
      "\n",
      "Increase the number of iterations (max_iter) or scale the data as shown in:\n",
      "    https://scikit-learn.org/stable/modules/preprocessing.html\n",
      "Please also refer to the documentation for alternative solver options:\n",
      "    https://scikit-learn.org/stable/modules/linear_model.html#logistic-regression\n",
      "  n_iter_i = _check_optimize_result(\n",
      "C:\\Users\\UMANG\\anaconda3\\lib\\site-packages\\sklearn\\linear_model\\_logistic.py:814: ConvergenceWarning: lbfgs failed to converge (status=1):\n",
      "STOP: TOTAL NO. of ITERATIONS REACHED LIMIT.\n",
      "\n",
      "Increase the number of iterations (max_iter) or scale the data as shown in:\n",
      "    https://scikit-learn.org/stable/modules/preprocessing.html\n",
      "Please also refer to the documentation for alternative solver options:\n",
      "    https://scikit-learn.org/stable/modules/linear_model.html#logistic-regression\n",
      "  n_iter_i = _check_optimize_result(\n",
      "C:\\Users\\UMANG\\anaconda3\\lib\\site-packages\\sklearn\\linear_model\\_logistic.py:814: ConvergenceWarning: lbfgs failed to converge (status=1):\n",
      "STOP: TOTAL NO. of ITERATIONS REACHED LIMIT.\n",
      "\n",
      "Increase the number of iterations (max_iter) or scale the data as shown in:\n",
      "    https://scikit-learn.org/stable/modules/preprocessing.html\n",
      "Please also refer to the documentation for alternative solver options:\n",
      "    https://scikit-learn.org/stable/modules/linear_model.html#logistic-regression\n",
      "  n_iter_i = _check_optimize_result(\n",
      "C:\\Users\\UMANG\\anaconda3\\lib\\site-packages\\sklearn\\linear_model\\_logistic.py:814: ConvergenceWarning: lbfgs failed to converge (status=1):\n",
      "STOP: TOTAL NO. of ITERATIONS REACHED LIMIT.\n",
      "\n",
      "Increase the number of iterations (max_iter) or scale the data as shown in:\n",
      "    https://scikit-learn.org/stable/modules/preprocessing.html\n",
      "Please also refer to the documentation for alternative solver options:\n",
      "    https://scikit-learn.org/stable/modules/linear_model.html#logistic-regression\n",
      "  n_iter_i = _check_optimize_result(\n",
      "C:\\Users\\UMANG\\anaconda3\\lib\\site-packages\\sklearn\\linear_model\\_logistic.py:814: ConvergenceWarning: lbfgs failed to converge (status=1):\n",
      "STOP: TOTAL NO. of ITERATIONS REACHED LIMIT.\n",
      "\n",
      "Increase the number of iterations (max_iter) or scale the data as shown in:\n",
      "    https://scikit-learn.org/stable/modules/preprocessing.html\n",
      "Please also refer to the documentation for alternative solver options:\n",
      "    https://scikit-learn.org/stable/modules/linear_model.html#logistic-regression\n",
      "  n_iter_i = _check_optimize_result(\n"
     ]
    },
    {
     "name": "stdout",
     "output_type": "stream",
     "text": [
      "Accuracy of Logistic Regression: 94.11602 %\n",
      "Standard Deviation of Logistic Regression: 0.22641 %\n",
      "\n",
      "\n",
      "Accuracy of Decision Tree: 88.71695 %\n",
      "Standard Deviation of Decision Tree: 0.90032 %\n",
      "\n",
      "\n",
      "Accuracy of Random Forrest: 97.20115 %\n",
      "Standard Deviation of Random Forrest: 0.48689 %\n",
      "\n",
      "\n",
      "Accuracy of KNN: 68.30776 %\n",
      "Standard Deviation of KNN: 0.24284 %\n",
      "\n",
      "\n",
      "Accuracy of SVM: 99.01624 %\n",
      "Standard Deviation of SVM: 0.24098 %\n",
      "\n",
      "\n",
      "Accuracy of Naive Bayes': 89.65456 %\n",
      "Standard Deviation of Naive Bayes': 0.68470 %\n",
      "\n",
      "\n"
     ]
    },
    {
     "name": "stderr",
     "output_type": "stream",
     "text": [
      "C:\\Users\\UMANG\\anaconda3\\lib\\site-packages\\xgboost\\sklearn.py:1224: UserWarning: The use of label encoder in XGBClassifier is deprecated and will be removed in a future release. To remove this warning, do the following: 1) Pass option use_label_encoder=False when constructing XGBClassifier object; and 2) Encode your labels (y) as integers starting with 0, i.e. 0, 1, 2, ..., [num_class - 1].\n",
      "  warnings.warn(label_encoder_deprecation_msg, UserWarning)\n"
     ]
    },
    {
     "name": "stdout",
     "output_type": "stream",
     "text": [
      "[19:35:18] WARNING: D:\\bld\\xgboost-split_1643227225381\\work\\src\\learner.cc:1115: Starting in XGBoost 1.3.0, the default evaluation metric used with the objective 'multi:softprob' was changed from 'merror' to 'mlogloss'. Explicitly set eval_metric if you'd like to restore the old behavior.\n"
     ]
    },
    {
     "name": "stderr",
     "output_type": "stream",
     "text": [
      "C:\\Users\\UMANG\\anaconda3\\lib\\site-packages\\xgboost\\sklearn.py:1224: UserWarning: The use of label encoder in XGBClassifier is deprecated and will be removed in a future release. To remove this warning, do the following: 1) Pass option use_label_encoder=False when constructing XGBClassifier object; and 2) Encode your labels (y) as integers starting with 0, i.e. 0, 1, 2, ..., [num_class - 1].\n",
      "  warnings.warn(label_encoder_deprecation_msg, UserWarning)\n"
     ]
    },
    {
     "name": "stdout",
     "output_type": "stream",
     "text": [
      "[19:40:09] WARNING: D:\\bld\\xgboost-split_1643227225381\\work\\src\\learner.cc:1115: Starting in XGBoost 1.3.0, the default evaluation metric used with the objective 'multi:softprob' was changed from 'merror' to 'mlogloss'. Explicitly set eval_metric if you'd like to restore the old behavior.\n"
     ]
    },
    {
     "name": "stderr",
     "output_type": "stream",
     "text": [
      "C:\\Users\\UMANG\\anaconda3\\lib\\site-packages\\xgboost\\sklearn.py:1224: UserWarning: The use of label encoder in XGBClassifier is deprecated and will be removed in a future release. To remove this warning, do the following: 1) Pass option use_label_encoder=False when constructing XGBClassifier object; and 2) Encode your labels (y) as integers starting with 0, i.e. 0, 1, 2, ..., [num_class - 1].\n",
      "  warnings.warn(label_encoder_deprecation_msg, UserWarning)\n"
     ]
    },
    {
     "name": "stdout",
     "output_type": "stream",
     "text": [
      "[19:44:58] WARNING: D:\\bld\\xgboost-split_1643227225381\\work\\src\\learner.cc:1115: Starting in XGBoost 1.3.0, the default evaluation metric used with the objective 'multi:softprob' was changed from 'merror' to 'mlogloss'. Explicitly set eval_metric if you'd like to restore the old behavior.\n"
     ]
    },
    {
     "name": "stderr",
     "output_type": "stream",
     "text": [
      "C:\\Users\\UMANG\\anaconda3\\lib\\site-packages\\xgboost\\sklearn.py:1224: UserWarning: The use of label encoder in XGBClassifier is deprecated and will be removed in a future release. To remove this warning, do the following: 1) Pass option use_label_encoder=False when constructing XGBClassifier object; and 2) Encode your labels (y) as integers starting with 0, i.e. 0, 1, 2, ..., [num_class - 1].\n",
      "  warnings.warn(label_encoder_deprecation_msg, UserWarning)\n"
     ]
    },
    {
     "name": "stdout",
     "output_type": "stream",
     "text": [
      "[19:49:46] WARNING: D:\\bld\\xgboost-split_1643227225381\\work\\src\\learner.cc:1115: Starting in XGBoost 1.3.0, the default evaluation metric used with the objective 'multi:softprob' was changed from 'merror' to 'mlogloss'. Explicitly set eval_metric if you'd like to restore the old behavior.\n"
     ]
    },
    {
     "name": "stderr",
     "output_type": "stream",
     "text": [
      "C:\\Users\\UMANG\\anaconda3\\lib\\site-packages\\xgboost\\sklearn.py:1224: UserWarning: The use of label encoder in XGBClassifier is deprecated and will be removed in a future release. To remove this warning, do the following: 1) Pass option use_label_encoder=False when constructing XGBClassifier object; and 2) Encode your labels (y) as integers starting with 0, i.e. 0, 1, 2, ..., [num_class - 1].\n",
      "  warnings.warn(label_encoder_deprecation_msg, UserWarning)\n"
     ]
    },
    {
     "name": "stdout",
     "output_type": "stream",
     "text": [
      "[19:54:34] WARNING: D:\\bld\\xgboost-split_1643227225381\\work\\src\\learner.cc:1115: Starting in XGBoost 1.3.0, the default evaluation metric used with the objective 'multi:softprob' was changed from 'merror' to 'mlogloss'. Explicitly set eval_metric if you'd like to restore the old behavior.\n"
     ]
    },
    {
     "name": "stderr",
     "output_type": "stream",
     "text": [
      "C:\\Users\\UMANG\\anaconda3\\lib\\site-packages\\xgboost\\sklearn.py:1224: UserWarning: The use of label encoder in XGBClassifier is deprecated and will be removed in a future release. To remove this warning, do the following: 1) Pass option use_label_encoder=False when constructing XGBClassifier object; and 2) Encode your labels (y) as integers starting with 0, i.e. 0, 1, 2, ..., [num_class - 1].\n",
      "  warnings.warn(label_encoder_deprecation_msg, UserWarning)\n"
     ]
    },
    {
     "name": "stdout",
     "output_type": "stream",
     "text": [
      "[19:59:14] WARNING: D:\\bld\\xgboost-split_1643227225381\\work\\src\\learner.cc:1115: Starting in XGBoost 1.3.0, the default evaluation metric used with the objective 'multi:softprob' was changed from 'merror' to 'mlogloss'. Explicitly set eval_metric if you'd like to restore the old behavior.\n"
     ]
    },
    {
     "name": "stderr",
     "output_type": "stream",
     "text": [
      "C:\\Users\\UMANG\\anaconda3\\lib\\site-packages\\xgboost\\sklearn.py:1224: UserWarning: The use of label encoder in XGBClassifier is deprecated and will be removed in a future release. To remove this warning, do the following: 1) Pass option use_label_encoder=False when constructing XGBClassifier object; and 2) Encode your labels (y) as integers starting with 0, i.e. 0, 1, 2, ..., [num_class - 1].\n",
      "  warnings.warn(label_encoder_deprecation_msg, UserWarning)\n"
     ]
    },
    {
     "name": "stdout",
     "output_type": "stream",
     "text": [
      "[20:03:53] WARNING: D:\\bld\\xgboost-split_1643227225381\\work\\src\\learner.cc:1115: Starting in XGBoost 1.3.0, the default evaluation metric used with the objective 'multi:softprob' was changed from 'merror' to 'mlogloss'. Explicitly set eval_metric if you'd like to restore the old behavior.\n"
     ]
    },
    {
     "name": "stderr",
     "output_type": "stream",
     "text": [
      "C:\\Users\\UMANG\\anaconda3\\lib\\site-packages\\xgboost\\sklearn.py:1224: UserWarning: The use of label encoder in XGBClassifier is deprecated and will be removed in a future release. To remove this warning, do the following: 1) Pass option use_label_encoder=False when constructing XGBClassifier object; and 2) Encode your labels (y) as integers starting with 0, i.e. 0, 1, 2, ..., [num_class - 1].\n",
      "  warnings.warn(label_encoder_deprecation_msg, UserWarning)\n"
     ]
    },
    {
     "name": "stdout",
     "output_type": "stream",
     "text": [
      "[20:08:54] WARNING: D:\\bld\\xgboost-split_1643227225381\\work\\src\\learner.cc:1115: Starting in XGBoost 1.3.0, the default evaluation metric used with the objective 'multi:softprob' was changed from 'merror' to 'mlogloss'. Explicitly set eval_metric if you'd like to restore the old behavior.\n"
     ]
    },
    {
     "name": "stderr",
     "output_type": "stream",
     "text": [
      "C:\\Users\\UMANG\\anaconda3\\lib\\site-packages\\xgboost\\sklearn.py:1224: UserWarning: The use of label encoder in XGBClassifier is deprecated and will be removed in a future release. To remove this warning, do the following: 1) Pass option use_label_encoder=False when constructing XGBClassifier object; and 2) Encode your labels (y) as integers starting with 0, i.e. 0, 1, 2, ..., [num_class - 1].\n",
      "  warnings.warn(label_encoder_deprecation_msg, UserWarning)\n"
     ]
    },
    {
     "name": "stdout",
     "output_type": "stream",
     "text": [
      "[20:14:11] WARNING: D:\\bld\\xgboost-split_1643227225381\\work\\src\\learner.cc:1115: Starting in XGBoost 1.3.0, the default evaluation metric used with the objective 'multi:softprob' was changed from 'merror' to 'mlogloss'. Explicitly set eval_metric if you'd like to restore the old behavior.\n"
     ]
    },
    {
     "name": "stderr",
     "output_type": "stream",
     "text": [
      "C:\\Users\\UMANG\\anaconda3\\lib\\site-packages\\xgboost\\sklearn.py:1224: UserWarning: The use of label encoder in XGBClassifier is deprecated and will be removed in a future release. To remove this warning, do the following: 1) Pass option use_label_encoder=False when constructing XGBClassifier object; and 2) Encode your labels (y) as integers starting with 0, i.e. 0, 1, 2, ..., [num_class - 1].\n",
      "  warnings.warn(label_encoder_deprecation_msg, UserWarning)\n"
     ]
    },
    {
     "name": "stdout",
     "output_type": "stream",
     "text": [
      "[20:19:48] WARNING: D:\\bld\\xgboost-split_1643227225381\\work\\src\\learner.cc:1115: Starting in XGBoost 1.3.0, the default evaluation metric used with the objective 'multi:softprob' was changed from 'merror' to 'mlogloss'. Explicitly set eval_metric if you'd like to restore the old behavior.\n",
      "Accuracy of XG Boost: 96.09270 %\n",
      "Standard Deviation of XG Boost: 0.35529 %\n",
      "\n",
      "\n"
     ]
    }
   ],
   "source": [
    "for i,model in enumerate(models):\n",
    "    \n",
    "    accuracies = cross_val_score(estimator=models[i], X=X_train, y=y_train, cv=10)\n",
    "    \n",
    "    print(\"Accuracy of {}: {:.5f} %\".format(model_map[i], accuracies.mean()*100))\n",
    "    print(\"Standard Deviation of {}: {:.5f} %\".format(model_map[i], accuracies.std()*100))\n",
    "    print('\\n')"
   ]
  },
  {
   "cell_type": "markdown",
   "id": "806c4c89",
   "metadata": {},
   "source": [
    "### Function for plotting confusion matrix"
   ]
  },
  {
   "cell_type": "code",
   "execution_count": 34,
   "id": "b23178fb",
   "metadata": {},
   "outputs": [],
   "source": [
    "def plot_cm(y_test, y_pred, figsize=(6,5)):\n",
    "    \n",
    "    cm = confusion_matrix(y_test, y_pred, labels=np.unique(y_test))\n",
    "    \n",
    "    cm_sum = np.sum(cm, axis=1, keepdims=True)\n",
    "    cm_perc = cm / cm_sum.astype(float) * 100\n",
    "    annot = np.empty_like(cm).astype(str)\n",
    "    nrows, ncols = cm.shape\n",
    "    \n",
    "    for i in range(nrows):\n",
    "        for j in range(ncols):\n",
    "            \n",
    "            c = cm[i, j]\n",
    "            p = cm_perc[i, j]\n",
    "            if i == j:\n",
    "                s = cm_sum[i]\n",
    "                annot[i, j] = '%.1f%%\\n%d/%d' % (p, c, s)\n",
    "            elif c == 0:\n",
    "                annot[i, j] = ''\n",
    "            else:\n",
    "                annot[i, j] = '%.1f%%\\n%d' % (p, c)\n",
    "                \n",
    "    cm = pd.DataFrame(cm, index=np.unique(y_test), columns=np.unique(y_test))\n",
    "    cm.index.name = 'Actual Values'\n",
    "    cm.columns.name = 'Predicted Values'\n",
    "    fig, ax = plt.subplots(figsize=figsize)\n",
    "    sns.heatmap(cm, cmap= \"Blues\", annot=annot, fmt='', ax=ax)\n",
    "    ax.xaxis.set_ticklabels(['Negative', 'Neutral', 'Positive'])\n",
    "    ax.yaxis.set_ticklabels(['Negative', 'Neutral', 'Positive'])\n",
    "    "
   ]
  },
  {
   "cell_type": "markdown",
   "id": "1706cfbe",
   "metadata": {},
   "source": [
    "#### Hyperparameter tuning(using GridSearchCV class) for finding the best version of the models, and to improve the accuracy further"
   ]
  },
  {
   "cell_type": "code",
   "execution_count": 35,
   "id": "b04799ef",
   "metadata": {},
   "outputs": [],
   "source": [
    "from sklearn.model_selection import GridSearchCV"
   ]
  },
  {
   "cell_type": "markdown",
   "id": "474e038b",
   "metadata": {},
   "source": [
    "##### For Logistic Regression"
   ]
  },
  {
   "cell_type": "code",
   "execution_count": 36,
   "id": "1c6bcc0a",
   "metadata": {},
   "outputs": [
    {
     "name": "stderr",
     "output_type": "stream",
     "text": [
      "C:\\Users\\UMANG\\anaconda3\\lib\\site-packages\\sklearn\\linear_model\\_logistic.py:814: ConvergenceWarning: lbfgs failed to converge (status=1):\n",
      "STOP: TOTAL NO. of ITERATIONS REACHED LIMIT.\n",
      "\n",
      "Increase the number of iterations (max_iter) or scale the data as shown in:\n",
      "    https://scikit-learn.org/stable/modules/preprocessing.html\n",
      "Please also refer to the documentation for alternative solver options:\n",
      "    https://scikit-learn.org/stable/modules/linear_model.html#logistic-regression\n",
      "  n_iter_i = _check_optimize_result(\n",
      "C:\\Users\\UMANG\\anaconda3\\lib\\site-packages\\sklearn\\linear_model\\_logistic.py:814: ConvergenceWarning: lbfgs failed to converge (status=1):\n",
      "STOP: TOTAL NO. of ITERATIONS REACHED LIMIT.\n",
      "\n",
      "Increase the number of iterations (max_iter) or scale the data as shown in:\n",
      "    https://scikit-learn.org/stable/modules/preprocessing.html\n",
      "Please also refer to the documentation for alternative solver options:\n",
      "    https://scikit-learn.org/stable/modules/linear_model.html#logistic-regression\n",
      "  n_iter_i = _check_optimize_result(\n",
      "C:\\Users\\UMANG\\anaconda3\\lib\\site-packages\\sklearn\\linear_model\\_logistic.py:814: ConvergenceWarning: lbfgs failed to converge (status=1):\n",
      "STOP: TOTAL NO. of ITERATIONS REACHED LIMIT.\n",
      "\n",
      "Increase the number of iterations (max_iter) or scale the data as shown in:\n",
      "    https://scikit-learn.org/stable/modules/preprocessing.html\n",
      "Please also refer to the documentation for alternative solver options:\n",
      "    https://scikit-learn.org/stable/modules/linear_model.html#logistic-regression\n",
      "  n_iter_i = _check_optimize_result(\n",
      "C:\\Users\\UMANG\\anaconda3\\lib\\site-packages\\sklearn\\linear_model\\_logistic.py:814: ConvergenceWarning: lbfgs failed to converge (status=1):\n",
      "STOP: TOTAL NO. of ITERATIONS REACHED LIMIT.\n",
      "\n",
      "Increase the number of iterations (max_iter) or scale the data as shown in:\n",
      "    https://scikit-learn.org/stable/modules/preprocessing.html\n",
      "Please also refer to the documentation for alternative solver options:\n",
      "    https://scikit-learn.org/stable/modules/linear_model.html#logistic-regression\n",
      "  n_iter_i = _check_optimize_result(\n",
      "C:\\Users\\UMANG\\anaconda3\\lib\\site-packages\\sklearn\\linear_model\\_logistic.py:814: ConvergenceWarning: lbfgs failed to converge (status=1):\n",
      "STOP: TOTAL NO. of ITERATIONS REACHED LIMIT.\n",
      "\n",
      "Increase the number of iterations (max_iter) or scale the data as shown in:\n",
      "    https://scikit-learn.org/stable/modules/preprocessing.html\n",
      "Please also refer to the documentation for alternative solver options:\n",
      "    https://scikit-learn.org/stable/modules/linear_model.html#logistic-regression\n",
      "  n_iter_i = _check_optimize_result(\n",
      "C:\\Users\\UMANG\\anaconda3\\lib\\site-packages\\sklearn\\linear_model\\_logistic.py:814: ConvergenceWarning: lbfgs failed to converge (status=1):\n",
      "STOP: TOTAL NO. of ITERATIONS REACHED LIMIT.\n",
      "\n",
      "Increase the number of iterations (max_iter) or scale the data as shown in:\n",
      "    https://scikit-learn.org/stable/modules/preprocessing.html\n",
      "Please also refer to the documentation for alternative solver options:\n",
      "    https://scikit-learn.org/stable/modules/linear_model.html#logistic-regression\n",
      "  n_iter_i = _check_optimize_result(\n",
      "C:\\Users\\UMANG\\anaconda3\\lib\\site-packages\\sklearn\\linear_model\\_logistic.py:814: ConvergenceWarning: lbfgs failed to converge (status=1):\n",
      "STOP: TOTAL NO. of ITERATIONS REACHED LIMIT.\n",
      "\n",
      "Increase the number of iterations (max_iter) or scale the data as shown in:\n",
      "    https://scikit-learn.org/stable/modules/preprocessing.html\n",
      "Please also refer to the documentation for alternative solver options:\n",
      "    https://scikit-learn.org/stable/modules/linear_model.html#logistic-regression\n",
      "  n_iter_i = _check_optimize_result(\n",
      "C:\\Users\\UMANG\\anaconda3\\lib\\site-packages\\sklearn\\linear_model\\_logistic.py:814: ConvergenceWarning: lbfgs failed to converge (status=1):\n",
      "STOP: TOTAL NO. of ITERATIONS REACHED LIMIT.\n",
      "\n",
      "Increase the number of iterations (max_iter) or scale the data as shown in:\n",
      "    https://scikit-learn.org/stable/modules/preprocessing.html\n",
      "Please also refer to the documentation for alternative solver options:\n",
      "    https://scikit-learn.org/stable/modules/linear_model.html#logistic-regression\n",
      "  n_iter_i = _check_optimize_result(\n",
      "C:\\Users\\UMANG\\anaconda3\\lib\\site-packages\\sklearn\\linear_model\\_logistic.py:814: ConvergenceWarning: lbfgs failed to converge (status=1):\n",
      "STOP: TOTAL NO. of ITERATIONS REACHED LIMIT.\n",
      "\n",
      "Increase the number of iterations (max_iter) or scale the data as shown in:\n",
      "    https://scikit-learn.org/stable/modules/preprocessing.html\n",
      "Please also refer to the documentation for alternative solver options:\n",
      "    https://scikit-learn.org/stable/modules/linear_model.html#logistic-regression\n",
      "  n_iter_i = _check_optimize_result(\n",
      "C:\\Users\\UMANG\\anaconda3\\lib\\site-packages\\sklearn\\linear_model\\_logistic.py:814: ConvergenceWarning: lbfgs failed to converge (status=1):\n",
      "STOP: TOTAL NO. of ITERATIONS REACHED LIMIT.\n",
      "\n",
      "Increase the number of iterations (max_iter) or scale the data as shown in:\n",
      "    https://scikit-learn.org/stable/modules/preprocessing.html\n",
      "Please also refer to the documentation for alternative solver options:\n",
      "    https://scikit-learn.org/stable/modules/linear_model.html#logistic-regression\n",
      "  n_iter_i = _check_optimize_result(\n",
      "C:\\Users\\UMANG\\anaconda3\\lib\\site-packages\\sklearn\\linear_model\\_logistic.py:814: ConvergenceWarning: lbfgs failed to converge (status=1):\n",
      "STOP: TOTAL NO. of ITERATIONS REACHED LIMIT.\n",
      "\n",
      "Increase the number of iterations (max_iter) or scale the data as shown in:\n",
      "    https://scikit-learn.org/stable/modules/preprocessing.html\n",
      "Please also refer to the documentation for alternative solver options:\n",
      "    https://scikit-learn.org/stable/modules/linear_model.html#logistic-regression\n",
      "  n_iter_i = _check_optimize_result(\n",
      "C:\\Users\\UMANG\\anaconda3\\lib\\site-packages\\sklearn\\linear_model\\_logistic.py:814: ConvergenceWarning: lbfgs failed to converge (status=1):\n",
      "STOP: TOTAL NO. of ITERATIONS REACHED LIMIT.\n",
      "\n",
      "Increase the number of iterations (max_iter) or scale the data as shown in:\n",
      "    https://scikit-learn.org/stable/modules/preprocessing.html\n",
      "Please also refer to the documentation for alternative solver options:\n",
      "    https://scikit-learn.org/stable/modules/linear_model.html#logistic-regression\n",
      "  n_iter_i = _check_optimize_result(\n",
      "C:\\Users\\UMANG\\anaconda3\\lib\\site-packages\\sklearn\\linear_model\\_logistic.py:814: ConvergenceWarning: lbfgs failed to converge (status=1):\n",
      "STOP: TOTAL NO. of ITERATIONS REACHED LIMIT.\n",
      "\n",
      "Increase the number of iterations (max_iter) or scale the data as shown in:\n",
      "    https://scikit-learn.org/stable/modules/preprocessing.html\n",
      "Please also refer to the documentation for alternative solver options:\n",
      "    https://scikit-learn.org/stable/modules/linear_model.html#logistic-regression\n",
      "  n_iter_i = _check_optimize_result(\n",
      "C:\\Users\\UMANG\\anaconda3\\lib\\site-packages\\sklearn\\linear_model\\_logistic.py:814: ConvergenceWarning: lbfgs failed to converge (status=1):\n",
      "STOP: TOTAL NO. of ITERATIONS REACHED LIMIT.\n",
      "\n",
      "Increase the number of iterations (max_iter) or scale the data as shown in:\n",
      "    https://scikit-learn.org/stable/modules/preprocessing.html\n",
      "Please also refer to the documentation for alternative solver options:\n",
      "    https://scikit-learn.org/stable/modules/linear_model.html#logistic-regression\n",
      "  n_iter_i = _check_optimize_result(\n",
      "C:\\Users\\UMANG\\anaconda3\\lib\\site-packages\\sklearn\\linear_model\\_logistic.py:814: ConvergenceWarning: lbfgs failed to converge (status=1):\n",
      "STOP: TOTAL NO. of ITERATIONS REACHED LIMIT.\n",
      "\n",
      "Increase the number of iterations (max_iter) or scale the data as shown in:\n",
      "    https://scikit-learn.org/stable/modules/preprocessing.html\n",
      "Please also refer to the documentation for alternative solver options:\n",
      "    https://scikit-learn.org/stable/modules/linear_model.html#logistic-regression\n",
      "  n_iter_i = _check_optimize_result(\n",
      "C:\\Users\\UMANG\\anaconda3\\lib\\site-packages\\sklearn\\linear_model\\_logistic.py:814: ConvergenceWarning: lbfgs failed to converge (status=1):\n",
      "STOP: TOTAL NO. of ITERATIONS REACHED LIMIT.\n",
      "\n",
      "Increase the number of iterations (max_iter) or scale the data as shown in:\n",
      "    https://scikit-learn.org/stable/modules/preprocessing.html\n",
      "Please also refer to the documentation for alternative solver options:\n",
      "    https://scikit-learn.org/stable/modules/linear_model.html#logistic-regression\n",
      "  n_iter_i = _check_optimize_result(\n"
     ]
    },
    {
     "name": "stderr",
     "output_type": "stream",
     "text": [
      "C:\\Users\\UMANG\\anaconda3\\lib\\site-packages\\sklearn\\linear_model\\_logistic.py:814: ConvergenceWarning: lbfgs failed to converge (status=1):\n",
      "STOP: TOTAL NO. of ITERATIONS REACHED LIMIT.\n",
      "\n",
      "Increase the number of iterations (max_iter) or scale the data as shown in:\n",
      "    https://scikit-learn.org/stable/modules/preprocessing.html\n",
      "Please also refer to the documentation for alternative solver options:\n",
      "    https://scikit-learn.org/stable/modules/linear_model.html#logistic-regression\n",
      "  n_iter_i = _check_optimize_result(\n",
      "C:\\Users\\UMANG\\anaconda3\\lib\\site-packages\\sklearn\\linear_model\\_logistic.py:814: ConvergenceWarning: lbfgs failed to converge (status=1):\n",
      "STOP: TOTAL NO. of ITERATIONS REACHED LIMIT.\n",
      "\n",
      "Increase the number of iterations (max_iter) or scale the data as shown in:\n",
      "    https://scikit-learn.org/stable/modules/preprocessing.html\n",
      "Please also refer to the documentation for alternative solver options:\n",
      "    https://scikit-learn.org/stable/modules/linear_model.html#logistic-regression\n",
      "  n_iter_i = _check_optimize_result(\n",
      "C:\\Users\\UMANG\\anaconda3\\lib\\site-packages\\sklearn\\linear_model\\_logistic.py:814: ConvergenceWarning: lbfgs failed to converge (status=1):\n",
      "STOP: TOTAL NO. of ITERATIONS REACHED LIMIT.\n",
      "\n",
      "Increase the number of iterations (max_iter) or scale the data as shown in:\n",
      "    https://scikit-learn.org/stable/modules/preprocessing.html\n",
      "Please also refer to the documentation for alternative solver options:\n",
      "    https://scikit-learn.org/stable/modules/linear_model.html#logistic-regression\n",
      "  n_iter_i = _check_optimize_result(\n",
      "C:\\Users\\UMANG\\anaconda3\\lib\\site-packages\\sklearn\\linear_model\\_logistic.py:814: ConvergenceWarning: lbfgs failed to converge (status=1):\n",
      "STOP: TOTAL NO. of ITERATIONS REACHED LIMIT.\n",
      "\n",
      "Increase the number of iterations (max_iter) or scale the data as shown in:\n",
      "    https://scikit-learn.org/stable/modules/preprocessing.html\n",
      "Please also refer to the documentation for alternative solver options:\n",
      "    https://scikit-learn.org/stable/modules/linear_model.html#logistic-regression\n",
      "  n_iter_i = _check_optimize_result(\n",
      "C:\\Users\\UMANG\\anaconda3\\lib\\site-packages\\sklearn\\linear_model\\_logistic.py:814: ConvergenceWarning: lbfgs failed to converge (status=1):\n",
      "STOP: TOTAL NO. of ITERATIONS REACHED LIMIT.\n",
      "\n",
      "Increase the number of iterations (max_iter) or scale the data as shown in:\n",
      "    https://scikit-learn.org/stable/modules/preprocessing.html\n",
      "Please also refer to the documentation for alternative solver options:\n",
      "    https://scikit-learn.org/stable/modules/linear_model.html#logistic-regression\n",
      "  n_iter_i = _check_optimize_result(\n",
      "C:\\Users\\UMANG\\anaconda3\\lib\\site-packages\\sklearn\\linear_model\\_logistic.py:814: ConvergenceWarning: lbfgs failed to converge (status=1):\n",
      "STOP: TOTAL NO. of ITERATIONS REACHED LIMIT.\n",
      "\n",
      "Increase the number of iterations (max_iter) or scale the data as shown in:\n",
      "    https://scikit-learn.org/stable/modules/preprocessing.html\n",
      "Please also refer to the documentation for alternative solver options:\n",
      "    https://scikit-learn.org/stable/modules/linear_model.html#logistic-regression\n",
      "  n_iter_i = _check_optimize_result(\n",
      "C:\\Users\\UMANG\\anaconda3\\lib\\site-packages\\sklearn\\linear_model\\_logistic.py:814: ConvergenceWarning: lbfgs failed to converge (status=1):\n",
      "STOP: TOTAL NO. of ITERATIONS REACHED LIMIT.\n",
      "\n",
      "Increase the number of iterations (max_iter) or scale the data as shown in:\n",
      "    https://scikit-learn.org/stable/modules/preprocessing.html\n",
      "Please also refer to the documentation for alternative solver options:\n",
      "    https://scikit-learn.org/stable/modules/linear_model.html#logistic-regression\n",
      "  n_iter_i = _check_optimize_result(\n",
      "C:\\Users\\UMANG\\anaconda3\\lib\\site-packages\\sklearn\\linear_model\\_logistic.py:814: ConvergenceWarning: lbfgs failed to converge (status=1):\n",
      "STOP: TOTAL NO. of ITERATIONS REACHED LIMIT.\n",
      "\n",
      "Increase the number of iterations (max_iter) or scale the data as shown in:\n",
      "    https://scikit-learn.org/stable/modules/preprocessing.html\n",
      "Please also refer to the documentation for alternative solver options:\n",
      "    https://scikit-learn.org/stable/modules/linear_model.html#logistic-regression\n",
      "  n_iter_i = _check_optimize_result(\n",
      "C:\\Users\\UMANG\\anaconda3\\lib\\site-packages\\sklearn\\linear_model\\_logistic.py:814: ConvergenceWarning: lbfgs failed to converge (status=1):\n",
      "STOP: TOTAL NO. of ITERATIONS REACHED LIMIT.\n",
      "\n",
      "Increase the number of iterations (max_iter) or scale the data as shown in:\n",
      "    https://scikit-learn.org/stable/modules/preprocessing.html\n",
      "Please also refer to the documentation for alternative solver options:\n",
      "    https://scikit-learn.org/stable/modules/linear_model.html#logistic-regression\n",
      "  n_iter_i = _check_optimize_result(\n",
      "C:\\Users\\UMANG\\anaconda3\\lib\\site-packages\\sklearn\\linear_model\\_logistic.py:814: ConvergenceWarning: lbfgs failed to converge (status=1):\n",
      "STOP: TOTAL NO. of ITERATIONS REACHED LIMIT.\n",
      "\n",
      "Increase the number of iterations (max_iter) or scale the data as shown in:\n",
      "    https://scikit-learn.org/stable/modules/preprocessing.html\n",
      "Please also refer to the documentation for alternative solver options:\n",
      "    https://scikit-learn.org/stable/modules/linear_model.html#logistic-regression\n",
      "  n_iter_i = _check_optimize_result(\n",
      "C:\\Users\\UMANG\\anaconda3\\lib\\site-packages\\sklearn\\linear_model\\_logistic.py:814: ConvergenceWarning: lbfgs failed to converge (status=1):\n",
      "STOP: TOTAL NO. of ITERATIONS REACHED LIMIT.\n",
      "\n",
      "Increase the number of iterations (max_iter) or scale the data as shown in:\n",
      "    https://scikit-learn.org/stable/modules/preprocessing.html\n",
      "Please also refer to the documentation for alternative solver options:\n",
      "    https://scikit-learn.org/stable/modules/linear_model.html#logistic-regression\n",
      "  n_iter_i = _check_optimize_result(\n",
      "C:\\Users\\UMANG\\anaconda3\\lib\\site-packages\\sklearn\\linear_model\\_logistic.py:814: ConvergenceWarning: lbfgs failed to converge (status=1):\n",
      "STOP: TOTAL NO. of ITERATIONS REACHED LIMIT.\n",
      "\n",
      "Increase the number of iterations (max_iter) or scale the data as shown in:\n",
      "    https://scikit-learn.org/stable/modules/preprocessing.html\n",
      "Please also refer to the documentation for alternative solver options:\n",
      "    https://scikit-learn.org/stable/modules/linear_model.html#logistic-regression\n",
      "  n_iter_i = _check_optimize_result(\n",
      "C:\\Users\\UMANG\\anaconda3\\lib\\site-packages\\sklearn\\linear_model\\_logistic.py:814: ConvergenceWarning: lbfgs failed to converge (status=1):\n",
      "STOP: TOTAL NO. of ITERATIONS REACHED LIMIT.\n",
      "\n",
      "Increase the number of iterations (max_iter) or scale the data as shown in:\n",
      "    https://scikit-learn.org/stable/modules/preprocessing.html\n",
      "Please also refer to the documentation for alternative solver options:\n",
      "    https://scikit-learn.org/stable/modules/linear_model.html#logistic-regression\n",
      "  n_iter_i = _check_optimize_result(\n",
      "C:\\Users\\UMANG\\anaconda3\\lib\\site-packages\\sklearn\\linear_model\\_logistic.py:814: ConvergenceWarning: lbfgs failed to converge (status=1):\n",
      "STOP: TOTAL NO. of ITERATIONS REACHED LIMIT.\n",
      "\n",
      "Increase the number of iterations (max_iter) or scale the data as shown in:\n",
      "    https://scikit-learn.org/stable/modules/preprocessing.html\n",
      "Please also refer to the documentation for alternative solver options:\n",
      "    https://scikit-learn.org/stable/modules/linear_model.html#logistic-regression\n",
      "  n_iter_i = _check_optimize_result(\n",
      "C:\\Users\\UMANG\\anaconda3\\lib\\site-packages\\sklearn\\linear_model\\_logistic.py:814: ConvergenceWarning: lbfgs failed to converge (status=1):\n",
      "STOP: TOTAL NO. of ITERATIONS REACHED LIMIT.\n",
      "\n",
      "Increase the number of iterations (max_iter) or scale the data as shown in:\n",
      "    https://scikit-learn.org/stable/modules/preprocessing.html\n",
      "Please also refer to the documentation for alternative solver options:\n",
      "    https://scikit-learn.org/stable/modules/linear_model.html#logistic-regression\n",
      "  n_iter_i = _check_optimize_result(\n",
      "C:\\Users\\UMANG\\anaconda3\\lib\\site-packages\\sklearn\\linear_model\\_logistic.py:814: ConvergenceWarning: lbfgs failed to converge (status=1):\n",
      "STOP: TOTAL NO. of ITERATIONS REACHED LIMIT.\n",
      "\n",
      "Increase the number of iterations (max_iter) or scale the data as shown in:\n",
      "    https://scikit-learn.org/stable/modules/preprocessing.html\n",
      "Please also refer to the documentation for alternative solver options:\n",
      "    https://scikit-learn.org/stable/modules/linear_model.html#logistic-regression\n",
      "  n_iter_i = _check_optimize_result(\n"
     ]
    },
    {
     "name": "stderr",
     "output_type": "stream",
     "text": [
      "C:\\Users\\UMANG\\anaconda3\\lib\\site-packages\\sklearn\\linear_model\\_logistic.py:814: ConvergenceWarning: lbfgs failed to converge (status=1):\n",
      "STOP: TOTAL NO. of ITERATIONS REACHED LIMIT.\n",
      "\n",
      "Increase the number of iterations (max_iter) or scale the data as shown in:\n",
      "    https://scikit-learn.org/stable/modules/preprocessing.html\n",
      "Please also refer to the documentation for alternative solver options:\n",
      "    https://scikit-learn.org/stable/modules/linear_model.html#logistic-regression\n",
      "  n_iter_i = _check_optimize_result(\n",
      "C:\\Users\\UMANG\\anaconda3\\lib\\site-packages\\sklearn\\linear_model\\_logistic.py:814: ConvergenceWarning: lbfgs failed to converge (status=1):\n",
      "STOP: TOTAL NO. of ITERATIONS REACHED LIMIT.\n",
      "\n",
      "Increase the number of iterations (max_iter) or scale the data as shown in:\n",
      "    https://scikit-learn.org/stable/modules/preprocessing.html\n",
      "Please also refer to the documentation for alternative solver options:\n",
      "    https://scikit-learn.org/stable/modules/linear_model.html#logistic-regression\n",
      "  n_iter_i = _check_optimize_result(\n",
      "C:\\Users\\UMANG\\anaconda3\\lib\\site-packages\\sklearn\\linear_model\\_logistic.py:814: ConvergenceWarning: lbfgs failed to converge (status=1):\n",
      "STOP: TOTAL NO. of ITERATIONS REACHED LIMIT.\n",
      "\n",
      "Increase the number of iterations (max_iter) or scale the data as shown in:\n",
      "    https://scikit-learn.org/stable/modules/preprocessing.html\n",
      "Please also refer to the documentation for alternative solver options:\n",
      "    https://scikit-learn.org/stable/modules/linear_model.html#logistic-regression\n",
      "  n_iter_i = _check_optimize_result(\n",
      "C:\\Users\\UMANG\\anaconda3\\lib\\site-packages\\sklearn\\linear_model\\_logistic.py:814: ConvergenceWarning: lbfgs failed to converge (status=1):\n",
      "STOP: TOTAL NO. of ITERATIONS REACHED LIMIT.\n",
      "\n",
      "Increase the number of iterations (max_iter) or scale the data as shown in:\n",
      "    https://scikit-learn.org/stable/modules/preprocessing.html\n",
      "Please also refer to the documentation for alternative solver options:\n",
      "    https://scikit-learn.org/stable/modules/linear_model.html#logistic-regression\n",
      "  n_iter_i = _check_optimize_result(\n",
      "C:\\Users\\UMANG\\anaconda3\\lib\\site-packages\\sklearn\\linear_model\\_logistic.py:814: ConvergenceWarning: lbfgs failed to converge (status=1):\n",
      "STOP: TOTAL NO. of ITERATIONS REACHED LIMIT.\n",
      "\n",
      "Increase the number of iterations (max_iter) or scale the data as shown in:\n",
      "    https://scikit-learn.org/stable/modules/preprocessing.html\n",
      "Please also refer to the documentation for alternative solver options:\n",
      "    https://scikit-learn.org/stable/modules/linear_model.html#logistic-regression\n",
      "  n_iter_i = _check_optimize_result(\n",
      "C:\\Users\\UMANG\\anaconda3\\lib\\site-packages\\sklearn\\linear_model\\_logistic.py:814: ConvergenceWarning: lbfgs failed to converge (status=1):\n",
      "STOP: TOTAL NO. of ITERATIONS REACHED LIMIT.\n",
      "\n",
      "Increase the number of iterations (max_iter) or scale the data as shown in:\n",
      "    https://scikit-learn.org/stable/modules/preprocessing.html\n",
      "Please also refer to the documentation for alternative solver options:\n",
      "    https://scikit-learn.org/stable/modules/linear_model.html#logistic-regression\n",
      "  n_iter_i = _check_optimize_result(\n",
      "C:\\Users\\UMANG\\anaconda3\\lib\\site-packages\\sklearn\\linear_model\\_logistic.py:814: ConvergenceWarning: lbfgs failed to converge (status=1):\n",
      "STOP: TOTAL NO. of ITERATIONS REACHED LIMIT.\n",
      "\n",
      "Increase the number of iterations (max_iter) or scale the data as shown in:\n",
      "    https://scikit-learn.org/stable/modules/preprocessing.html\n",
      "Please also refer to the documentation for alternative solver options:\n",
      "    https://scikit-learn.org/stable/modules/linear_model.html#logistic-regression\n",
      "  n_iter_i = _check_optimize_result(\n",
      "C:\\Users\\UMANG\\anaconda3\\lib\\site-packages\\sklearn\\linear_model\\_logistic.py:814: ConvergenceWarning: lbfgs failed to converge (status=1):\n",
      "STOP: TOTAL NO. of ITERATIONS REACHED LIMIT.\n",
      "\n",
      "Increase the number of iterations (max_iter) or scale the data as shown in:\n",
      "    https://scikit-learn.org/stable/modules/preprocessing.html\n",
      "Please also refer to the documentation for alternative solver options:\n",
      "    https://scikit-learn.org/stable/modules/linear_model.html#logistic-regression\n",
      "  n_iter_i = _check_optimize_result(\n",
      "C:\\Users\\UMANG\\anaconda3\\lib\\site-packages\\sklearn\\linear_model\\_logistic.py:814: ConvergenceWarning: lbfgs failed to converge (status=1):\n",
      "STOP: TOTAL NO. of ITERATIONS REACHED LIMIT.\n",
      "\n",
      "Increase the number of iterations (max_iter) or scale the data as shown in:\n",
      "    https://scikit-learn.org/stable/modules/preprocessing.html\n",
      "Please also refer to the documentation for alternative solver options:\n",
      "    https://scikit-learn.org/stable/modules/linear_model.html#logistic-regression\n",
      "  n_iter_i = _check_optimize_result(\n",
      "C:\\Users\\UMANG\\anaconda3\\lib\\site-packages\\sklearn\\linear_model\\_logistic.py:814: ConvergenceWarning: lbfgs failed to converge (status=1):\n",
      "STOP: TOTAL NO. of ITERATIONS REACHED LIMIT.\n",
      "\n",
      "Increase the number of iterations (max_iter) or scale the data as shown in:\n",
      "    https://scikit-learn.org/stable/modules/preprocessing.html\n",
      "Please also refer to the documentation for alternative solver options:\n",
      "    https://scikit-learn.org/stable/modules/linear_model.html#logistic-regression\n",
      "  n_iter_i = _check_optimize_result(\n",
      "C:\\Users\\UMANG\\anaconda3\\lib\\site-packages\\sklearn\\linear_model\\_logistic.py:814: ConvergenceWarning: lbfgs failed to converge (status=1):\n",
      "STOP: TOTAL NO. of ITERATIONS REACHED LIMIT.\n",
      "\n",
      "Increase the number of iterations (max_iter) or scale the data as shown in:\n",
      "    https://scikit-learn.org/stable/modules/preprocessing.html\n",
      "Please also refer to the documentation for alternative solver options:\n",
      "    https://scikit-learn.org/stable/modules/linear_model.html#logistic-regression\n",
      "  n_iter_i = _check_optimize_result(\n",
      "C:\\Users\\UMANG\\anaconda3\\lib\\site-packages\\sklearn\\linear_model\\_logistic.py:814: ConvergenceWarning: lbfgs failed to converge (status=1):\n",
      "STOP: TOTAL NO. of ITERATIONS REACHED LIMIT.\n",
      "\n",
      "Increase the number of iterations (max_iter) or scale the data as shown in:\n",
      "    https://scikit-learn.org/stable/modules/preprocessing.html\n",
      "Please also refer to the documentation for alternative solver options:\n",
      "    https://scikit-learn.org/stable/modules/linear_model.html#logistic-regression\n",
      "  n_iter_i = _check_optimize_result(\n",
      "C:\\Users\\UMANG\\anaconda3\\lib\\site-packages\\sklearn\\linear_model\\_logistic.py:814: ConvergenceWarning: lbfgs failed to converge (status=1):\n",
      "STOP: TOTAL NO. of ITERATIONS REACHED LIMIT.\n",
      "\n",
      "Increase the number of iterations (max_iter) or scale the data as shown in:\n",
      "    https://scikit-learn.org/stable/modules/preprocessing.html\n",
      "Please also refer to the documentation for alternative solver options:\n",
      "    https://scikit-learn.org/stable/modules/linear_model.html#logistic-regression\n",
      "  n_iter_i = _check_optimize_result(\n",
      "C:\\Users\\UMANG\\anaconda3\\lib\\site-packages\\sklearn\\linear_model\\_logistic.py:814: ConvergenceWarning: lbfgs failed to converge (status=1):\n",
      "STOP: TOTAL NO. of ITERATIONS REACHED LIMIT.\n",
      "\n",
      "Increase the number of iterations (max_iter) or scale the data as shown in:\n",
      "    https://scikit-learn.org/stable/modules/preprocessing.html\n",
      "Please also refer to the documentation for alternative solver options:\n",
      "    https://scikit-learn.org/stable/modules/linear_model.html#logistic-regression\n",
      "  n_iter_i = _check_optimize_result(\n",
      "C:\\Users\\UMANG\\anaconda3\\lib\\site-packages\\sklearn\\linear_model\\_logistic.py:814: ConvergenceWarning: lbfgs failed to converge (status=1):\n",
      "STOP: TOTAL NO. of ITERATIONS REACHED LIMIT.\n",
      "\n",
      "Increase the number of iterations (max_iter) or scale the data as shown in:\n",
      "    https://scikit-learn.org/stable/modules/preprocessing.html\n",
      "Please also refer to the documentation for alternative solver options:\n",
      "    https://scikit-learn.org/stable/modules/linear_model.html#logistic-regression\n",
      "  n_iter_i = _check_optimize_result(\n",
      "C:\\Users\\UMANG\\anaconda3\\lib\\site-packages\\sklearn\\linear_model\\_logistic.py:814: ConvergenceWarning: lbfgs failed to converge (status=1):\n",
      "STOP: TOTAL NO. of ITERATIONS REACHED LIMIT.\n",
      "\n",
      "Increase the number of iterations (max_iter) or scale the data as shown in:\n",
      "    https://scikit-learn.org/stable/modules/preprocessing.html\n",
      "Please also refer to the documentation for alternative solver options:\n",
      "    https://scikit-learn.org/stable/modules/linear_model.html#logistic-regression\n",
      "  n_iter_i = _check_optimize_result(\n"
     ]
    },
    {
     "name": "stderr",
     "output_type": "stream",
     "text": [
      "C:\\Users\\UMANG\\anaconda3\\lib\\site-packages\\sklearn\\linear_model\\_logistic.py:814: ConvergenceWarning: lbfgs failed to converge (status=1):\n",
      "STOP: TOTAL NO. of ITERATIONS REACHED LIMIT.\n",
      "\n",
      "Increase the number of iterations (max_iter) or scale the data as shown in:\n",
      "    https://scikit-learn.org/stable/modules/preprocessing.html\n",
      "Please also refer to the documentation for alternative solver options:\n",
      "    https://scikit-learn.org/stable/modules/linear_model.html#logistic-regression\n",
      "  n_iter_i = _check_optimize_result(\n",
      "C:\\Users\\UMANG\\anaconda3\\lib\\site-packages\\sklearn\\linear_model\\_logistic.py:814: ConvergenceWarning: lbfgs failed to converge (status=1):\n",
      "STOP: TOTAL NO. of ITERATIONS REACHED LIMIT.\n",
      "\n",
      "Increase the number of iterations (max_iter) or scale the data as shown in:\n",
      "    https://scikit-learn.org/stable/modules/preprocessing.html\n",
      "Please also refer to the documentation for alternative solver options:\n",
      "    https://scikit-learn.org/stable/modules/linear_model.html#logistic-regression\n",
      "  n_iter_i = _check_optimize_result(\n",
      "C:\\Users\\UMANG\\anaconda3\\lib\\site-packages\\sklearn\\linear_model\\_logistic.py:814: ConvergenceWarning: lbfgs failed to converge (status=1):\n",
      "STOP: TOTAL NO. of ITERATIONS REACHED LIMIT.\n",
      "\n",
      "Increase the number of iterations (max_iter) or scale the data as shown in:\n",
      "    https://scikit-learn.org/stable/modules/preprocessing.html\n",
      "Please also refer to the documentation for alternative solver options:\n",
      "    https://scikit-learn.org/stable/modules/linear_model.html#logistic-regression\n",
      "  n_iter_i = _check_optimize_result(\n",
      "C:\\Users\\UMANG\\anaconda3\\lib\\site-packages\\sklearn\\linear_model\\_logistic.py:814: ConvergenceWarning: lbfgs failed to converge (status=1):\n",
      "STOP: TOTAL NO. of ITERATIONS REACHED LIMIT.\n",
      "\n",
      "Increase the number of iterations (max_iter) or scale the data as shown in:\n",
      "    https://scikit-learn.org/stable/modules/preprocessing.html\n",
      "Please also refer to the documentation for alternative solver options:\n",
      "    https://scikit-learn.org/stable/modules/linear_model.html#logistic-regression\n",
      "  n_iter_i = _check_optimize_result(\n",
      "C:\\Users\\UMANG\\anaconda3\\lib\\site-packages\\sklearn\\linear_model\\_logistic.py:814: ConvergenceWarning: lbfgs failed to converge (status=1):\n",
      "STOP: TOTAL NO. of ITERATIONS REACHED LIMIT.\n",
      "\n",
      "Increase the number of iterations (max_iter) or scale the data as shown in:\n",
      "    https://scikit-learn.org/stable/modules/preprocessing.html\n",
      "Please also refer to the documentation for alternative solver options:\n",
      "    https://scikit-learn.org/stable/modules/linear_model.html#logistic-regression\n",
      "  n_iter_i = _check_optimize_result(\n",
      "C:\\Users\\UMANG\\anaconda3\\lib\\site-packages\\sklearn\\linear_model\\_logistic.py:814: ConvergenceWarning: lbfgs failed to converge (status=1):\n",
      "STOP: TOTAL NO. of ITERATIONS REACHED LIMIT.\n",
      "\n",
      "Increase the number of iterations (max_iter) or scale the data as shown in:\n",
      "    https://scikit-learn.org/stable/modules/preprocessing.html\n",
      "Please also refer to the documentation for alternative solver options:\n",
      "    https://scikit-learn.org/stable/modules/linear_model.html#logistic-regression\n",
      "  n_iter_i = _check_optimize_result(\n",
      "C:\\Users\\UMANG\\anaconda3\\lib\\site-packages\\sklearn\\linear_model\\_logistic.py:814: ConvergenceWarning: lbfgs failed to converge (status=1):\n",
      "STOP: TOTAL NO. of ITERATIONS REACHED LIMIT.\n",
      "\n",
      "Increase the number of iterations (max_iter) or scale the data as shown in:\n",
      "    https://scikit-learn.org/stable/modules/preprocessing.html\n",
      "Please also refer to the documentation for alternative solver options:\n",
      "    https://scikit-learn.org/stable/modules/linear_model.html#logistic-regression\n",
      "  n_iter_i = _check_optimize_result(\n",
      "C:\\Users\\UMANG\\anaconda3\\lib\\site-packages\\sklearn\\linear_model\\_logistic.py:814: ConvergenceWarning: lbfgs failed to converge (status=1):\n",
      "STOP: TOTAL NO. of ITERATIONS REACHED LIMIT.\n",
      "\n",
      "Increase the number of iterations (max_iter) or scale the data as shown in:\n",
      "    https://scikit-learn.org/stable/modules/preprocessing.html\n",
      "Please also refer to the documentation for alternative solver options:\n",
      "    https://scikit-learn.org/stable/modules/linear_model.html#logistic-regression\n",
      "  n_iter_i = _check_optimize_result(\n",
      "C:\\Users\\UMANG\\anaconda3\\lib\\site-packages\\sklearn\\linear_model\\_logistic.py:814: ConvergenceWarning: lbfgs failed to converge (status=1):\n",
      "STOP: TOTAL NO. of ITERATIONS REACHED LIMIT.\n",
      "\n",
      "Increase the number of iterations (max_iter) or scale the data as shown in:\n",
      "    https://scikit-learn.org/stable/modules/preprocessing.html\n",
      "Please also refer to the documentation for alternative solver options:\n",
      "    https://scikit-learn.org/stable/modules/linear_model.html#logistic-regression\n",
      "  n_iter_i = _check_optimize_result(\n",
      "C:\\Users\\UMANG\\anaconda3\\lib\\site-packages\\sklearn\\linear_model\\_logistic.py:814: ConvergenceWarning: lbfgs failed to converge (status=1):\n",
      "STOP: TOTAL NO. of ITERATIONS REACHED LIMIT.\n",
      "\n",
      "Increase the number of iterations (max_iter) or scale the data as shown in:\n",
      "    https://scikit-learn.org/stable/modules/preprocessing.html\n",
      "Please also refer to the documentation for alternative solver options:\n",
      "    https://scikit-learn.org/stable/modules/linear_model.html#logistic-regression\n",
      "  n_iter_i = _check_optimize_result(\n",
      "C:\\Users\\UMANG\\anaconda3\\lib\\site-packages\\sklearn\\linear_model\\_logistic.py:814: ConvergenceWarning: lbfgs failed to converge (status=1):\n",
      "STOP: TOTAL NO. of ITERATIONS REACHED LIMIT.\n",
      "\n",
      "Increase the number of iterations (max_iter) or scale the data as shown in:\n",
      "    https://scikit-learn.org/stable/modules/preprocessing.html\n",
      "Please also refer to the documentation for alternative solver options:\n",
      "    https://scikit-learn.org/stable/modules/linear_model.html#logistic-regression\n",
      "  n_iter_i = _check_optimize_result(\n",
      "C:\\Users\\UMANG\\anaconda3\\lib\\site-packages\\sklearn\\linear_model\\_logistic.py:814: ConvergenceWarning: lbfgs failed to converge (status=1):\n",
      "STOP: TOTAL NO. of ITERATIONS REACHED LIMIT.\n",
      "\n",
      "Increase the number of iterations (max_iter) or scale the data as shown in:\n",
      "    https://scikit-learn.org/stable/modules/preprocessing.html\n",
      "Please also refer to the documentation for alternative solver options:\n",
      "    https://scikit-learn.org/stable/modules/linear_model.html#logistic-regression\n",
      "  n_iter_i = _check_optimize_result(\n",
      "C:\\Users\\UMANG\\anaconda3\\lib\\site-packages\\sklearn\\linear_model\\_logistic.py:814: ConvergenceWarning: lbfgs failed to converge (status=1):\n",
      "STOP: TOTAL NO. of ITERATIONS REACHED LIMIT.\n",
      "\n",
      "Increase the number of iterations (max_iter) or scale the data as shown in:\n",
      "    https://scikit-learn.org/stable/modules/preprocessing.html\n",
      "Please also refer to the documentation for alternative solver options:\n",
      "    https://scikit-learn.org/stable/modules/linear_model.html#logistic-regression\n",
      "  n_iter_i = _check_optimize_result(\n",
      "C:\\Users\\UMANG\\anaconda3\\lib\\site-packages\\sklearn\\linear_model\\_logistic.py:814: ConvergenceWarning: lbfgs failed to converge (status=1):\n",
      "STOP: TOTAL NO. of ITERATIONS REACHED LIMIT.\n",
      "\n",
      "Increase the number of iterations (max_iter) or scale the data as shown in:\n",
      "    https://scikit-learn.org/stable/modules/preprocessing.html\n",
      "Please also refer to the documentation for alternative solver options:\n",
      "    https://scikit-learn.org/stable/modules/linear_model.html#logistic-regression\n",
      "  n_iter_i = _check_optimize_result(\n",
      "C:\\Users\\UMANG\\anaconda3\\lib\\site-packages\\sklearn\\linear_model\\_logistic.py:814: ConvergenceWarning: lbfgs failed to converge (status=1):\n",
      "STOP: TOTAL NO. of ITERATIONS REACHED LIMIT.\n",
      "\n",
      "Increase the number of iterations (max_iter) or scale the data as shown in:\n",
      "    https://scikit-learn.org/stable/modules/preprocessing.html\n",
      "Please also refer to the documentation for alternative solver options:\n",
      "    https://scikit-learn.org/stable/modules/linear_model.html#logistic-regression\n",
      "  n_iter_i = _check_optimize_result(\n",
      "C:\\Users\\UMANG\\anaconda3\\lib\\site-packages\\sklearn\\linear_model\\_logistic.py:814: ConvergenceWarning: lbfgs failed to converge (status=1):\n",
      "STOP: TOTAL NO. of ITERATIONS REACHED LIMIT.\n",
      "\n",
      "Increase the number of iterations (max_iter) or scale the data as shown in:\n",
      "    https://scikit-learn.org/stable/modules/preprocessing.html\n",
      "Please also refer to the documentation for alternative solver options:\n",
      "    https://scikit-learn.org/stable/modules/linear_model.html#logistic-regression\n",
      "  n_iter_i = _check_optimize_result(\n"
     ]
    },
    {
     "name": "stderr",
     "output_type": "stream",
     "text": [
      "C:\\Users\\UMANG\\anaconda3\\lib\\site-packages\\sklearn\\linear_model\\_logistic.py:814: ConvergenceWarning: lbfgs failed to converge (status=1):\n",
      "STOP: TOTAL NO. of ITERATIONS REACHED LIMIT.\n",
      "\n",
      "Increase the number of iterations (max_iter) or scale the data as shown in:\n",
      "    https://scikit-learn.org/stable/modules/preprocessing.html\n",
      "Please also refer to the documentation for alternative solver options:\n",
      "    https://scikit-learn.org/stable/modules/linear_model.html#logistic-regression\n",
      "  n_iter_i = _check_optimize_result(\n",
      "C:\\Users\\UMANG\\anaconda3\\lib\\site-packages\\sklearn\\linear_model\\_logistic.py:814: ConvergenceWarning: lbfgs failed to converge (status=1):\n",
      "STOP: TOTAL NO. of ITERATIONS REACHED LIMIT.\n",
      "\n",
      "Increase the number of iterations (max_iter) or scale the data as shown in:\n",
      "    https://scikit-learn.org/stable/modules/preprocessing.html\n",
      "Please also refer to the documentation for alternative solver options:\n",
      "    https://scikit-learn.org/stable/modules/linear_model.html#logistic-regression\n",
      "  n_iter_i = _check_optimize_result(\n",
      "C:\\Users\\UMANG\\anaconda3\\lib\\site-packages\\sklearn\\linear_model\\_logistic.py:814: ConvergenceWarning: lbfgs failed to converge (status=1):\n",
      "STOP: TOTAL NO. of ITERATIONS REACHED LIMIT.\n",
      "\n",
      "Increase the number of iterations (max_iter) or scale the data as shown in:\n",
      "    https://scikit-learn.org/stable/modules/preprocessing.html\n",
      "Please also refer to the documentation for alternative solver options:\n",
      "    https://scikit-learn.org/stable/modules/linear_model.html#logistic-regression\n",
      "  n_iter_i = _check_optimize_result(\n",
      "C:\\Users\\UMANG\\anaconda3\\lib\\site-packages\\sklearn\\linear_model\\_logistic.py:814: ConvergenceWarning: lbfgs failed to converge (status=1):\n",
      "STOP: TOTAL NO. of ITERATIONS REACHED LIMIT.\n",
      "\n",
      "Increase the number of iterations (max_iter) or scale the data as shown in:\n",
      "    https://scikit-learn.org/stable/modules/preprocessing.html\n",
      "Please also refer to the documentation for alternative solver options:\n",
      "    https://scikit-learn.org/stable/modules/linear_model.html#logistic-regression\n",
      "  n_iter_i = _check_optimize_result(\n",
      "C:\\Users\\UMANG\\anaconda3\\lib\\site-packages\\sklearn\\linear_model\\_logistic.py:814: ConvergenceWarning: lbfgs failed to converge (status=1):\n",
      "STOP: TOTAL NO. of ITERATIONS REACHED LIMIT.\n",
      "\n",
      "Increase the number of iterations (max_iter) or scale the data as shown in:\n",
      "    https://scikit-learn.org/stable/modules/preprocessing.html\n",
      "Please also refer to the documentation for alternative solver options:\n",
      "    https://scikit-learn.org/stable/modules/linear_model.html#logistic-regression\n",
      "  n_iter_i = _check_optimize_result(\n",
      "C:\\Users\\UMANG\\anaconda3\\lib\\site-packages\\sklearn\\linear_model\\_logistic.py:814: ConvergenceWarning: lbfgs failed to converge (status=1):\n",
      "STOP: TOTAL NO. of ITERATIONS REACHED LIMIT.\n",
      "\n",
      "Increase the number of iterations (max_iter) or scale the data as shown in:\n",
      "    https://scikit-learn.org/stable/modules/preprocessing.html\n",
      "Please also refer to the documentation for alternative solver options:\n",
      "    https://scikit-learn.org/stable/modules/linear_model.html#logistic-regression\n",
      "  n_iter_i = _check_optimize_result(\n",
      "C:\\Users\\UMANG\\anaconda3\\lib\\site-packages\\sklearn\\linear_model\\_logistic.py:814: ConvergenceWarning: lbfgs failed to converge (status=1):\n",
      "STOP: TOTAL NO. of ITERATIONS REACHED LIMIT.\n",
      "\n",
      "Increase the number of iterations (max_iter) or scale the data as shown in:\n",
      "    https://scikit-learn.org/stable/modules/preprocessing.html\n",
      "Please also refer to the documentation for alternative solver options:\n",
      "    https://scikit-learn.org/stable/modules/linear_model.html#logistic-regression\n",
      "  n_iter_i = _check_optimize_result(\n",
      "C:\\Users\\UMANG\\anaconda3\\lib\\site-packages\\sklearn\\linear_model\\_logistic.py:814: ConvergenceWarning: lbfgs failed to converge (status=1):\n",
      "STOP: TOTAL NO. of ITERATIONS REACHED LIMIT.\n",
      "\n",
      "Increase the number of iterations (max_iter) or scale the data as shown in:\n",
      "    https://scikit-learn.org/stable/modules/preprocessing.html\n",
      "Please also refer to the documentation for alternative solver options:\n",
      "    https://scikit-learn.org/stable/modules/linear_model.html#logistic-regression\n",
      "  n_iter_i = _check_optimize_result(\n",
      "C:\\Users\\UMANG\\anaconda3\\lib\\site-packages\\sklearn\\linear_model\\_logistic.py:814: ConvergenceWarning: lbfgs failed to converge (status=1):\n",
      "STOP: TOTAL NO. of ITERATIONS REACHED LIMIT.\n",
      "\n",
      "Increase the number of iterations (max_iter) or scale the data as shown in:\n",
      "    https://scikit-learn.org/stable/modules/preprocessing.html\n",
      "Please also refer to the documentation for alternative solver options:\n",
      "    https://scikit-learn.org/stable/modules/linear_model.html#logistic-regression\n",
      "  n_iter_i = _check_optimize_result(\n",
      "C:\\Users\\UMANG\\anaconda3\\lib\\site-packages\\sklearn\\linear_model\\_logistic.py:814: ConvergenceWarning: lbfgs failed to converge (status=1):\n",
      "STOP: TOTAL NO. of ITERATIONS REACHED LIMIT.\n",
      "\n",
      "Increase the number of iterations (max_iter) or scale the data as shown in:\n",
      "    https://scikit-learn.org/stable/modules/preprocessing.html\n",
      "Please also refer to the documentation for alternative solver options:\n",
      "    https://scikit-learn.org/stable/modules/linear_model.html#logistic-regression\n",
      "  n_iter_i = _check_optimize_result(\n",
      "C:\\Users\\UMANG\\anaconda3\\lib\\site-packages\\sklearn\\linear_model\\_logistic.py:814: ConvergenceWarning: lbfgs failed to converge (status=1):\n",
      "STOP: TOTAL NO. of ITERATIONS REACHED LIMIT.\n",
      "\n",
      "Increase the number of iterations (max_iter) or scale the data as shown in:\n",
      "    https://scikit-learn.org/stable/modules/preprocessing.html\n",
      "Please also refer to the documentation for alternative solver options:\n",
      "    https://scikit-learn.org/stable/modules/linear_model.html#logistic-regression\n",
      "  n_iter_i = _check_optimize_result(\n",
      "C:\\Users\\UMANG\\anaconda3\\lib\\site-packages\\sklearn\\linear_model\\_logistic.py:814: ConvergenceWarning: lbfgs failed to converge (status=1):\n",
      "STOP: TOTAL NO. of ITERATIONS REACHED LIMIT.\n",
      "\n",
      "Increase the number of iterations (max_iter) or scale the data as shown in:\n",
      "    https://scikit-learn.org/stable/modules/preprocessing.html\n",
      "Please also refer to the documentation for alternative solver options:\n",
      "    https://scikit-learn.org/stable/modules/linear_model.html#logistic-regression\n",
      "  n_iter_i = _check_optimize_result(\n",
      "C:\\Users\\UMANG\\anaconda3\\lib\\site-packages\\sklearn\\linear_model\\_logistic.py:814: ConvergenceWarning: lbfgs failed to converge (status=1):\n",
      "STOP: TOTAL NO. of ITERATIONS REACHED LIMIT.\n",
      "\n",
      "Increase the number of iterations (max_iter) or scale the data as shown in:\n",
      "    https://scikit-learn.org/stable/modules/preprocessing.html\n",
      "Please also refer to the documentation for alternative solver options:\n",
      "    https://scikit-learn.org/stable/modules/linear_model.html#logistic-regression\n",
      "  n_iter_i = _check_optimize_result(\n",
      "C:\\Users\\UMANG\\anaconda3\\lib\\site-packages\\sklearn\\linear_model\\_logistic.py:814: ConvergenceWarning: lbfgs failed to converge (status=1):\n",
      "STOP: TOTAL NO. of ITERATIONS REACHED LIMIT.\n",
      "\n",
      "Increase the number of iterations (max_iter) or scale the data as shown in:\n",
      "    https://scikit-learn.org/stable/modules/preprocessing.html\n",
      "Please also refer to the documentation for alternative solver options:\n",
      "    https://scikit-learn.org/stable/modules/linear_model.html#logistic-regression\n",
      "  n_iter_i = _check_optimize_result(\n",
      "C:\\Users\\UMANG\\anaconda3\\lib\\site-packages\\sklearn\\linear_model\\_logistic.py:814: ConvergenceWarning: lbfgs failed to converge (status=1):\n",
      "STOP: TOTAL NO. of ITERATIONS REACHED LIMIT.\n",
      "\n",
      "Increase the number of iterations (max_iter) or scale the data as shown in:\n",
      "    https://scikit-learn.org/stable/modules/preprocessing.html\n",
      "Please also refer to the documentation for alternative solver options:\n",
      "    https://scikit-learn.org/stable/modules/linear_model.html#logistic-regression\n",
      "  n_iter_i = _check_optimize_result(\n",
      "C:\\Users\\UMANG\\anaconda3\\lib\\site-packages\\sklearn\\model_selection\\_validation.py:372: FitFailedWarning: \n",
      "150 fits failed out of a total of 300.\n",
      "The score on these train-test partitions for these parameters will be set to nan.\n",
      "If these failures are not expected, you can try to debug them by setting error_score='raise'.\n",
      "\n",
      "Below are more details about the failures:\n",
      "--------------------------------------------------------------------------------\n",
      "150 fits failed with the following error:\n",
      "Traceback (most recent call last):\n",
      "  File \"C:\\Users\\UMANG\\anaconda3\\lib\\site-packages\\sklearn\\model_selection\\_validation.py\", line 680, in _fit_and_score\n",
      "    estimator.fit(X_train, y_train, **fit_params)\n",
      "  File \"C:\\Users\\UMANG\\anaconda3\\lib\\site-packages\\sklearn\\linear_model\\_logistic.py\", line 1461, in fit\n",
      "    solver = _check_solver(self.solver, self.penalty, self.dual)\n",
      "  File \"C:\\Users\\UMANG\\anaconda3\\lib\\site-packages\\sklearn\\linear_model\\_logistic.py\", line 447, in _check_solver\n",
      "    raise ValueError(\n",
      "ValueError: Solver lbfgs supports only 'l2' or 'none' penalties, got l1 penalty.\n",
      "\n",
      "  warnings.warn(some_fits_failed_message, FitFailedWarning)\n"
     ]
    },
    {
     "name": "stderr",
     "output_type": "stream",
     "text": [
      "C:\\Users\\UMANG\\anaconda3\\lib\\site-packages\\sklearn\\model_selection\\_search.py:969: UserWarning: One or more of the test scores are non-finite: [       nan 0.33521152        nan 0.33521152        nan 0.33576575\n",
      "        nan 0.40028617        nan 0.57186346        nan 0.67845853\n",
      "        nan 0.71988681        nan 0.73882287        nan 0.75678888\n",
      "        nan 0.77960436        nan 0.81008682        nan 0.84066143\n",
      "        nan 0.87409948        nan 0.90702927        nan 0.92901343\n",
      "        nan 0.9444854         nan 0.95381468        nan 0.95792515\n",
      "        nan 0.96028066        nan 0.96198947        nan 0.96245135\n",
      "        nan 0.96392933        nan 0.96439116        nan 0.96499161\n",
      "        nan 0.96554576        nan 0.96628472        nan 0.96757787\n",
      "        nan 0.96771654        nan 0.96831686        nan 0.96891729]\n",
      "  warnings.warn(\n"
     ]
    },
    {
     "name": "stdout",
     "output_type": "stream",
     "text": [
      "Accuracy: 96.89173 %\n",
      "Best Parameters:  {'C': 100000.0, 'penalty': 'l2'}\n"
     ]
    },
    {
     "name": "stderr",
     "output_type": "stream",
     "text": [
      "C:\\Users\\UMANG\\anaconda3\\lib\\site-packages\\sklearn\\linear_model\\_logistic.py:814: ConvergenceWarning: lbfgs failed to converge (status=1):\n",
      "STOP: TOTAL NO. of ITERATIONS REACHED LIMIT.\n",
      "\n",
      "Increase the number of iterations (max_iter) or scale the data as shown in:\n",
      "    https://scikit-learn.org/stable/modules/preprocessing.html\n",
      "Please also refer to the documentation for alternative solver options:\n",
      "    https://scikit-learn.org/stable/modules/linear_model.html#logistic-regression\n",
      "  n_iter_i = _check_optimize_result(\n"
     ]
    }
   ],
   "source": [
    "parameters = {'C':np.logspace(-5,5,30), \n",
    "                 'penalty':['l1', 'l2']}\n",
    "\n",
    "grid_search = GridSearchCV(estimator=log_reg,\n",
    "                           param_grid=parameters, \n",
    "                           scoring='accuracy', \n",
    "                           cv=5)\n",
    "\n",
    "grid_search.fit(X_train, y_train)\n",
    "best_accuracy = grid_search.best_score_\n",
    "best_parameters = grid_search.best_params_\n",
    "\n",
    "print('Accuracy: {:.5f} %' .format(best_accuracy*100))\n",
    "print('Best Parameters: ', best_parameters)"
   ]
  },
  {
   "cell_type": "code",
   "execution_count": 37,
   "id": "f7b05019",
   "metadata": {},
   "outputs": [
    {
     "name": "stderr",
     "output_type": "stream",
     "text": [
      "C:\\Users\\UMANG\\anaconda3\\lib\\site-packages\\sklearn\\linear_model\\_logistic.py:814: ConvergenceWarning: lbfgs failed to converge (status=1):\n",
      "STOP: TOTAL NO. of ITERATIONS REACHED LIMIT.\n",
      "\n",
      "Increase the number of iterations (max_iter) or scale the data as shown in:\n",
      "    https://scikit-learn.org/stable/modules/preprocessing.html\n",
      "Please also refer to the documentation for alternative solver options:\n",
      "    https://scikit-learn.org/stable/modules/linear_model.html#logistic-regression\n",
      "  n_iter_i = _check_optimize_result(\n"
     ]
    }
   ],
   "source": [
    "log_reg = LogisticRegression(C=100000.0, penalty='l2')\n",
    "\n",
    "log_reg.fit(X_train, y_train)\n",
    "y_pred1 = log_reg.predict(X_test)"
   ]
  },
  {
   "cell_type": "code",
   "execution_count": 38,
   "id": "c5e27fd6",
   "metadata": {},
   "outputs": [
    {
     "name": "stdout",
     "output_type": "stream",
     "text": [
      "\n",
      "\n",
      "              precision    recall  f1-score   support\n",
      "\n",
      "           0       0.99      1.00      0.99      1764\n",
      "           1       0.95      1.00      0.97      1832\n",
      "           2       1.00      0.93      0.96      1818\n",
      "\n",
      "    accuracy                           0.98      5414\n",
      "   macro avg       0.98      0.98      0.98      5414\n",
      "weighted avg       0.98      0.98      0.98      5414\n",
      "\n"
     ]
    },
    {
     "data": {
      "image/png": "[encoded data removed]",
      "text/plain": [
       "<Figure size 432x360 with 2 Axes>"
      ]
     },
     "metadata": {
      "needs_background": "light"
     },
     "output_type": "display_data"
    }
   ],
   "source": [
    "plot_cm(y_test, y_pred1)\n",
    "print('\\n')\n",
    "print(classification_report(y_test, y_pred1))"
   ]
  },
  {
   "cell_type": "markdown",
   "id": "abea7655",
   "metadata": {},
   "source": [
    "##### For Decision Tree"
   ]
  },
  {
   "cell_type": "code",
   "execution_count": 40,
   "id": "e3571287",
   "metadata": {},
   "outputs": [
    {
     "name": "stdout",
     "output_type": "stream",
     "text": [
      "Accuracy: 87.83946 %\n",
      "Best Parameters:  {'criterion': 'entropy'}\n"
     ]
    }
   ],
   "source": [
    "parameters = {'criterion':['gini','entropy']}\n",
    "\n",
    "grid_search = GridSearchCV(estimator=d_tree,\n",
    "                           param_grid=parameters, \n",
    "                           scoring='accuracy', \n",
    "                           cv=5)\n",
    "\n",
    "grid_search.fit(X_train, y_train)\n",
    "best_accuracy = grid_search.best_score_\n",
    "best_parameters = grid_search.best_params_\n",
    "\n",
    "print('Accuracy: {:.5f} %' .format(best_accuracy*100))\n",
    "print('Best Parameters: ', best_parameters)"
   ]
  },
  {
   "cell_type": "code",
   "execution_count": 41,
   "id": "f44f1f05",
   "metadata": {},
   "outputs": [],
   "source": [
    "d_tree = DecisionTreeClassifier(criterion='entropy')\n",
    "\n",
    "d_tree.fit(X_train, y_train)\n",
    "y_pred2 = d_tree.predict(X_test)"
   ]
  },
  {
   "cell_type": "code",
   "execution_count": 42,
   "id": "86f4aea2",
   "metadata": {},
   "outputs": [
    {
     "name": "stdout",
     "output_type": "stream",
     "text": [
      "\n",
      "\n",
      "              precision    recall  f1-score   support\n",
      "\n",
      "           0       0.92      0.93      0.93      1764\n",
      "           1       0.87      0.91      0.89      1832\n",
      "           2       0.88      0.82      0.85      1818\n",
      "\n",
      "    accuracy                           0.89      5414\n",
      "   macro avg       0.89      0.89      0.89      5414\n",
      "weighted avg       0.89      0.89      0.89      5414\n",
      "\n"
     ]
    },
    {
     "data": {
      "image/png": "[encoded data removed]",
      "text/plain": [
       "<Figure size 432x360 with 2 Axes>"
      ]
     },
     "metadata": {
      "needs_background": "light"
     },
     "output_type": "display_data"
    }
   ],
   "source": [
    "plot_cm(y_test, y_pred2)\n",
    "print('\\n')\n",
    "print(classification_report(y_test, y_pred2))"
   ]
  },
  {
   "cell_type": "markdown",
   "id": "cc83d286",
   "metadata": {},
   "source": [
    "##### For Random Forest"
   ]
  },
  {
   "cell_type": "code",
   "execution_count": 45,
   "id": "cb238bdf",
   "metadata": {
    "scrolled": false
   },
   "outputs": [
    {
     "name": "stdout",
     "output_type": "stream",
     "text": [
      "Accuracy: 96.83630 %\n",
      "Best Parameters:  {'n_estimators': 200}\n"
     ]
    }
   ],
   "source": [
    "parameters = {'n_estimators':[10,50,75,100,200]}\n",
    "\n",
    "grid_search = GridSearchCV(estimator=r_forrest,\n",
    "                           param_grid=parameters, \n",
    "                           scoring='accuracy', \n",
    "                           cv=5)\n",
    "\n",
    "grid_search.fit(X_train, y_train)\n",
    "best_accuracy = grid_search.best_score_\n",
    "best_parameters = grid_search.best_params_\n",
    "\n",
    "print('Accuracy: {:.5f} %' .format(best_accuracy*100))\n",
    "print('Best Parameters: ', best_parameters)"
   ]
  },
  {
   "cell_type": "code",
   "execution_count": 46,
   "id": "fb70818d",
   "metadata": {},
   "outputs": [],
   "source": [
    "r_forrest = RandomForestClassifier(n_estimators=200)\n",
    "\n",
    "r_forrest.fit(X_train, y_train)\n",
    "y_pred3 = r_forrest.predict(X_test)"
   ]
  },
  {
   "cell_type": "code",
   "execution_count": 47,
   "id": "f2faaa8e",
   "metadata": {
    "scrolled": false
   },
   "outputs": [
    {
     "name": "stdout",
     "output_type": "stream",
     "text": [
      "\n",
      "\n",
      "              precision    recall  f1-score   support\n",
      "\n",
      "           0       0.99      0.99      0.99      1764\n",
      "           1       0.97      0.98      0.97      1832\n",
      "           2       0.97      0.96      0.96      1818\n",
      "\n",
      "    accuracy                           0.98      5414\n",
      "   macro avg       0.98      0.98      0.98      5414\n",
      "weighted avg       0.98      0.98      0.98      5414\n",
      "\n"
     ]
    },
    {
     "data": {
      "image/png": "[encoded data removed]",
      "text/plain": [
       "<Figure size 432x360 with 2 Axes>"
      ]
     },
     "metadata": {
      "needs_background": "light"
     },
     "output_type": "display_data"
    }
   ],
   "source": [
    "plot_cm(y_test, y_pred3)\n",
    "print('\\n')\n",
    "print(classification_report(y_test, y_pred3))"
   ]
  },
  {
   "cell_type": "markdown",
   "id": "dac5f94f",
   "metadata": {},
   "source": [
    "##### For KNN"
   ]
  },
  {
   "cell_type": "code",
   "execution_count": 51,
   "id": "bad644b1",
   "metadata": {},
   "outputs": [
    {
     "name": "stdout",
     "output_type": "stream",
     "text": [
      "Accuracy: 72.03031 %\n",
      "Best Parameters:  {'n_neighbors': 1}\n"
     ]
    }
   ],
   "source": [
    "parameters = {'n_neighbors':[1,2,3,4,5]}\n",
    "\n",
    "grid_search = GridSearchCV(estimator=knn,\n",
    "                           param_grid=parameters, \n",
    "                           scoring='accuracy', \n",
    "                           cv=3)\n",
    "\n",
    "grid_search.fit(X_train, y_train)\n",
    "best_accuracy = grid_search.best_score_\n",
    "best_parameters = grid_search.best_params_\n",
    "\n",
    "print('Accuracy: {:.5f} %' .format(best_accuracy*100))\n",
    "print('Best Parameters: ', best_parameters)"
   ]
  },
  {
   "cell_type": "code",
   "execution_count": 52,
   "id": "17a44aef",
   "metadata": {},
   "outputs": [],
   "source": [
    "knn = KNeighborsClassifier(n_neighbors=1)\n",
    "\n",
    "knn.fit(X_train, y_train)\n",
    "y_pred4 = knn.predict(X_test)"
   ]
  },
  {
   "cell_type": "markdown",
   "id": "7869c1b3",
   "metadata": {},
   "source": [
    "##### For Support Vector Classifier --> not implementing GridSearch"
   ]
  },
  {
   "cell_type": "code",
   "execution_count": 53,
   "id": "e0d02c54",
   "metadata": {
    "scrolled": false
   },
   "outputs": [
    {
     "name": "stdout",
     "output_type": "stream",
     "text": [
      "\n",
      "\n",
      "              precision    recall  f1-score   support\n",
      "\n",
      "           0       0.75      1.00      0.86      1764\n",
      "           1       0.67      1.00      0.80      1832\n",
      "           2       1.00      0.19      0.32      1818\n",
      "\n",
      "    accuracy                           0.73      5414\n",
      "   macro avg       0.81      0.73      0.66      5414\n",
      "weighted avg       0.81      0.73      0.66      5414\n",
      "\n"
     ]
    },
    {
     "data": {
      "image/png": "[encoded data removed]",
      "text/plain": [
       "<Figure size 432x360 with 2 Axes>"
      ]
     },
     "metadata": {
      "needs_background": "light"
     },
     "output_type": "display_data"
    }
   ],
   "source": [
    "plot_cm(y_test, y_pred4)\n",
    "print('\\n')\n",
    "print(classification_report(y_test, y_pred4))"
   ]
  },
  {
   "cell_type": "code",
   "execution_count": 59,
   "id": "b6083895",
   "metadata": {},
   "outputs": [],
   "source": [
    "svm = SVC(kernel='rbf')\n",
    "\n",
    "svm.fit(X_train, y_train)\n",
    "y_pred5 = svm.predict(X_test)"
   ]
  },
  {
   "cell_type": "code",
   "execution_count": 60,
   "id": "c900e1c9",
   "metadata": {},
   "outputs": [
    {
     "name": "stdout",
     "output_type": "stream",
     "text": [
      "\n",
      "\n",
      "              precision    recall  f1-score   support\n",
      "\n",
      "           0       1.00      1.00      1.00      1764\n",
      "           1       1.00      0.98      0.99      1832\n",
      "           2       0.98      1.00      0.99      1818\n",
      "\n",
      "    accuracy                           0.99      5414\n",
      "   macro avg       0.99      0.99      0.99      5414\n",
      "weighted avg       0.99      0.99      0.99      5414\n",
      "\n"
     ]
    },
    {
     "data": {
      "image/png": "[encoded data removed]",
      "text/plain": [
       "<Figure size 432x360 with 2 Axes>"
      ]
     },
     "metadata": {
      "needs_background": "light"
     },
     "output_type": "display_data"
    }
   ],
   "source": [
    "plot_cm(y_test, y_pred5)\n",
    "print('\\n')\n",
    "print(classification_report(y_test, y_pred5))"
   ]
  },
  {
   "cell_type": "code",
   "execution_count": 57,
   "id": "dc75ef29",
   "metadata": {},
   "outputs": [],
   "source": [
    "svm2 = SVC(kernel='linear')\n",
    "\n",
    "svm2.fit(X_train, y_train)\n"
   ]
  },
  {
   "cell_type": "code",
   "execution_count": 68,
   "id": "2af98607",
   "metadata": {},
   "outputs": [],
   "source": [
    "y_pred5 = svm2.predict(X_test)"
   ]
  },
  {
   "cell_type": "code",
   "execution_count": 69,
   "id": "6b557f32",
   "metadata": {},
   "outputs": [
    {
     "name": "stdout",
     "output_type": "stream",
     "text": [
      "\n",
      "\n",
      "              precision    recall  f1-score   support\n",
      "\n",
      "           0       0.96      1.00      0.98      1764\n",
      "           1       0.91      0.99      0.95      1832\n",
      "           2       0.99      0.86      0.92      1818\n",
      "\n",
      "    accuracy                           0.95      5414\n",
      "   macro avg       0.95      0.95      0.95      5414\n",
      "weighted avg       0.95      0.95      0.95      5414\n",
      "\n"
     ]
    },
    {
     "data": {
      "image/png": "[encoded data removed]",
      "text/plain": [
       "<Figure size 432x360 with 2 Axes>"
      ]
     },
     "metadata": {
      "needs_background": "light"
     },
     "output_type": "display_data"
    }
   ],
   "source": [
    "plot_cm(y_test, y_pred5)\n",
    "print('\\n')\n",
    "print(classification_report(y_test, y_pred5))"
   ]
  },
  {
   "cell_type": "markdown",
   "id": "7bf5da7f",
   "metadata": {},
   "source": [
    "##### For Naive Bayes'"
   ]
  },
  {
   "cell_type": "code",
   "execution_count": 61,
   "id": "4edc4195",
   "metadata": {},
   "outputs": [
    {
     "name": "stdout",
     "output_type": "stream",
     "text": [
      "Accuracy: 92.07000 %\n",
      "Best Parameters:  {'alpha': 0.01}\n"
     ]
    }
   ],
   "source": [
    "parameters = {'alpha': [1, 1e-1, 1e-2]}\n",
    "\n",
    "grid_search = GridSearchCV(estimator=naive_bayes,\n",
    "                           param_grid=parameters, \n",
    "                           scoring='accuracy', \n",
    "                           cv=3)\n",
    "\n",
    "grid_search.fit(X_train, y_train)\n",
    "best_accuracy = grid_search.best_score_\n",
    "best_parameters = grid_search.best_params_\n",
    "\n",
    "print('Accuracy: {:.5f} %' .format(best_accuracy*100))\n",
    "print('Best Parameters: ', best_parameters)"
   ]
  },
  {
   "cell_type": "code",
   "execution_count": 62,
   "id": "85277214",
   "metadata": {},
   "outputs": [],
   "source": [
    "naive_bayes = MultinomialNB(alpha=0.01)\n",
    "\n",
    "naive_bayes.fit(X_train, y_train)\n",
    "y_pred6 = naive_bayes.predict(X_test)"
   ]
  },
  {
   "cell_type": "code",
   "execution_count": 63,
   "id": "044f908c",
   "metadata": {},
   "outputs": [
    {
     "name": "stdout",
     "output_type": "stream",
     "text": [
      "\n",
      "\n",
      "              precision    recall  f1-score   support\n",
      "\n",
      "           0       0.95      0.97      0.96      1764\n",
      "           1       0.88      0.95      0.92      1832\n",
      "           2       0.95      0.84      0.90      1818\n",
      "\n",
      "    accuracy                           0.92      5414\n",
      "   macro avg       0.93      0.92      0.92      5414\n",
      "weighted avg       0.93      0.92      0.92      5414\n",
      "\n"
     ]
    },
    {
     "data": {
      "image/png": "[encoded data removed]",
      "text/plain": [
       "<Figure size 432x360 with 2 Axes>"
      ]
     },
     "metadata": {
      "needs_background": "light"
     },
     "output_type": "display_data"
    }
   ],
   "source": [
    "plot_cm(y_test, y_pred6)\n",
    "print('\\n')\n",
    "print(classification_report(y_test, y_pred6))"
   ]
  },
  {
   "cell_type": "markdown",
   "id": "28a456c4",
   "metadata": {},
   "source": [
    "##### For XG Boost"
   ]
  },
  {
   "cell_type": "code",
   "execution_count": 64,
   "id": "7818c1f3",
   "metadata": {},
   "outputs": [
    {
     "name": "stderr",
     "output_type": "stream",
     "text": [
      "C:\\Users\\UMANG\\anaconda3\\lib\\site-packages\\xgboost\\sklearn.py:1224: UserWarning: The use of label encoder in XGBClassifier is deprecated and will be removed in a future release. To remove this warning, do the following: 1) Pass option use_label_encoder=False when constructing XGBClassifier object; and 2) Encode your labels (y) as integers starting with 0, i.e. 0, 1, 2, ..., [num_class - 1].\n",
      "  warnings.warn(label_encoder_deprecation_msg, UserWarning)\n"
     ]
    },
    {
     "name": "stdout",
     "output_type": "stream",
     "text": [
      "[15:04:26] WARNING: D:\\bld\\xgboost-split_1643227225381\\work\\src\\learner.cc:1115: Starting in XGBoost 1.3.0, the default evaluation metric used with the objective 'multi:softprob' was changed from 'merror' to 'mlogloss'. Explicitly set eval_metric if you'd like to restore the old behavior.\n"
     ]
    },
    {
     "name": "stderr",
     "output_type": "stream",
     "text": [
      "C:\\Users\\UMANG\\anaconda3\\lib\\site-packages\\xgboost\\sklearn.py:1224: UserWarning: The use of label encoder in XGBClassifier is deprecated and will be removed in a future release. To remove this warning, do the following: 1) Pass option use_label_encoder=False when constructing XGBClassifier object; and 2) Encode your labels (y) as integers starting with 0, i.e. 0, 1, 2, ..., [num_class - 1].\n",
      "  warnings.warn(label_encoder_deprecation_msg, UserWarning)\n"
     ]
    },
    {
     "name": "stdout",
     "output_type": "stream",
     "text": [
      "[15:08:32] WARNING: D:\\bld\\xgboost-split_1643227225381\\work\\src\\learner.cc:1115: Starting in XGBoost 1.3.0, the default evaluation metric used with the objective 'multi:softprob' was changed from 'merror' to 'mlogloss'. Explicitly set eval_metric if you'd like to restore the old behavior.\n"
     ]
    },
    {
     "name": "stderr",
     "output_type": "stream",
     "text": [
      "C:\\Users\\UMANG\\anaconda3\\lib\\site-packages\\xgboost\\sklearn.py:1224: UserWarning: The use of label encoder in XGBClassifier is deprecated and will be removed in a future release. To remove this warning, do the following: 1) Pass option use_label_encoder=False when constructing XGBClassifier object; and 2) Encode your labels (y) as integers starting with 0, i.e. 0, 1, 2, ..., [num_class - 1].\n",
      "  warnings.warn(label_encoder_deprecation_msg, UserWarning)\n"
     ]
    },
    {
     "name": "stdout",
     "output_type": "stream",
     "text": [
      "[15:12:35] WARNING: D:\\bld\\xgboost-split_1643227225381\\work\\src\\learner.cc:1115: Starting in XGBoost 1.3.0, the default evaluation metric used with the objective 'multi:softprob' was changed from 'merror' to 'mlogloss'. Explicitly set eval_metric if you'd like to restore the old behavior.\n"
     ]
    },
    {
     "name": "stderr",
     "output_type": "stream",
     "text": [
      "C:\\Users\\UMANG\\anaconda3\\lib\\site-packages\\xgboost\\sklearn.py:1224: UserWarning: The use of label encoder in XGBClassifier is deprecated and will be removed in a future release. To remove this warning, do the following: 1) Pass option use_label_encoder=False when constructing XGBClassifier object; and 2) Encode your labels (y) as integers starting with 0, i.e. 0, 1, 2, ..., [num_class - 1].\n",
      "  warnings.warn(label_encoder_deprecation_msg, UserWarning)\n"
     ]
    },
    {
     "name": "stdout",
     "output_type": "stream",
     "text": [
      "[15:16:04] WARNING: D:\\bld\\xgboost-split_1643227225381\\work\\src\\learner.cc:1115: Starting in XGBoost 1.3.0, the default evaluation metric used with the objective 'multi:softprob' was changed from 'merror' to 'mlogloss'. Explicitly set eval_metric if you'd like to restore the old behavior.\n"
     ]
    },
    {
     "name": "stderr",
     "output_type": "stream",
     "text": [
      "C:\\Users\\UMANG\\anaconda3\\lib\\site-packages\\xgboost\\sklearn.py:1224: UserWarning: The use of label encoder in XGBClassifier is deprecated and will be removed in a future release. To remove this warning, do the following: 1) Pass option use_label_encoder=False when constructing XGBClassifier object; and 2) Encode your labels (y) as integers starting with 0, i.e. 0, 1, 2, ..., [num_class - 1].\n",
      "  warnings.warn(label_encoder_deprecation_msg, UserWarning)\n"
     ]
    },
    {
     "name": "stdout",
     "output_type": "stream",
     "text": [
      "[15:19:31] WARNING: D:\\bld\\xgboost-split_1643227225381\\work\\src\\learner.cc:1115: Starting in XGBoost 1.3.0, the default evaluation metric used with the objective 'multi:softprob' was changed from 'merror' to 'mlogloss'. Explicitly set eval_metric if you'd like to restore the old behavior.\n"
     ]
    },
    {
     "name": "stderr",
     "output_type": "stream",
     "text": [
      "C:\\Users\\UMANG\\anaconda3\\lib\\site-packages\\xgboost\\sklearn.py:1224: UserWarning: The use of label encoder in XGBClassifier is deprecated and will be removed in a future release. To remove this warning, do the following: 1) Pass option use_label_encoder=False when constructing XGBClassifier object; and 2) Encode your labels (y) as integers starting with 0, i.e. 0, 1, 2, ..., [num_class - 1].\n",
      "  warnings.warn(label_encoder_deprecation_msg, UserWarning)\n"
     ]
    },
    {
     "name": "stdout",
     "output_type": "stream",
     "text": [
      "[15:22:56] WARNING: D:\\bld\\xgboost-split_1643227225381\\work\\src\\learner.cc:1115: Starting in XGBoost 1.3.0, the default evaluation metric used with the objective 'multi:softprob' was changed from 'merror' to 'mlogloss'. Explicitly set eval_metric if you'd like to restore the old behavior.\n"
     ]
    },
    {
     "name": "stderr",
     "output_type": "stream",
     "text": [
      "C:\\Users\\UMANG\\anaconda3\\lib\\site-packages\\xgboost\\sklearn.py:1224: UserWarning: The use of label encoder in XGBClassifier is deprecated and will be removed in a future release. To remove this warning, do the following: 1) Pass option use_label_encoder=False when constructing XGBClassifier object; and 2) Encode your labels (y) as integers starting with 0, i.e. 0, 1, 2, ..., [num_class - 1].\n",
      "  warnings.warn(label_encoder_deprecation_msg, UserWarning)\n"
     ]
    },
    {
     "name": "stdout",
     "output_type": "stream",
     "text": [
      "[15:26:24] WARNING: D:\\bld\\xgboost-split_1643227225381\\work\\src\\learner.cc:1115: Starting in XGBoost 1.3.0, the default evaluation metric used with the objective 'multi:softprob' was changed from 'merror' to 'mlogloss'. Explicitly set eval_metric if you'd like to restore the old behavior.\n"
     ]
    },
    {
     "name": "stderr",
     "output_type": "stream",
     "text": [
      "C:\\Users\\UMANG\\anaconda3\\lib\\site-packages\\xgboost\\sklearn.py:1224: UserWarning: The use of label encoder in XGBClassifier is deprecated and will be removed in a future release. To remove this warning, do the following: 1) Pass option use_label_encoder=False when constructing XGBClassifier object; and 2) Encode your labels (y) as integers starting with 0, i.e. 0, 1, 2, ..., [num_class - 1].\n",
      "  warnings.warn(label_encoder_deprecation_msg, UserWarning)\n"
     ]
    },
    {
     "name": "stdout",
     "output_type": "stream",
     "text": [
      "[15:29:52] WARNING: D:\\bld\\xgboost-split_1643227225381\\work\\src\\learner.cc:1115: Starting in XGBoost 1.3.0, the default evaluation metric used with the objective 'multi:softprob' was changed from 'merror' to 'mlogloss'. Explicitly set eval_metric if you'd like to restore the old behavior.\n"
     ]
    },
    {
     "name": "stderr",
     "output_type": "stream",
     "text": [
      "C:\\Users\\UMANG\\anaconda3\\lib\\site-packages\\xgboost\\sklearn.py:1224: UserWarning: The use of label encoder in XGBClassifier is deprecated and will be removed in a future release. To remove this warning, do the following: 1) Pass option use_label_encoder=False when constructing XGBClassifier object; and 2) Encode your labels (y) as integers starting with 0, i.e. 0, 1, 2, ..., [num_class - 1].\n",
      "  warnings.warn(label_encoder_deprecation_msg, UserWarning)\n"
     ]
    },
    {
     "name": "stdout",
     "output_type": "stream",
     "text": [
      "[15:33:18] WARNING: D:\\bld\\xgboost-split_1643227225381\\work\\src\\learner.cc:1115: Starting in XGBoost 1.3.0, the default evaluation metric used with the objective 'multi:softprob' was changed from 'merror' to 'mlogloss'. Explicitly set eval_metric if you'd like to restore the old behavior.\n"
     ]
    },
    {
     "name": "stderr",
     "output_type": "stream",
     "text": [
      "C:\\Users\\UMANG\\anaconda3\\lib\\site-packages\\xgboost\\sklearn.py:1224: UserWarning: The use of label encoder in XGBClassifier is deprecated and will be removed in a future release. To remove this warning, do the following: 1) Pass option use_label_encoder=False when constructing XGBClassifier object; and 2) Encode your labels (y) as integers starting with 0, i.e. 0, 1, 2, ..., [num_class - 1].\n",
      "  warnings.warn(label_encoder_deprecation_msg, UserWarning)\n"
     ]
    },
    {
     "name": "stdout",
     "output_type": "stream",
     "text": [
      "[15:36:45] WARNING: D:\\bld\\xgboost-split_1643227225381\\work\\src\\learner.cc:1115: Starting in XGBoost 1.3.0, the default evaluation metric used with the objective 'multi:softprob' was changed from 'merror' to 'mlogloss'. Explicitly set eval_metric if you'd like to restore the old behavior.\n"
     ]
    },
    {
     "name": "stderr",
     "output_type": "stream",
     "text": [
      "C:\\Users\\UMANG\\anaconda3\\lib\\site-packages\\xgboost\\sklearn.py:1224: UserWarning: The use of label encoder in XGBClassifier is deprecated and will be removed in a future release. To remove this warning, do the following: 1) Pass option use_label_encoder=False when constructing XGBClassifier object; and 2) Encode your labels (y) as integers starting with 0, i.e. 0, 1, 2, ..., [num_class - 1].\n",
      "  warnings.warn(label_encoder_deprecation_msg, UserWarning)\n"
     ]
    },
    {
     "name": "stdout",
     "output_type": "stream",
     "text": [
      "[15:40:15] WARNING: D:\\bld\\xgboost-split_1643227225381\\work\\src\\learner.cc:1115: Starting in XGBoost 1.3.0, the default evaluation metric used with the objective 'multi:softprob' was changed from 'merror' to 'mlogloss'. Explicitly set eval_metric if you'd like to restore the old behavior.\n"
     ]
    },
    {
     "name": "stderr",
     "output_type": "stream",
     "text": [
      "C:\\Users\\UMANG\\anaconda3\\lib\\site-packages\\xgboost\\sklearn.py:1224: UserWarning: The use of label encoder in XGBClassifier is deprecated and will be removed in a future release. To remove this warning, do the following: 1) Pass option use_label_encoder=False when constructing XGBClassifier object; and 2) Encode your labels (y) as integers starting with 0, i.e. 0, 1, 2, ..., [num_class - 1].\n",
      "  warnings.warn(label_encoder_deprecation_msg, UserWarning)\n"
     ]
    },
    {
     "name": "stdout",
     "output_type": "stream",
     "text": [
      "[15:44:00] WARNING: D:\\bld\\xgboost-split_1643227225381\\work\\src\\learner.cc:1115: Starting in XGBoost 1.3.0, the default evaluation metric used with the objective 'multi:softprob' was changed from 'merror' to 'mlogloss'. Explicitly set eval_metric if you'd like to restore the old behavior.\n"
     ]
    },
    {
     "name": "stderr",
     "output_type": "stream",
     "text": [
      "C:\\Users\\UMANG\\anaconda3\\lib\\site-packages\\xgboost\\sklearn.py:1224: UserWarning: The use of label encoder in XGBClassifier is deprecated and will be removed in a future release. To remove this warning, do the following: 1) Pass option use_label_encoder=False when constructing XGBClassifier object; and 2) Encode your labels (y) as integers starting with 0, i.e. 0, 1, 2, ..., [num_class - 1].\n",
      "  warnings.warn(label_encoder_deprecation_msg, UserWarning)\n"
     ]
    },
    {
     "name": "stdout",
     "output_type": "stream",
     "text": [
      "[15:47:44] WARNING: D:\\bld\\xgboost-split_1643227225381\\work\\src\\learner.cc:1115: Starting in XGBoost 1.3.0, the default evaluation metric used with the objective 'multi:softprob' was changed from 'merror' to 'mlogloss'. Explicitly set eval_metric if you'd like to restore the old behavior.\n"
     ]
    },
    {
     "name": "stderr",
     "output_type": "stream",
     "text": [
      "C:\\Users\\UMANG\\anaconda3\\lib\\site-packages\\xgboost\\sklearn.py:1224: UserWarning: The use of label encoder in XGBClassifier is deprecated and will be removed in a future release. To remove this warning, do the following: 1) Pass option use_label_encoder=False when constructing XGBClassifier object; and 2) Encode your labels (y) as integers starting with 0, i.e. 0, 1, 2, ..., [num_class - 1].\n",
      "  warnings.warn(label_encoder_deprecation_msg, UserWarning)\n"
     ]
    },
    {
     "name": "stdout",
     "output_type": "stream",
     "text": [
      "[15:51:28] WARNING: D:\\bld\\xgboost-split_1643227225381\\work\\src\\learner.cc:1115: Starting in XGBoost 1.3.0, the default evaluation metric used with the objective 'multi:softprob' was changed from 'merror' to 'mlogloss'. Explicitly set eval_metric if you'd like to restore the old behavior.\n"
     ]
    },
    {
     "name": "stderr",
     "output_type": "stream",
     "text": [
      "C:\\Users\\UMANG\\anaconda3\\lib\\site-packages\\xgboost\\sklearn.py:1224: UserWarning: The use of label encoder in XGBClassifier is deprecated and will be removed in a future release. To remove this warning, do the following: 1) Pass option use_label_encoder=False when constructing XGBClassifier object; and 2) Encode your labels (y) as integers starting with 0, i.e. 0, 1, 2, ..., [num_class - 1].\n",
      "  warnings.warn(label_encoder_deprecation_msg, UserWarning)\n"
     ]
    },
    {
     "name": "stdout",
     "output_type": "stream",
     "text": [
      "[15:55:08] WARNING: D:\\bld\\xgboost-split_1643227225381\\work\\src\\learner.cc:1115: Starting in XGBoost 1.3.0, the default evaluation metric used with the objective 'multi:softprob' was changed from 'merror' to 'mlogloss'. Explicitly set eval_metric if you'd like to restore the old behavior.\n"
     ]
    },
    {
     "name": "stderr",
     "output_type": "stream",
     "text": [
      "C:\\Users\\UMANG\\anaconda3\\lib\\site-packages\\xgboost\\sklearn.py:1224: UserWarning: The use of label encoder in XGBClassifier is deprecated and will be removed in a future release. To remove this warning, do the following: 1) Pass option use_label_encoder=False when constructing XGBClassifier object; and 2) Encode your labels (y) as integers starting with 0, i.e. 0, 1, 2, ..., [num_class - 1].\n",
      "  warnings.warn(label_encoder_deprecation_msg, UserWarning)\n"
     ]
    },
    {
     "name": "stdout",
     "output_type": "stream",
     "text": [
      "[15:58:57] WARNING: D:\\bld\\xgboost-split_1643227225381\\work\\src\\learner.cc:1115: Starting in XGBoost 1.3.0, the default evaluation metric used with the objective 'multi:softprob' was changed from 'merror' to 'mlogloss'. Explicitly set eval_metric if you'd like to restore the old behavior.\n",
      "Accuracy: 95.66782 %\n",
      "Best Parameters:  {'gamma': 0}\n"
     ]
    }
   ],
   "source": [
    "parameters = {'gamma':[0, 10, 50, 100, 200]}\n",
    "\n",
    "grid_search = GridSearchCV(estimator=xgb,\n",
    "                           param_grid=parameters, \n",
    "                           scoring='accuracy', \n",
    "                           cv=3)\n",
    "\n",
    "grid_search.fit(X_train, y_train)\n",
    "best_accuracy = grid_search.best_score_\n",
    "best_parameters = grid_search.best_params_\n",
    "\n",
    "print('Accuracy: {:.5f} %' .format(best_accuracy*100))\n",
    "print('Best Parameters: ', best_parameters)"
   ]
  },
  {
   "cell_type": "code",
   "execution_count": 66,
   "id": "1276446e",
   "metadata": {},
   "outputs": [
    {
     "name": "stderr",
     "output_type": "stream",
     "text": [
      "C:\\Users\\UMANG\\anaconda3\\lib\\site-packages\\xgboost\\sklearn.py:1224: UserWarning: The use of label encoder in XGBClassifier is deprecated and will be removed in a future release. To remove this warning, do the following: 1) Pass option use_label_encoder=False when constructing XGBClassifier object; and 2) Encode your labels (y) as integers starting with 0, i.e. 0, 1, 2, ..., [num_class - 1].\n",
      "  warnings.warn(label_encoder_deprecation_msg, UserWarning)\n"
     ]
    },
    {
     "name": "stdout",
     "output_type": "stream",
     "text": [
      "[16:07:32] WARNING: D:\\bld\\xgboost-split_1643227225381\\work\\src\\learner.cc:1115: Starting in XGBoost 1.3.0, the default evaluation metric used with the objective 'multi:softprob' was changed from 'merror' to 'mlogloss'. Explicitly set eval_metric if you'd like to restore the old behavior.\n"
     ]
    }
   ],
   "source": [
    "xgb = XGBClassifier(gamma=0)\n",
    "\n",
    "xgb.fit(X_train, y_train)\n",
    "y_pred7 = xgb.predict(X_test)"
   ]
  },
  {
   "cell_type": "code",
   "execution_count": 67,
   "id": "379d7568",
   "metadata": {},
   "outputs": [
    {
     "name": "stdout",
     "output_type": "stream",
     "text": [
      "\n",
      "\n",
      "              precision    recall  f1-score   support\n",
      "\n",
      "           0       0.98      0.99      0.98      1764\n",
      "           1       0.95      0.96      0.95      1832\n",
      "           2       0.95      0.94      0.94      1818\n",
      "\n",
      "    accuracy                           0.96      5414\n",
      "   macro avg       0.96      0.96      0.96      5414\n",
      "weighted avg       0.96      0.96      0.96      5414\n",
      "\n"
     ]
    },
    {
     "data": {
      "image/png": "[encoded data removed]",
      "text/plain": [
       "<Figure size 432x360 with 2 Axes>"
      ]
     },
     "metadata": {
      "needs_background": "light"
     },
     "output_type": "display_data"
    }
   ],
   "source": [
    "plot_cm(y_test, y_pred7)\n",
    "print('\\n')\n",
    "print(classification_report(y_test, y_pred7))"
   ]
  },
  {
   "cell_type": "code",
   "execution_count": null,
   "id": "0ee8473b",
   "metadata": {},
   "outputs": [],
   "source": []
  }
 ],
 "metadata": {
  "kernelspec": {
   "display_name": "Python 3 (ipykernel)",
   "language": "python",
   "name": "python3"
  },
  "language_info": {
   "codemirror_mode": {
    "name": "ipython",
    "version": 3
   },
   "file_extension": ".py",
   "mimetype": "text/x-python",
   "name": "python",
   "nbconvert_exporter": "python",
   "pygments_lexer": "ipython3",
   "version": "3.9.7"
  }
 },
 "nbformat": 4,
 "nbformat_minor": 5
}
